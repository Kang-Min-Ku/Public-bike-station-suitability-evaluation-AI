{
 "cells": [
  {
   "cell_type": "code",
   "execution_count": 81,
   "metadata": {},
   "outputs": [
    {
     "name": "stdout",
     "output_type": "stream",
     "text": [
      "The autoreload extension is already loaded. To reload it, use:\n",
      "  %reload_ext autoreload\n"
     ]
    }
   ],
   "source": [
    "%load_ext autoreload\n",
    "%autoreload 2\n",
    "import numpy as np\n",
    "import pandas as pd\n",
    "import itertools\n",
    "import os\n",
    "import re\n",
    "import random"
   ]
  },
  {
   "cell_type": "code",
   "execution_count": 87,
   "metadata": {},
   "outputs": [],
   "source": [
    "zooms = [6,7,8]\n",
    "modes = [4,9]\n",
    "metadata = pd.read_csv(\"data/metadata.csv\")\n",
    "match = np.array(list(itertools.product(metadata['station_ID'], zooms)))\n",
    "ratio = 0.75"
   ]
  },
  {
   "cell_type": "code",
   "execution_count": 88,
   "metadata": {},
   "outputs": [
    {
     "data": {
      "text/plain": [
       "(20043, (15032, 2))"
      ]
     },
     "execution_count": 88,
     "metadata": {},
     "output_type": "execute_result"
    }
   ],
   "source": [
    "#choice dataset\n",
    "idxs = random.sample(range(match.shape[0]), int(match.shape[0]*ratio))\n",
    "match_portion = match[idxs]\n",
    "metadata.shape[0]*3, match_portion.shape"
   ]
  },
  {
   "cell_type": "code",
   "execution_count": 92,
   "metadata": {},
   "outputs": [
    {
     "data": {
      "text/plain": [
       "True"
      ]
     },
     "execution_count": 92,
     "metadata": {},
     "output_type": "execute_result"
    }
   ],
   "source": [
    "#check validity\n",
    "set(np.unique(idxs, return_counts=True)[1]) == {1}"
   ]
  },
  {
   "cell_type": "code",
   "execution_count": 93,
   "metadata": {},
   "outputs": [
    {
     "data": {
      "text/html": [
       "<div>\n",
       "<style scoped>\n",
       "    .dataframe tbody tr th:only-of-type {\n",
       "        vertical-align: middle;\n",
       "    }\n",
       "\n",
       "    .dataframe tbody tr th {\n",
       "        vertical-align: top;\n",
       "    }\n",
       "\n",
       "    .dataframe thead th {\n",
       "        text-align: right;\n",
       "    }\n",
       "</style>\n",
       "<table border=\"1\" class=\"dataframe\">\n",
       "  <thead>\n",
       "    <tr style=\"text-align: right;\">\n",
       "      <th></th>\n",
       "      <th>0</th>\n",
       "    </tr>\n",
       "  </thead>\n",
       "  <tbody>\n",
       "    <tr>\n",
       "      <th>0</th>\n",
       "      <td>station_true_140_7_4.png</td>\n",
       "    </tr>\n",
       "    <tr>\n",
       "      <th>1</th>\n",
       "      <td>station_true_140_7_9.png</td>\n",
       "    </tr>\n",
       "    <tr>\n",
       "      <th>2</th>\n",
       "      <td>station_true_1804_8_4.png</td>\n",
       "    </tr>\n",
       "    <tr>\n",
       "      <th>3</th>\n",
       "      <td>station_true_1804_8_9.png</td>\n",
       "    </tr>\n",
       "    <tr>\n",
       "      <th>4</th>\n",
       "      <td>station_false_10027_8_4.png</td>\n",
       "    </tr>\n",
       "  </tbody>\n",
       "</table>\n",
       "</div>"
      ],
      "text/plain": [
       "                             0\n",
       "0     station_true_140_7_4.png\n",
       "1     station_true_140_7_9.png\n",
       "2    station_true_1804_8_4.png\n",
       "3    station_true_1804_8_9.png\n",
       "4  station_false_10027_8_4.png"
      ]
     },
     "execution_count": 93,
     "metadata": {},
     "output_type": "execute_result"
    }
   ],
   "source": [
    "#files for learning\n",
    "learning_files = []\n",
    "for station_ID, zoom in match_portion:\n",
    "    if station_ID < 10000:\n",
    "        label = \"true\"\n",
    "    else:\n",
    "        label = \"false\"\n",
    "\n",
    "    for mode in modes:\n",
    "        file = f\"station_{label}_{station_ID}_{zoom}_{mode}.png\"\n",
    "        learning_files.append(file)\n",
    "learning_files_df = pd.DataFrame(learning_files)\n",
    "learning_files_df.head()"
   ]
  },
  {
   "cell_type": "code",
   "execution_count": 113,
   "metadata": {},
   "outputs": [],
   "source": [
    "#check validity\n",
    "path = \"./data/crop_map/\"\n",
    "is_true_files = True\n",
    "for idx, lf in enumerate(learning_files_df.iloc[:,-1]):\n",
    "    if not os.path.isfile(path + lf):\n",
    "        print(idx)\n",
    "        is_true_files = False\n",
    "\n",
    "is_pair = True\n",
    "pair = {}\n",
    "\n",
    "for lf in learning_files_df.iloc[:,-1]:\n",
    "    expression = r\"station_(?P<label>\\w+)_(?P<station_id>\\d+)_(?P<zoom>\\d+)_(?P<mode>\\w+).png\"\n",
    "    regex = re.compile(expression)\n",
    "    label,station_id,zoom,mode = regex.findall(lf)[0]\n",
    "    if (station_id, zoom) not in pair.keys():\n",
    "        pair[(station_id, zoom)] = [mode]\n",
    "    else:\n",
    "        pair[(station_id, zoom)].append(mode)\n",
    "        \n",
    "if not set([tuple(pv) for pv in pair.values()]) == {('4','9')}:\n",
    "    is_pair = False"
   ]
  },
  {
   "cell_type": "code",
   "execution_count": 114,
   "metadata": {},
   "outputs": [],
   "source": [
    "#save\n",
    "if is_true_files and is_pair:\n",
    "    learning_files_df.to_csv(\"learning_files.csv\", header=False, index=False)"
   ]
  }
 ],
 "metadata": {
  "kernelspec": {
   "display_name": "Python 3.9.7 64-bit",
   "language": "python",
   "name": "python3"
  },
  "language_info": {
   "codemirror_mode": {
    "name": "ipython",
    "version": 3
   },
   "file_extension": ".py",
   "mimetype": "text/x-python",
   "name": "python",
   "nbconvert_exporter": "python",
   "pygments_lexer": "ipython3",
   "version": "3.9.7"
  },
  "orig_nbformat": 4,
  "vscode": {
   "interpreter": {
    "hash": "288b8210f4de69f33d665dad841045d9f17271500d6746fef794a504d0c49d19"
   }
  }
 },
 "nbformat": 4,
 "nbformat_minor": 2
}
