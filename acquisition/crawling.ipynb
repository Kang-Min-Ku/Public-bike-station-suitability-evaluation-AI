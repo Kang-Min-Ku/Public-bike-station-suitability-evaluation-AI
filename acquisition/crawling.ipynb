{
 "cells": [
  {
   "cell_type": "markdown",
   "metadata": {},
   "source": [
    "## Data source\n",
    "\n",
    "[국토정보플랫폼](https://map.ngii.go.kr/mi/openKey/openKeyInfo.do)\n",
    "\n",
    "### manual\n",
    "\n",
    "1. [국토정보플랫폼](https://map.ngii.go.kr/mi/openKey/openKeyInfo.do) 접속\n",
    "2. OpenAPI 인증키 신청\n",
    "3. [크롬드라이버](https://chromedriver.chromium.org/downloads) 다운로드. 자기 chrome과 동일한 버전 다운로드 받아야 함.\n",
    "4. 크롬드라이버는 map.ipynb과 같은 디렉토리에 있어야 함\n",
    "5. 서비스 URL은 https://127.0.0.1:[PORT]\n",
    "6. run_local_server.py 실행 -> PORT 번호 설정해야 함\n",
    "7. 아래 코드 순서대로 실행"
   ]
  },
  {
   "cell_type": "code",
   "execution_count": 2,
   "metadata": {},
   "outputs": [
    {
     "name": "stdout",
     "output_type": "stream",
     "text": [
      "The autoreload extension is already loaded. To reload it, use:\n",
      "  %reload_ext autoreload\n"
     ]
    }
   ],
   "source": [
    "%load_ext autoreload\n",
    "%autoreload 2\n",
    "import selenium\n",
    "from selenium import webdriver\n",
    "from selenium.webdriver import ActionChains\n",
    "\n",
    "from selenium.webdriver.common.keys import Keys\n",
    "from selenium.webdriver.common.by import By\n",
    "\n",
    "from selenium.webdriver.support import expected_conditions as EC\n",
    "from selenium.webdriver.support.ui import Select\n",
    "from selenium.webdriver.support.ui import WebDriverWait\n",
    "\n",
    "import os\n",
    "import cv2\n",
    "import numpy as np\n",
    "import pandas as pd\n",
    "import station as station_\n",
    "from pyproj import Proj, Transformer\n",
    "import util\n",
    "import time\n",
    "\n",
    "#Use argparse\n",
    "AUTH_KEY = [r\"EA3141F848A48130236498BA18E916C3\"]\n",
    "MODE = [4, 9]\n",
    "ZOOM = [5,6,7,8,9]\n",
    "\n",
    "rfile = \"html/map_flexible.html\"\n",
    "wfile = \"html/map_flexible_spc.html\"\n",
    "url = \"http://127.0.0.1:8080/\" + wfile\n",
    "\n",
    "save_dir = \"./data/map/\""
   ]
  },
  {
   "cell_type": "code",
   "execution_count": 24,
   "metadata": {},
   "outputs": [],
   "source": [
    "#false label\n",
    "import pandas as pd\n",
    "df = pd.read_csv(\"./data/false_label.txt\", header=None, delimiter=',')\n",
    "df.columns = ['latitude', 'longitude']"
   ]
  },
  {
   "cell_type": "code",
   "execution_count": 1,
   "metadata": {},
   "outputs": [],
   "source": [
    "%load_ext autoreload\n",
    "%autoreload 2\n",
    "import selenium\n",
    "from selenium import webdriver\n",
    "from selenium.webdriver import ActionChains\n",
    "\n",
    "from selenium.webdriver.common.keys import Keys\n",
    "from selenium.webdriver.common.by import By\n",
    "\n",
    "from selenium.webdriver.support import expected_conditions as EC\n",
    "from selenium.webdriver.support.ui import Select\n",
    "from selenium.webdriver.support.ui import WebDriverWait\n",
    "\n",
    "import os\n",
    "import cv2\n",
    "import numpy as np\n",
    "import pandas as pd\n",
    "import station as station_\n",
    "from pyproj import Proj, Transformer\n",
    "import util\n",
    "import time\n",
    "import re"
   ]
  },
  {
   "cell_type": "code",
   "execution_count": 22,
   "metadata": {},
   "outputs": [],
   "source": [
    "a = pd.read_csv(\"order.csv\", header=None).T.values\n",
    "order = a.flatten()"
   ]
  },
  {
   "cell_type": "code",
   "execution_count": 28,
   "metadata": {},
   "outputs": [
    {
     "name": "stdout",
     "output_type": "stream",
     "text": [
      "True True\n"
     ]
    }
   ],
   "source": [
    "a = pd.read_csv(\"order.csv\", header=None).T.values\n",
    "order = a.flatten()\n",
    "files = np.array(os.listdir(\"./data/crop_map/\"))\n",
    "print(files.shape == order.shape, set(files) == set(order))"
   ]
  },
  {
   "cell_type": "code",
   "execution_count": 27,
   "metadata": {},
   "outputs": [
    {
     "data": {
      "text/plain": [
       "(True, True)"
      ]
     },
     "execution_count": 27,
     "metadata": {},
     "output_type": "execute_result"
    }
   ],
   "source": [
    "files.shape == order.shape, set(files) == set(order)"
   ]
  },
  {
   "cell_type": "code",
   "execution_count": 2,
   "metadata": {},
   "outputs": [
    {
     "data": {
      "text/plain": [
       "42475"
      ]
     },
     "execution_count": 2,
     "metadata": {},
     "output_type": "execute_result"
    }
   ],
   "source": [
    "len(os.listdir(\"./data/crop_map/\"))"
   ]
  },
  {
   "cell_type": "code",
   "execution_count": 3,
   "metadata": {},
   "outputs": [],
   "source": [
    "a = pd.DataFrame(os.listdir(\"./data/crop_map\"))"
   ]
  },
  {
   "cell_type": "code",
   "execution_count": 5,
   "metadata": {},
   "outputs": [],
   "source": [
    "a.to_csv(\"order.csv\", header=False, index=False)"
   ]
  },
  {
   "cell_type": "code",
   "execution_count": 7,
   "metadata": {},
   "outputs": [
    {
     "name": "stdout",
     "output_type": "stream",
     "text": [
      "0 10000 1\n"
     ]
    },
    {
     "ename": "KeyboardInterrupt",
     "evalue": "",
     "output_type": "error",
     "traceback": [
      "\u001b[1;31m---------------------------------------------------------------------------\u001b[0m",
      "\u001b[1;31mKeyboardInterrupt\u001b[0m                         Traceback (most recent call last)",
      "\u001b[1;32m~\\AppData\\Local\\Temp\\ipykernel_5920\\2320021308.py\u001b[0m in \u001b[0;36m<module>\u001b[1;34m\u001b[0m\n\u001b[0;32m     15\u001b[0m     \u001b[1;32mfor\u001b[0m \u001b[0mfile\u001b[0m \u001b[1;32min\u001b[0m \u001b[0mfiles\u001b[0m\u001b[1;33m[\u001b[0m\u001b[0mstart\u001b[0m\u001b[1;33m:\u001b[0m\u001b[0mend\u001b[0m\u001b[1;33m]\u001b[0m\u001b[1;33m:\u001b[0m\u001b[1;33m\u001b[0m\u001b[1;33m\u001b[0m\u001b[0m\n\u001b[0;32m     16\u001b[0m         \u001b[1;32mif\u001b[0m \u001b[0mfile\u001b[0m\u001b[1;33m.\u001b[0m\u001b[0mendswith\u001b[0m\u001b[1;33m(\u001b[0m\u001b[1;34m\".png\"\u001b[0m\u001b[1;33m)\u001b[0m\u001b[1;33m:\u001b[0m\u001b[1;33m\u001b[0m\u001b[1;33m\u001b[0m\u001b[0m\n\u001b[1;32m---> 17\u001b[1;33m             \u001b[0mzip_file\u001b[0m\u001b[1;33m.\u001b[0m\u001b[0mwrite\u001b[0m\u001b[1;33m(\u001b[0m\u001b[0mos\u001b[0m\u001b[1;33m.\u001b[0m\u001b[0mpath\u001b[0m\u001b[1;33m.\u001b[0m\u001b[0mjoin\u001b[0m\u001b[1;33m(\u001b[0m\u001b[0mpath\u001b[0m\u001b[1;33m,\u001b[0m\u001b[0mfile\u001b[0m\u001b[1;33m)\u001b[0m\u001b[1;33m,\u001b[0m \u001b[0mcompress_type\u001b[0m\u001b[1;33m=\u001b[0m\u001b[0mzipfile\u001b[0m\u001b[1;33m.\u001b[0m\u001b[0mZIP_DEFLATED\u001b[0m\u001b[1;33m)\u001b[0m\u001b[1;33m\u001b[0m\u001b[1;33m\u001b[0m\u001b[0m\n\u001b[0m\u001b[0;32m     18\u001b[0m \u001b[1;33m\u001b[0m\u001b[0m\n\u001b[0;32m     19\u001b[0m     \u001b[0mzip_file\u001b[0m\u001b[1;33m.\u001b[0m\u001b[0mclose\u001b[0m\u001b[1;33m(\u001b[0m\u001b[1;33m)\u001b[0m\u001b[1;33m\u001b[0m\u001b[1;33m\u001b[0m\u001b[0m\n",
      "\u001b[1;32mc:\\Users\\netis\\Anaconda3\\lib\\zipfile.py\u001b[0m in \u001b[0;36mwrite\u001b[1;34m(self, filename, arcname, compress_type, compresslevel)\u001b[0m\n\u001b[0;32m   1768\u001b[0m                 \u001b[0mself\u001b[0m\u001b[1;33m.\u001b[0m\u001b[0mstart_dir\u001b[0m \u001b[1;33m=\u001b[0m \u001b[0mself\u001b[0m\u001b[1;33m.\u001b[0m\u001b[0mfp\u001b[0m\u001b[1;33m.\u001b[0m\u001b[0mtell\u001b[0m\u001b[1;33m(\u001b[0m\u001b[1;33m)\u001b[0m\u001b[1;33m\u001b[0m\u001b[1;33m\u001b[0m\u001b[0m\n\u001b[0;32m   1769\u001b[0m         \u001b[1;32melse\u001b[0m\u001b[1;33m:\u001b[0m\u001b[1;33m\u001b[0m\u001b[1;33m\u001b[0m\u001b[0m\n\u001b[1;32m-> 1770\u001b[1;33m             \u001b[1;32mwith\u001b[0m \u001b[0mopen\u001b[0m\u001b[1;33m(\u001b[0m\u001b[0mfilename\u001b[0m\u001b[1;33m,\u001b[0m \u001b[1;34m\"rb\"\u001b[0m\u001b[1;33m)\u001b[0m \u001b[1;32mas\u001b[0m \u001b[0msrc\u001b[0m\u001b[1;33m,\u001b[0m \u001b[0mself\u001b[0m\u001b[1;33m.\u001b[0m\u001b[0mopen\u001b[0m\u001b[1;33m(\u001b[0m\u001b[0mzinfo\u001b[0m\u001b[1;33m,\u001b[0m \u001b[1;34m'w'\u001b[0m\u001b[1;33m)\u001b[0m \u001b[1;32mas\u001b[0m \u001b[0mdest\u001b[0m\u001b[1;33m:\u001b[0m\u001b[1;33m\u001b[0m\u001b[1;33m\u001b[0m\u001b[0m\n\u001b[0m\u001b[0;32m   1771\u001b[0m                 \u001b[0mshutil\u001b[0m\u001b[1;33m.\u001b[0m\u001b[0mcopyfileobj\u001b[0m\u001b[1;33m(\u001b[0m\u001b[0msrc\u001b[0m\u001b[1;33m,\u001b[0m \u001b[0mdest\u001b[0m\u001b[1;33m,\u001b[0m \u001b[1;36m1024\u001b[0m\u001b[1;33m*\u001b[0m\u001b[1;36m8\u001b[0m\u001b[1;33m)\u001b[0m\u001b[1;33m\u001b[0m\u001b[1;33m\u001b[0m\u001b[0m\n\u001b[0;32m   1772\u001b[0m \u001b[1;33m\u001b[0m\u001b[0m\n",
      "\u001b[1;31mKeyboardInterrupt\u001b[0m: "
     ]
    }
   ],
   "source": [
    "import zipfile\n",
    "starts = [0,10000,20000,30000]\n",
    "ends = [10000,20000,30000,40000]\n",
    "idxs = [1,2,3,4]\n",
    "\n",
    "path = \"./data/crop_map/\"\n",
    "out_path = \"./\"\n",
    "files = os.listdir(path)\n",
    "\n",
    "for start, end, idx in zip(starts, ends, idxs):\n",
    "    print(start, end, idx)\n",
    "\n",
    "    zip_file = zipfile.ZipFile(out_path + f\"crop{idx}.zip\", \"w\")\n",
    "\n",
    "    for file in files[start:end]:\n",
    "        if file.endswith(\".png\"):\n",
    "            zip_file.write(os.path.join(path,file), compress_type=zipfile.ZIP_DEFLATED)\n",
    "\n",
    "    zip_file.close()"
   ]
  },
  {
   "cell_type": "code",
   "execution_count": 2,
   "metadata": {},
   "outputs": [],
   "source": [
    "dic = {'true':0, 'false':0}\n",
    "for file in os.listdir('data/crop_map'):\n",
    "    if file == \"desktop.ini\":\n",
    "        continue\n",
    "    expression = r\"station_(?P<label>\\w+)_(?P<station_id>\\d+)_(?P<zoom>\\d+)_(?P<mode>\\w+).png\"\n",
    "    regex = re.compile(expression)\n",
    "    label,station_id,zoom,mode = regex.findall(file)[0]\n",
    "\n",
    "    if label == \"true\":\n",
    "        dic['true'] += 1\n",
    "    else:\n",
    "        dic['false'] += 1"
   ]
  },
  {
   "cell_type": "code",
   "execution_count": 3,
   "metadata": {},
   "outputs": [
    {
     "data": {
      "text/plain": [
       "(4028, 5)"
      ]
     },
     "execution_count": 3,
     "metadata": {},
     "output_type": "execute_result"
    }
   ],
   "source": [
    "metadata = pd.read_csv(\"./data/metadata.csv\")\n",
    "metadata = metadata[metadata['label']==False]\n",
    "metadata.shape"
   ]
  },
  {
   "cell_type": "code",
   "execution_count": 4,
   "metadata": {},
   "outputs": [
    {
     "data": {
      "text/plain": [
       "(array([ 0.,  1.,  2.,  3.,  4.,  5., nan]),\n",
       " array([ 496, 1361, 1031,  364,   76,    3], dtype=int64))"
      ]
     },
     "execution_count": 4,
     "metadata": {},
     "output_type": "execute_result"
    }
   ],
   "source": [
    "label = np.unique(metadata['score'], return_counts=True)[0]\n",
    "count = np.unique(metadata['score'], return_counts=True)[1]\n",
    "nan = count[-1]\n",
    "count = count[:-1]\n",
    "label, count"
   ]
  },
  {
   "cell_type": "code",
   "execution_count": 5,
   "metadata": {},
   "outputs": [],
   "source": [
    "rate = count / count.sum()\n",
    "vcount = count + rate * nan\n",
    "vcount = vcount.astype(np.int32)\n",
    "vcount.sum(), vcount\n",
    "index = range(6)"
   ]
  },
  {
   "cell_type": "code",
   "execution_count": 10,
   "metadata": {},
   "outputs": [
    {
     "data": {
      "image/png": "[encoded data removed]",
      "text/plain": [
       "<Figure size 640x480 with 1 Axes>"
      ]
     },
     "metadata": {},
     "output_type": "display_data"
    },
    {
     "data": {
      "text/plain": [
       "<Figure size 640x480 with 0 Axes>"
      ]
     },
     "metadata": {},
     "output_type": "display_data"
    }
   ],
   "source": [
    "import matplotlib.pyplot as plt\n",
    "plt.figure()\n",
    "plt.title(\"# of data according to false score\")\n",
    "bars = plt.bar(index, vcount)\n",
    "plt.bar_label(bars)\n",
    "plt.xlabel('False score')\n",
    "plt.ylabel('# of data')\n",
    "plt.show()\n",
    "plt.savefig(\"fig.png\")"
   ]
  },
  {
   "cell_type": "code",
   "execution_count": 4,
   "metadata": {},
   "outputs": [
    {
     "data": {
      "text/plain": [
       "[]"
      ]
     },
     "execution_count": 4,
     "metadata": {},
     "output_type": "execute_result"
    }
   ],
   "source": [
    "[[key, value] for key, value in dic.items() if value != 2]"
   ]
  },
  {
   "cell_type": "code",
   "execution_count": 18,
   "metadata": {},
   "outputs": [],
   "source": [
    "#Use argparse\n",
    "AUTH_KEY = [r\"EA3141F848A48130236498BA18E916C3\"]\n",
    "MODE = [4] #[4, 9]\n",
    "ZOOM = [8]\n",
    "\n",
    "rfile = \"html/map_flexible.html\"\n",
    "wfile = \"html/map_flexible_spc.html\"\n",
    "url = \"http://127.0.0.1:8080/\" + wfile\n",
    "\n",
    "save_dir = \"./data/map/\""
   ]
  },
  {
   "cell_type": "code",
   "execution_count": 4,
   "metadata": {},
   "outputs": [],
   "source": [
    "files = [(0,\"./false_label/score0.txt\"),(1, \"./false_label/score1.txt\"),(2, \"./false_label/score2.txt\")]\n",
    "false_df_list = []\n",
    "for idx, file in files:\n",
    "    fd = open(file, 'r')\n",
    "    txt = fd.read()\n",
    "    txt = txt.split(\"\\n\")\n",
    "    txt_parsed = [tt.split(\" \") for tt in txt]\n",
    "    df = pd.DataFrame(txt_parsed, columns=['latitude', 'longitude', 'score'])\n",
    "    df = df.dropna()\n",
    "    df = df.astype({\"score\":np.int32})\n",
    "    df['score'] += idx\n",
    "    false_df_list.append(df)"
   ]
  },
  {
   "cell_type": "code",
   "execution_count": 5,
   "metadata": {},
   "outputs": [
    {
     "data": {
      "text/html": [
       "<div>\n",
       "<style scoped>\n",
       "    .dataframe tbody tr th:only-of-type {\n",
       "        vertical-align: middle;\n",
       "    }\n",
       "\n",
       "    .dataframe tbody tr th {\n",
       "        vertical-align: top;\n",
       "    }\n",
       "\n",
       "    .dataframe thead th {\n",
       "        text-align: right;\n",
       "    }\n",
       "</style>\n",
       "<table border=\"1\" class=\"dataframe\">\n",
       "  <thead>\n",
       "    <tr style=\"text-align: right;\">\n",
       "      <th></th>\n",
       "      <th>latitude</th>\n",
       "      <th>longitude</th>\n",
       "      <th>score</th>\n",
       "      <th>station_ID</th>\n",
       "      <th>label</th>\n",
       "    </tr>\n",
       "  </thead>\n",
       "  <tbody>\n",
       "    <tr>\n",
       "      <th>0</th>\n",
       "      <td>37.5446</td>\n",
       "      <td>127.0708</td>\n",
       "      <td>1</td>\n",
       "      <td>10697</td>\n",
       "      <td>False</td>\n",
       "    </tr>\n",
       "    <tr>\n",
       "      <th>1</th>\n",
       "      <td>37.5529</td>\n",
       "      <td>126.8765</td>\n",
       "      <td>2</td>\n",
       "      <td>10698</td>\n",
       "      <td>False</td>\n",
       "    </tr>\n",
       "    <tr>\n",
       "      <th>2</th>\n",
       "      <td>37.4751</td>\n",
       "      <td>127.1441</td>\n",
       "      <td>0</td>\n",
       "      <td>10699</td>\n",
       "      <td>False</td>\n",
       "    </tr>\n",
       "    <tr>\n",
       "      <th>3</th>\n",
       "      <td>37.5627</td>\n",
       "      <td>127.1564</td>\n",
       "      <td>1</td>\n",
       "      <td>10700</td>\n",
       "      <td>False</td>\n",
       "    </tr>\n",
       "    <tr>\n",
       "      <th>4</th>\n",
       "      <td>37.6416</td>\n",
       "      <td>127.0619</td>\n",
       "      <td>2</td>\n",
       "      <td>10701</td>\n",
       "      <td>False</td>\n",
       "    </tr>\n",
       "  </tbody>\n",
       "</table>\n",
       "</div>"
      ],
      "text/plain": [
       "  latitude longitude  score  station_ID  label\n",
       "0  37.5446  127.0708      1       10697  False\n",
       "1  37.5529  126.8765      2       10698  False\n",
       "2  37.4751  127.1441      0       10699  False\n",
       "3  37.5627  127.1564      1       10700  False\n",
       "4  37.6416  127.0619      2       10701  False"
      ]
     },
     "execution_count": 5,
     "metadata": {},
     "output_type": "execute_result"
    }
   ],
   "source": [
    "tquarter_false_metadata = pd.concat(false_df_list)\n",
    "tquarter_false_metadata['station_ID'] = range(10697, 10697 + tquarter_false_metadata.shape[0])\n",
    "tquarter_false_metadata['label'] = False\n",
    "tquarter_false_metadata.head()"
   ]
  },
  {
   "cell_type": "code",
   "execution_count": 16,
   "metadata": {},
   "outputs": [],
   "source": [
    "station_df = station_.read_station_data('./data/station_2206.csv')\n",
    "station_df = station_.process_station_data(station_df)\n",
    "station_df = station_df.loc[:,['station_ID', 'latitude', 'longitude']]"
   ]
  },
  {
   "cell_type": "code",
   "execution_count": 7,
   "metadata": {},
   "outputs": [],
   "source": [
    "station_df['label'] = True"
   ]
  },
  {
   "cell_type": "code",
   "execution_count": 8,
   "metadata": {},
   "outputs": [
    {
     "data": {
      "text/html": [
       "<div>\n",
       "<style scoped>\n",
       "    .dataframe tbody tr th:only-of-type {\n",
       "        vertical-align: middle;\n",
       "    }\n",
       "\n",
       "    .dataframe tbody tr th {\n",
       "        vertical-align: top;\n",
       "    }\n",
       "\n",
       "    .dataframe thead th {\n",
       "        text-align: right;\n",
       "    }\n",
       "</style>\n",
       "<table border=\"1\" class=\"dataframe\">\n",
       "  <thead>\n",
       "    <tr style=\"text-align: right;\">\n",
       "      <th></th>\n",
       "      <th>station_ID</th>\n",
       "      <th>latitude</th>\n",
       "      <th>longitude</th>\n",
       "      <th>label</th>\n",
       "    </tr>\n",
       "  </thead>\n",
       "  <tbody>\n",
       "    <tr>\n",
       "      <th>0</th>\n",
       "      <td>102</td>\n",
       "      <td>37.555649</td>\n",
       "      <td>126.910629</td>\n",
       "      <td>True</td>\n",
       "    </tr>\n",
       "    <tr>\n",
       "      <th>1</th>\n",
       "      <td>103</td>\n",
       "      <td>37.554951</td>\n",
       "      <td>126.910835</td>\n",
       "      <td>True</td>\n",
       "    </tr>\n",
       "    <tr>\n",
       "      <th>2</th>\n",
       "      <td>104</td>\n",
       "      <td>37.550629</td>\n",
       "      <td>126.914986</td>\n",
       "      <td>True</td>\n",
       "    </tr>\n",
       "    <tr>\n",
       "      <th>3</th>\n",
       "      <td>105</td>\n",
       "      <td>37.550007</td>\n",
       "      <td>126.914825</td>\n",
       "      <td>True</td>\n",
       "    </tr>\n",
       "    <tr>\n",
       "      <th>4</th>\n",
       "      <td>106</td>\n",
       "      <td>37.548645</td>\n",
       "      <td>126.912826</td>\n",
       "      <td>True</td>\n",
       "    </tr>\n",
       "  </tbody>\n",
       "</table>\n",
       "</div>"
      ],
      "text/plain": [
       "   station_ID   latitude   longitude  label\n",
       "0         102  37.555649  126.910629   True\n",
       "1         103  37.554951  126.910835   True\n",
       "2         104  37.550629  126.914986   True\n",
       "3         105  37.550007  126.914825   True\n",
       "4         106  37.548645  126.912826   True"
      ]
     },
     "execution_count": 8,
     "metadata": {},
     "output_type": "execute_result"
    }
   ],
   "source": [
    "station_df.head()"
   ]
  },
  {
   "cell_type": "code",
   "execution_count": 9,
   "metadata": {},
   "outputs": [],
   "source": [
    "last_metadata = pd.read_csv(\"data/random_quarter_metadata.csv\")\n",
    "last_metadata_true = last_metadata[last_metadata['label'] == True]"
   ]
  },
  {
   "cell_type": "code",
   "execution_count": 10,
   "metadata": {},
   "outputs": [],
   "source": [
    "tquarter_true_metadata = pd.merge(station_df, last_metadata_true, how='outer', indicator=True).query(\"_merge=='left_only'\").drop(columns=['_merge'])"
   ]
  },
  {
   "cell_type": "code",
   "execution_count": 11,
   "metadata": {},
   "outputs": [],
   "source": [
    "tquarter_metadata = pd.concat([tquarter_true_metadata, tquarter_false_metadata])"
   ]
  },
  {
   "cell_type": "code",
   "execution_count": 13,
   "metadata": {},
   "outputs": [],
   "source": [
    "tquarter_metadata.to_csv(\"data/three_quarter_metadata.csv\", index=False)"
   ]
  },
  {
   "cell_type": "code",
   "execution_count": 15,
   "metadata": {},
   "outputs": [
    {
     "data": {
      "text/html": [
       "<div>\n",
       "<style scoped>\n",
       "    .dataframe tbody tr th:only-of-type {\n",
       "        vertical-align: middle;\n",
       "    }\n",
       "\n",
       "    .dataframe tbody tr th {\n",
       "        vertical-align: top;\n",
       "    }\n",
       "\n",
       "    .dataframe thead th {\n",
       "        text-align: right;\n",
       "    }\n",
       "</style>\n",
       "<table border=\"1\" class=\"dataframe\">\n",
       "  <thead>\n",
       "    <tr style=\"text-align: right;\">\n",
       "      <th></th>\n",
       "      <th>label</th>\n",
       "      <th>station_ID</th>\n",
       "      <th>latitude</th>\n",
       "      <th>longitude</th>\n",
       "    </tr>\n",
       "  </thead>\n",
       "  <tbody>\n",
       "    <tr>\n",
       "      <th>0</th>\n",
       "      <td>True</td>\n",
       "      <td>107</td>\n",
       "      <td>37.557510</td>\n",
       "      <td>126.918503</td>\n",
       "    </tr>\n",
       "    <tr>\n",
       "      <th>1</th>\n",
       "      <td>True</td>\n",
       "      <td>108</td>\n",
       "      <td>37.552746</td>\n",
       "      <td>126.918617</td>\n",
       "    </tr>\n",
       "    <tr>\n",
       "      <th>2</th>\n",
       "      <td>True</td>\n",
       "      <td>126</td>\n",
       "      <td>37.550411</td>\n",
       "      <td>126.943848</td>\n",
       "    </tr>\n",
       "    <tr>\n",
       "      <th>3</th>\n",
       "      <td>True</td>\n",
       "      <td>128</td>\n",
       "      <td>37.555496</td>\n",
       "      <td>126.936340</td>\n",
       "    </tr>\n",
       "    <tr>\n",
       "      <th>4</th>\n",
       "      <td>True</td>\n",
       "      <td>135</td>\n",
       "      <td>37.559101</td>\n",
       "      <td>126.939178</td>\n",
       "    </tr>\n",
       "    <tr>\n",
       "      <th>...</th>\n",
       "      <td>...</td>\n",
       "      <td>...</td>\n",
       "      <td>...</td>\n",
       "      <td>...</td>\n",
       "    </tr>\n",
       "    <tr>\n",
       "      <th>1189</th>\n",
       "      <td>False</td>\n",
       "      <td>10692</td>\n",
       "      <td>37.530000</td>\n",
       "      <td>126.952600</td>\n",
       "    </tr>\n",
       "    <tr>\n",
       "      <th>1190</th>\n",
       "      <td>False</td>\n",
       "      <td>10693</td>\n",
       "      <td>37.644200</td>\n",
       "      <td>127.053600</td>\n",
       "    </tr>\n",
       "    <tr>\n",
       "      <th>1191</th>\n",
       "      <td>False</td>\n",
       "      <td>10694</td>\n",
       "      <td>37.535700</td>\n",
       "      <td>126.902300</td>\n",
       "    </tr>\n",
       "    <tr>\n",
       "      <th>1192</th>\n",
       "      <td>False</td>\n",
       "      <td>10695</td>\n",
       "      <td>37.547500</td>\n",
       "      <td>126.884000</td>\n",
       "    </tr>\n",
       "    <tr>\n",
       "      <th>1193</th>\n",
       "      <td>False</td>\n",
       "      <td>10696</td>\n",
       "      <td>37.560600</td>\n",
       "      <td>127.071400</td>\n",
       "    </tr>\n",
       "  </tbody>\n",
       "</table>\n",
       "<p>1194 rows × 4 columns</p>\n",
       "</div>"
      ],
      "text/plain": [
       "      label  station_ID   latitude   longitude\n",
       "0      True         107  37.557510  126.918503\n",
       "1      True         108  37.552746  126.918617\n",
       "2      True         126  37.550411  126.943848\n",
       "3      True         128  37.555496  126.936340\n",
       "4      True         135  37.559101  126.939178\n",
       "...     ...         ...        ...         ...\n",
       "1189  False       10692  37.530000  126.952600\n",
       "1190  False       10693  37.644200  127.053600\n",
       "1191  False       10694  37.535700  126.902300\n",
       "1192  False       10695  37.547500  126.884000\n",
       "1193  False       10696  37.560600  127.071400\n",
       "\n",
       "[1194 rows x 4 columns]"
      ]
     },
     "execution_count": 15,
     "metadata": {},
     "output_type": "execute_result"
    }
   ],
   "source": [
    "quarter_metadata = pd.read_csv(\"data/random_quarter_metadata.csv\")\n",
    "quarter_metadata"
   ]
  },
  {
   "cell_type": "code",
   "execution_count": 19,
   "metadata": {},
   "outputs": [],
   "source": [
    "total_metadata = pd.concat([tquarter_metadata, quarter_metadata])"
   ]
  },
  {
   "cell_type": "code",
   "execution_count": 20,
   "metadata": {},
   "outputs": [],
   "source": [
    "total_metadata = total_metadata.reset_index(drop=True)"
   ]
  },
  {
   "cell_type": "code",
   "execution_count": 23,
   "metadata": {},
   "outputs": [],
   "source": [
    "total_metadata = total_metadata.sort_values(by='station_ID')"
   ]
  },
  {
   "cell_type": "code",
   "execution_count": 24,
   "metadata": {},
   "outputs": [],
   "source": [
    "total_metadata.to_csv(\"./data/metadata.csv\",index=False)"
   ]
  },
  {
   "cell_type": "code",
   "execution_count": 20,
   "metadata": {},
   "outputs": [],
   "source": [
    "station_df = pd.read_csv(\"data/three_quarter_metadata.csv\")\n",
    "station_df = station_.process_station_data(station_df)"
   ]
  },
  {
   "cell_type": "code",
   "execution_count": 7,
   "metadata": {},
   "outputs": [
    {
     "data": {
      "text/plain": [
       "station_ID            12541\n",
       "latitude            37.6026\n",
       "longitude          127.0223\n",
       "label                 False\n",
       "score                   1.0\n",
       "x             957833.776603\n",
       "y             1956016.39455\n",
       "Name: 4000, dtype: object"
      ]
     },
     "execution_count": 7,
     "metadata": {},
     "output_type": "execute_result"
    }
   ],
   "source": [
    "station_df.iloc[4000]"
   ]
  },
  {
   "cell_type": "code",
   "execution_count": 22,
   "metadata": {},
   "outputs": [
    {
     "data": {
      "text/plain": [
       "(      station_ID  latitude  longitude  label  score              x  \\\n",
       " 5183       13724   37.4976   127.1328  False    2.0  967542.067938   \n",
       " \n",
       "                  y  \n",
       " 5183  1.944323e+06  ,\n",
       " (5487, 7))"
      ]
     },
     "execution_count": 22,
     "metadata": {},
     "output_type": "execute_result"
    }
   ],
   "source": [
    "station_df[station_df['station_ID']==13724], station_df.shape"
   ]
  },
  {
   "cell_type": "code",
   "execution_count": 23,
   "metadata": {},
   "outputs": [
    {
     "data": {
      "text/plain": [
       "station_ID            13724\n",
       "latitude            37.4976\n",
       "longitude          127.1328\n",
       "label                 False\n",
       "score                   2.0\n",
       "x             967542.067938\n",
       "y             1944323.37325\n",
       "Name: 5183, dtype: object"
      ]
     },
     "execution_count": 23,
     "metadata": {},
     "output_type": "execute_result"
    }
   ],
   "source": [
    "station_df.iloc[5183]"
   ]
  },
  {
   "cell_type": "code",
   "execution_count": 26,
   "metadata": {},
   "outputs": [
    {
     "data": {
      "text/plain": [
       "0        102\n",
       "1        103\n",
       "2        104\n",
       "3        105\n",
       "4        106\n",
       "        ... \n",
       "1995    4589\n",
       "1996    4591\n",
       "1997    4594\n",
       "1998    4598\n",
       "1999    4599\n",
       "Name: station_ID, Length: 2000, dtype: int64"
      ]
     },
     "execution_count": 26,
     "metadata": {},
     "output_type": "execute_result"
    }
   ],
   "source": [
    "station_df['station_ID'][:2000]"
   ]
  },
  {
   "cell_type": "code",
   "execution_count": 13,
   "metadata": {},
   "outputs": [],
   "source": [
    "pd.DataFrame(os.listdir('data/map')).to_csv(\"hello.csv\")"
   ]
  },
  {
   "cell_type": "code",
   "execution_count": 109,
   "metadata": {},
   "outputs": [
    {
     "name": "stdout",
     "output_type": "stream",
     "text": [
      "{'latitude': 37.5409, 'longitude': 127.0485, 'x': 960113.5517086817, 'y': 1949159.6521528624, 'station_ID': 10000.0} ('EA3141F848A48130236498BA18E916C3', 9, 6, 10000, 960113.5517086817, 1949159.6521528624)\n"
     ]
    },
    {
     "ename": "AttributeError",
     "evalue": "'WebDriver' object has no attribute 'find_element_by_xpath'",
     "output_type": "error",
     "traceback": [
      "\u001b[1;31m---------------------------------------------------------------------------\u001b[0m",
      "\u001b[1;31mAttributeError\u001b[0m                            Traceback (most recent call last)",
      "Cell \u001b[1;32mIn [109], line 14\u001b[0m\n\u001b[0;32m     12\u001b[0m driver\u001b[39m.\u001b[39mrefresh()\n\u001b[0;32m     13\u001b[0m time\u001b[39m.\u001b[39msleep(\u001b[39m1.5\u001b[39m)\n\u001b[1;32m---> 14\u001b[0m canvas \u001b[39m=\u001b[39m driver\u001b[39m.\u001b[39mfind_element_by_xpath(\u001b[39mr\u001b[39m\u001b[39m'\u001b[39m\u001b[39m//*[@id=\u001b[39m\u001b[39m\"\u001b[39m\u001b[39mmap1\u001b[39m\u001b[39m\"\u001b[39m\u001b[39m]/div/div[1]/div/canvas\u001b[39m\u001b[39m'\u001b[39m)\n\u001b[0;32m     15\u001b[0m canvas\u001b[39m.\u001b[39mscreenshot(save_dir \u001b[39m+\u001b[39m \u001b[39mf\u001b[39m\u001b[39m\"\u001b[39m\u001b[39mstation_false_\u001b[39m\u001b[39m{\u001b[39;00mstation[\u001b[39m'\u001b[39m\u001b[39mstation_ID\u001b[39m\u001b[39m'\u001b[39m]\u001b[39m}\u001b[39;00m\u001b[39m_\u001b[39m\u001b[39m{\u001b[39;00mwords[\u001b[39m2\u001b[39m]\u001b[39m}\u001b[39;00m\u001b[39m_\u001b[39m\u001b[39m{\u001b[39;00mwords[\u001b[39m1\u001b[39m]\u001b[39m}\u001b[39;00m\u001b[39m.png\u001b[39m\u001b[39m\"\u001b[39m)\n",
      "\u001b[1;31mAttributeError\u001b[0m: 'WebDriver' object has no attribute 'find_element_by_xpath'"
     ]
    }
   ],
   "source": [
    "#crawl false data\n",
    "words_list = util.cartesian_product(AUTH_KEY, MODE, ZOOM, [station_false_df['station_ID'][0]])\n",
    "driver = webdriver.Chrome(executable_path='chromedriver')\n",
    "driver.get(url=url)\n",
    "time.sleep(1.5)\n",
    "for words in words_list:\n",
    "    station = dict(zip(station_false_df.columns, station_false_df[station_false_df['station_ID']==words[-1]].values[0]))\n",
    "    words += (station['x'], station['y'])\n",
    "    print(station, words)\n",
    "    util.specify_file(rfile, wfile,[\"<API_KEY>\",\"<MODE>\",\"<ZOOM>\",\"<NOT_TOKEN>\",\"<X_COORD>\",\"<Y_COORD>\"],words)\n",
    "    time.sleep(1)\n",
    "    driver.refresh()\n",
    "    time.sleep(1.5)\n",
    "    canvas = driver.find_element_by_xpath(r'//*[@id=\"map1\"]/div/div[1]/div/canvas')\n",
    "    canvas.screenshot(save_dir + f\"station_false_{station['station_ID']}_{words[2]}_{words[1]}.png\")"
   ]
  },
  {
   "cell_type": "code",
   "execution_count": 25,
   "metadata": {},
   "outputs": [
    {
     "name": "stdout",
     "output_type": "stream",
     "text": [
      "{'station_ID': 13724, 'latitude': 37.4976, 'longitude': 127.1328, 'label': False, 'score': 2.0, 'x': 967542.0679382078, 'y': 1944323.3732500689} ('EA3141F848A48130236498BA18E916C3', 4, 8, 13724, 967542.0679382078, 1944323.3732500689)\n",
      "{'station_ID': 13725, 'latitude': 37.4651, 'longitude': 126.9316, 'label': False, 'score': 2.0, 'x': 949735.4916334697, 'y': 1940806.0958323292} ('EA3141F848A48130236498BA18E916C3', 4, 8, 13725, 949735.4916334697, 1940806.0958323292)\n",
      "{'station_ID': 13726, 'latitude': 37.5162, 'longitude': 127.1123, 'label': False, 'score': 2.0, 'x': 965738.5049180777, 'y': 1946394.1878993283} ('EA3141F848A48130236498BA18E916C3', 4, 8, 13726, 965738.5049180777, 1946394.1878993283)\n",
      "{'station_ID': 13727, 'latitude': 37.5567, 'longitude': 126.9769, 'label': False, 'score': 2.0, 'x': 953797.9699752614, 'y': 1950945.3601418633} ('EA3141F848A48130236498BA18E916C3', 4, 8, 13727, 953797.9699752614, 1950945.3601418633)\n",
      "{'station_ID': 13728, 'latitude': 37.5465, 'longitude': 126.9338, 'label': False, 'score': 2.0, 'x': 949984.3796547663, 'y': 1949835.7792231787} ('EA3141F848A48130236498BA18E916C3', 4, 8, 13728, 949984.3796547663, 1949835.7792231787)\n",
      "{'station_ID': 13729, 'latitude': 37.6117, 'longitude': 126.9188, 'label': False, 'score': 2.0, 'x': 948704.0849325986, 'y': 1957077.518557535} ('EA3141F848A48130236498BA18E916C3', 4, 8, 13729, 948704.0849325986, 1957077.518557535)\n",
      "{'station_ID': 13730, 'latitude': 37.5388, 'longitude': 127.0033, 'label': False, 'score': 2.0, 'x': 956119.2342548799, 'y': 1948946.802143222} ('EA3141F848A48130236498BA18E916C3', 4, 8, 13730, 956119.2342548799, 1948946.802143222)\n",
      "{'station_ID': 13731, 'latitude': 37.5698, 'longitude': 126.9008, 'label': False, 'score': 3.0, 'x': 947085.7575469709, 'y': 1952438.8724488667} ('EA3141F848A48130236498BA18E916C3', 4, 8, 13731, 947085.7575469709, 1952438.8724488667)\n",
      "{'station_ID': 13732, 'latitude': 37.496, 'longitude': 126.8451, 'label': False, 'score': 2.0, 'x': 942109.9230686207, 'y': 1944283.9446507092} ('EA3141F848A48130236498BA18E916C3', 4, 8, 13732, 942109.9230686207, 1944283.9446507092)\n",
      "{'station_ID': 13733, 'latitude': 37.5525, 'longitude': 127.0909, 'label': False, 'score': 2.0, 'x': 963864.8731995926, 'y': 1950429.4642447145} ('EA3141F848A48130236498BA18E916C3', 4, 8, 13733, 963864.8731995926, 1950429.4642447145)\n",
      "{'station_ID': 13734, 'latitude': 37.5575, 'longitude': 127.0789, 'label': False, 'score': 1.0, 'x': 962807.4132036094, 'y': 1950988.8669594734} ('EA3141F848A48130236498BA18E916C3', 4, 8, 13734, 962807.4132036094, 1950988.8669594734)\n",
      "{'station_ID': 13735, 'latitude': 37.4691, 'longitude': 127.126, 'label': False, 'score': 4.0, 'x': 966928.4331204346, 'y': 1941163.8659246152} ('EA3141F848A48130236498BA18E916C3', 4, 8, 13735, 966928.4331204346, 1941163.8659246152)\n",
      "{'station_ID': 13736, 'latitude': 37.5187, 'longitude': 126.8383, 'label': False, 'score': 2.0, 'x': 941526.5377833155, 'y': 1946806.5937165448} ('EA3141F848A48130236498BA18E916C3', 4, 8, 13736, 941526.5377833155, 1946806.5937165448)\n",
      "{'station_ID': 13737, 'latitude': 37.5899, 'longitude': 126.9446, 'label': False, 'score': 2.0, 'x': 950966.8707738728, 'y': 1954645.1135199678} ('EA3141F848A48130236498BA18E916C3', 4, 8, 13737, 950966.8707738728, 1954645.1135199678)\n",
      "{'station_ID': 13738, 'latitude': 37.6044, 'longitude': 127.0484, 'label': False, 'score': 2.0, 'x': 960138.5773218567, 'y': 1956204.6959109746} ('EA3141F848A48130236498BA18E916C3', 4, 8, 13738, 960138.5773218567, 1956204.6959109746)\n",
      "{'station_ID': 13739, 'latitude': 37.5464, 'longitude': 127.0566, 'label': False, 'score': 2.0, 'x': 960832.0038721501, 'y': 1949766.440802915} ('EA3141F848A48130236498BA18E916C3', 4, 8, 13739, 960832.0038721501, 1949766.440802915)\n",
      "{'station_ID': 13740, 'latitude': 37.5997, 'longitude': 126.91, 'label': False, 'score': 2.0, 'x': 947919.0357901391, 'y': 1955751.0096682827} ('EA3141F848A48130236498BA18E916C3', 4, 8, 13740, 947919.0357901391, 1955751.0096682827)\n",
      "{'station_ID': 13741, 'latitude': 37.4967, 'longitude': 127.1538, 'label': False, 'score': 2.0, 'x': 969397.9610525019, 'y': 1944216.4896973486} ('EA3141F848A48130236498BA18E916C3', 4, 8, 13741, 969397.9610525019, 1944216.4896973486)\n",
      "{'station_ID': 13742, 'latitude': 37.4986, 'longitude': 127.1136, 'label': False, 'score': 2.0, 'x': 965845.3700613719, 'y': 1944441.11072785} ('EA3141F848A48130236498BA18E916C3', 4, 8, 13742, 965845.3700613719, 1944441.11072785)\n",
      "{'station_ID': 13743, 'latitude': 37.5814, 'longitude': 126.8803, 'label': False, 'score': 3.0, 'x': 945283.9111471215, 'y': 1953737.5846855736} ('EA3141F848A48130236498BA18E916C3', 4, 8, 13743, 945283.9111471215, 1953737.5846855736)\n",
      "{'station_ID': 13744, 'latitude': 37.5748, 'longitude': 126.9828, 'label': False, 'score': 2.0, 'x': 954330.1341275825, 'y': 1952950.5818445066} ('EA3141F848A48130236498BA18E916C3', 4, 8, 13744, 954330.1341275825, 1952950.5818445066)\n",
      "{'station_ID': 13745, 'latitude': 37.5877, 'longitude': 127.0582, 'label': False, 'score': 3.0, 'x': 960994.8830945794, 'y': 1954347.7940118918} ('EA3141F848A48130236498BA18E916C3', 4, 8, 13745, 960994.8830945794, 1954347.7940118918)\n",
      "{'station_ID': 13746, 'latitude': 37.549, 'longitude': 127.0052, 'label': False, 'score': 2.0, 'x': 956293.0454055258, 'y': 1950077.5515466072} ('EA3141F848A48130236498BA18E916C3', 4, 8, 13746, 956293.0454055258, 1950077.5515466072)\n",
      "{'station_ID': 13747, 'latitude': 37.5033, 'longitude': 126.9976, 'label': False, 'score': 3.0, 'x': 955594.632464673, 'y': 1945010.9599957757} ('EA3141F848A48130236498BA18E916C3', 4, 8, 13747, 955594.632464673, 1945010.9599957757)\n",
      "{'station_ID': 13748, 'latitude': 37.5265, 'longitude': 127.0404, 'label': False, 'score': 2.0, 'x': 959390.1693879273, 'y': 1947565.522387862} ('EA3141F848A48130236498BA18E916C3', 4, 8, 13748, 959390.1693879273, 1947565.522387862)\n",
      "{'station_ID': 13749, 'latitude': 37.6023, 'longitude': 126.9366, 'label': False, 'score': 2.0, 'x': 950268.843570445, 'y': 1956025.048438014} ('EA3141F848A48130236498BA18E916C3', 4, 8, 13749, 950268.843570445, 1956025.048438014)\n",
      "{'station_ID': 13750, 'latitude': 37.6176, 'longitude': 126.9226, 'label': False, 'score': 2.0, 'x': 949043.4970019496, 'y': 1957730.031838586} ('EA3141F848A48130236498BA18E916C3', 4, 8, 13750, 949043.4970019496, 1957730.031838586)\n",
      "{'station_ID': 13751, 'latitude': 37.5714, 'longitude': 126.9138, 'label': False, 'score': 2.0, 'x': 948234.8813866174, 'y': 1952609.143989886} ('EA3141F848A48130236498BA18E916C3', 4, 8, 13751, 948234.8813866174, 1952609.143989886)\n",
      "{'station_ID': 13752, 'latitude': 37.5583, 'longitude': 127.0875, 'label': False, 'score': 2.0, 'x': 963567.3792923759, 'y': 1951074.2543343124} ('EA3141F848A48130236498BA18E916C3', 4, 8, 13752, 963567.3792923759, 1951074.2543343124)\n",
      "{'station_ID': 13753, 'latitude': 37.6141, 'longitude': 127.0414, 'label': False, 'score': 2.0, 'x': 959525.9611047946, 'y': 1957283.8631958864} ('EA3141F848A48130236498BA18E916C3', 4, 8, 13753, 959525.9611047946, 1957283.8631958864)\n",
      "{'station_ID': 13754, 'latitude': 37.4948, 'longitude': 126.9605, 'label': False, 'score': 3.0, 'x': 952310.0640251415, 'y': 1944086.08891478} ('EA3141F848A48130236498BA18E916C3', 4, 8, 13754, 952310.0640251415, 1944086.08891478)\n",
      "{'station_ID': 13755, 'latitude': 37.5904, 'longitude': 127.0572, 'label': False, 'score': 2.0, 'x': 960908.0080050074, 'y': 1954647.76171775} ('EA3141F848A48130236498BA18E916C3', 4, 8, 13755, 960908.0080050074, 1954647.76171775)\n",
      "{'station_ID': 13756, 'latitude': 37.5665, 'longitude': 127.0087, 'label': False, 'score': 2.0, 'x': 956612.3597510996, 'y': 1952017.4638949109} ('EA3141F848A48130236498BA18E916C3', 4, 8, 13756, 956612.3597510996, 1952017.4638949109)\n",
      "{'station_ID': 13757, 'latitude': 37.482, 'longitude': 126.8829, 'label': False, 'score': 2.0, 'x': 945441.1182441225, 'y': 1942708.1489697888} ('EA3141F848A48130236498BA18E916C3', 4, 8, 13757, 945441.1182441225, 1942708.1489697888)\n",
      "{'station_ID': 13758, 'latitude': 37.4989, 'longitude': 126.9184, 'label': False, 'score': 2.0, 'x': 948591.3479925712, 'y': 1944563.1223310889} ('EA3141F848A48130236498BA18E916C3', 4, 8, 13758, 948591.3479925712, 1944563.1223310889)\n",
      "{'station_ID': 13759, 'latitude': 37.5761, 'longitude': 126.983, 'label': False, 'score': 2.0, 'x': 954348.5883187513, 'y': 1953094.7134496195} ('EA3141F848A48130236498BA18E916C3', 4, 8, 13759, 954348.5883187513, 1953094.7134496195)\n",
      "{'station_ID': 13760, 'latitude': 37.5534, 'longitude': 127.089, 'label': False, 'score': 1.0, 'x': 963697.4851545288, 'y': 1950530.046240062} ('EA3141F848A48130236498BA18E916C3', 4, 8, 13760, 963697.4851545288, 1950530.046240062)\n",
      "{'station_ID': 13761, 'latitude': 37.5057, 'longitude': 127.0245, 'label': False, 'score': 2.0, 'x': 957973.5888211392, 'y': 1945264.8719206636} ('EA3141F848A48130236498BA18E916C3', 4, 8, 13761, 957973.5888211392, 1945264.8719206636)\n",
      "{'station_ID': 13762, 'latitude': 37.549, 'longitude': 126.8688, 'label': False, 'score': 2.0, 'x': 944244.370192036, 'y': 1950149.7071637015} ('EA3141F848A48130236498BA18E916C3', 4, 8, 13762, 944244.370192036, 1950149.7071637015)\n",
      "{'station_ID': 13763, 'latitude': 37.5805, 'longitude': 127.0908, 'label': False, 'score': 2.0, 'x': 963869.5669052628, 'y': 1953535.9522691832} ('EA3141F848A48130236498BA18E916C3', 4, 8, 13763, 963869.5669052628, 1953535.9522691832)\n",
      "{'station_ID': 13764, 'latitude': 37.4801, 'longitude': 126.9517, 'label': False, 'score': 2.0, 'x': 951522.669828148, 'y': 1942459.710963717} ('EA3141F848A48130236498BA18E916C3', 4, 8, 13764, 951522.669828148, 1942459.710963717)\n",
      "{'station_ID': 13765, 'latitude': 37.5639, 'longitude': 126.9671, 'label': False, 'score': 2.0, 'x': 952936.9222875944, 'y': 1951749.0265391432} ('EA3141F848A48130236498BA18E916C3', 4, 8, 13765, 952936.9222875944, 1951749.0265391432)\n",
      "{'station_ID': 13766, 'latitude': 37.5357, 'longitude': 126.8549, 'label': False, 'score': 2.0, 'x': 943006.4077619798, 'y': 1948682.469804222} ('EA3141F848A48130236498BA18E916C3', 4, 8, 13766, 943006.4077619798, 1948682.469804222)\n",
      "{'station_ID': 13767, 'latitude': 37.5531, 'longitude': 127.0228, 'label': False, 'score': 2.0, 'x': 957850.0171387956, 'y': 1950524.3874720556} ('EA3141F848A48130236498BA18E916C3', 4, 8, 13767, 957850.0171387956, 1950524.3874720556)\n",
      "{'station_ID': 13768, 'latitude': 37.5372, 'longitude': 126.8541, 'label': False, 'score': 2.0, 'x': 942936.8712711306, 'y': 1948849.372708977} ('EA3141F848A48130236498BA18E916C3', 4, 8, 13768, 942936.8712711306, 1948849.372708977)\n",
      "{'station_ID': 13769, 'latitude': 37.4864, 'longitude': 126.8406, 'label': False, 'score': 2.0, 'x': 941704.6789256013, 'y': 1943221.655668036} ('EA3141F848A48130236498BA18E916C3', 4, 8, 13769, 941704.6789256013, 1943221.655668036)\n",
      "{'station_ID': 13770, 'latitude': 37.5062, 'longitude': 127.006, 'label': False, 'score': 1.0, 'x': 956338.7726702524, 'y': 1945328.7666139796} ('EA3141F848A48130236498BA18E916C3', 4, 8, 13770, 956338.7726702524, 1945328.7666139796)\n",
      "{'station_ID': 13771, 'latitude': 37.6189, 'longitude': 127.0218, 'label': False, 'score': 2.0, 'x': 957798.8532928992, 'y': 1957825.0345046564} ('EA3141F848A48130236498BA18E916C3', 4, 8, 13771, 957798.8532928992, 1957825.0345046564)\n",
      "{'station_ID': 13772, 'latitude': 37.6061, 'longitude': 127.1091, 'label': False, 'score': 3.0, 'x': 965497.1986637216, 'y': 1956369.265303725} ('EA3141F848A48130236498BA18E916C3', 4, 8, 13772, 965497.1986637216, 1956369.265303725)\n",
      "{'station_ID': 13773, 'latitude': 37.5472, 'longitude': 127.0156, 'label': False, 'score': 2.0, 'x': 957210.6809138166, 'y': 1949873.0670207182} ('EA3141F848A48130236498BA18E916C3', 4, 8, 13773, 957210.6809138166, 1949873.0670207182)\n",
      "{'station_ID': 13774, 'latitude': 37.5706, 'longitude': 126.8737, 'label': False, 'score': 4.0, 'x': 944693.1741514925, 'y': 1952543.234850308} ('EA3141F848A48130236498BA18E916C3', 4, 8, 13774, 944693.1741514925, 1952543.234850308)\n",
      "{'station_ID': 13775, 'latitude': 37.4941, 'longitude': 127.1224, 'label': False, 'score': 2.0, 'x': 966621.2189447625, 'y': 1943938.7092922502} ('EA3141F848A48130236498BA18E916C3', 4, 8, 13775, 966621.2189447625, 1943938.7092922502)\n",
      "{'station_ID': 13776, 'latitude': 37.5713, 'longitude': 126.9013, 'label': False, 'score': 3.0, 'x': 947130.9723817572, 'y': 1952605.0093130684} ('EA3141F848A48130236498BA18E916C3', 4, 8, 13776, 947130.9723817572, 1952605.0093130684)\n",
      "{'station_ID': 13777, 'latitude': 37.6507, 'longitude': 127.0801, 'label': False, 'score': 2.0, 'x': 962959.6419055816, 'y': 1961328.5014270619} ('EA3141F848A48130236498BA18E916C3', 4, 8, 13777, 962959.6419055816, 1961328.5014270619)\n",
      "{'station_ID': 13778, 'latitude': 37.5267, 'longitude': 126.8911, 'label': False, 'score': 3.0, 'x': 946198.1896742447, 'y': 1947662.6417994231} ('EA3141F848A48130236498BA18E916C3', 4, 8, 13778, 946198.1896742447, 1947662.6417994231)\n",
      "{'station_ID': 13779, 'latitude': 37.4911, 'longitude': 127.031, 'label': False, 'score': 2.0, 'x': 958540.0143718336, 'y': 1943642.212558171} ('EA3141F848A48130236498BA18E916C3', 4, 8, 13779, 958540.0143718336, 1943642.212558171)\n",
      "{'station_ID': 13780, 'latitude': 37.5023, 'longitude': 127.036, 'label': False, 'score': 2.0, 'x': 958988.1464965986, 'y': 1944882.5896940085} ('EA3141F848A48130236498BA18E916C3', 4, 8, 13780, 958988.1464965986, 1944882.5896940085)\n",
      "{'station_ID': 13781, 'latitude': 37.468, 'longitude': 127.1212, 'label': False, 'score': 3.0, 'x': 966503.4927710672, 'y': 1941043.5252632415} ('EA3141F848A48130236498BA18E916C3', 4, 8, 13781, 966503.4927710672, 1941043.5252632415)\n",
      "{'station_ID': 13782, 'latitude': 37.6182, 'longitude': 127.0547, 'label': False, 'score': 3.0, 'x': 960701.9252352931, 'y': 1957733.0892783972} ('EA3141F848A48130236498BA18E916C3', 4, 8, 13782, 960701.9252352931, 1957733.0892783972)\n",
      "{'station_ID': 13783, 'latitude': 37.5442, 'longitude': 126.97, 'label': False, 'score': 2.0, 'x': 953180.7146695687, 'y': 1949561.963837549} ('EA3141F848A48130236498BA18E916C3', 4, 8, 13783, 953180.7146695687, 1949561.963837549)\n",
      "{'station_ID': 13784, 'latitude': 37.5146, 'longitude': 127.1037, 'label': False, 'score': 3.0, 'x': 964977.762190524, 'y': 1946219.8446631548} ('EA3141F848A48130236498BA18E916C3', 4, 8, 13784, 964977.762190524, 1946219.8446631548)\n",
      "{'station_ID': 13785, 'latitude': 37.5668, 'longitude': 126.9103, 'label': False, 'score': 2.0, 'x': 947922.6039945004, 'y': 1952100.728808642} ('EA3141F848A48130236498BA18E916C3', 4, 8, 13785, 947922.6039945004, 1952100.728808642)\n",
      "{'station_ID': 13786, 'latitude': 37.4719, 'longitude': 126.9399, 'label': False, 'score': 3.0, 'x': 950473.9663628169, 'y': 1941556.114249926} ('EA3141F848A48130236498BA18E916C3', 4, 8, 13786, 950473.9663628169, 1941556.114249926)\n",
      "{'station_ID': 13787, 'latitude': 37.5148, 'longitude': 127.0588, 'label': False, 'score': 2.0, 'x': 961009.8970857215, 'y': 1946259.6937809682} ('EA3141F848A48130236498BA18E916C3', 4, 8, 13787, 961009.8970857215, 1946259.6937809682)\n",
      "{'station_ID': 13788, 'latitude': 37.5707, 'longitude': 126.9902, 'label': False, 'score': 3.0, 'x': 954981.1064442804, 'y': 1952492.135479102} ('EA3141F848A48130236498BA18E916C3', 4, 8, 13788, 954981.1064442804, 1952492.135479102)\n",
      "{'station_ID': 13789, 'latitude': 37.5846, 'longitude': 126.8799, 'label': False, 'score': 2.0, 'x': 945250.9365970248, 'y': 1954092.8445785078} ('EA3141F848A48130236498BA18E916C3', 4, 8, 13789, 945250.9365970248, 1954092.8445785078)\n",
      "{'station_ID': 13790, 'latitude': 37.5473, 'longitude': 127.0164, 'label': False, 'score': 2.0, 'x': 957281.4061625529, 'y': 1949883.7976704412} ('EA3141F848A48130236498BA18E916C3', 4, 8, 13790, 957281.4061625529, 1949883.7976704412)\n",
      "{'station_ID': 13791, 'latitude': 37.4831, 'longitude': 126.9706, 'label': False, 'score': 2.0, 'x': 953195.5762220128, 'y': 1942782.9785731044} ('EA3141F848A48130236498BA18E916C3', 4, 8, 13791, 953195.5762220128, 1942782.9785731044)\n",
      "{'station_ID': 13792, 'latitude': 37.6598, 'longitude': 127.075, 'label': False, 'score': 3.0, 'x': 962514.3320593684, 'y': 1962340.1394582535} ('EA3141F848A48130236498BA18E916C3', 4, 8, 13792, 962514.3320593684, 1962340.1394582535)\n",
      "{'station_ID': 13793, 'latitude': 37.543, 'longitude': 127.0552, 'label': False, 'score': 2.0, 'x': 960706.5488874998, 'y': 1949389.8141716116} ('EA3141F848A48130236498BA18E916C3', 4, 8, 13793, 960706.5488874998, 1949389.8141716116)\n",
      "{'station_ID': 13794, 'latitude': 37.6026, 'longitude': 126.937, 'label': False, 'score': 2.0, 'x': 950304.3513165457, 'y': 1956058.1204439711} ('EA3141F848A48130236498BA18E916C3', 4, 8, 13794, 950304.3513165457, 1956058.1204439711)\n",
      "{'station_ID': 13795, 'latitude': 37.6049, 'longitude': 127.0253, 'label': False, 'score': 2.0, 'x': 958099.8760112978, 'y': 1956270.22640221} ('EA3141F848A48130236498BA18E916C3', 4, 8, 13795, 958099.8760112978, 1956270.22640221)\n",
      "{'station_ID': 13796, 'latitude': 37.5089, 'longitude': 126.8908, 'label': False, 'score': 3.0, 'x': 946158.893698962, 'y': 1945687.9993338068} ('EA3141F848A48130236498BA18E916C3', 4, 8, 13796, 946158.893698962, 1945687.9993338068)\n",
      "{'station_ID': 13797, 'latitude': 37.6488, 'longitude': 127.0122, 'label': False, 'score': 3.0, 'x': 956968.8937879396, 'y': 1961146.6853476323} ('EA3141F848A48130236498BA18E916C3', 4, 8, 13797, 956968.8937879396, 1961146.6853476323)\n",
      "{'station_ID': 13798, 'latitude': 37.5333, 'longitude': 126.9008, 'label': False, 'score': 2.0, 'x': 947059.9455062756, 'y': 1948389.373069055} ('EA3141F848A48130236498BA18E916C3', 4, 8, 13798, 947059.9455062756, 1948389.373069055)\n",
      "{'station_ID': 13799, 'latitude': 37.5346, 'longitude': 126.9016, 'label': False, 'score': 3.0, 'x': 947131.5448922234, 'y': 1948533.1513355612} ('EA3141F848A48130236498BA18E916C3', 4, 8, 13799, 947131.5448922234, 1948533.1513355612)\n",
      "{'station_ID': 13800, 'latitude': 37.4934, 'longitude': 127.0774, 'label': False, 'score': 2.0, 'x': 962642.9786143551, 'y': 1943877.9570743137} ('EA3141F848A48130236498BA18E916C3', 4, 8, 13800, 962642.9786143551, 1943877.9570743137)\n",
      "{'station_ID': 13801, 'latitude': 37.5106, 'longitude': 127.0218, 'label': False, 'score': 2.0, 'x': 957737.7142414697, 'y': 1945809.7057990232} ('EA3141F848A48130236498BA18E916C3', 4, 8, 13801, 957737.7142414697, 1945809.7057990232)\n",
      "{'station_ID': 13802, 'latitude': 37.5566, 'longitude': 126.9354, 'label': False, 'score': 1.0, 'x': 950132.4478525313, 'y': 1950955.4738538237} ('EA3141F848A48130236498BA18E916C3', 4, 8, 13802, 950132.4478525313, 1950955.4738538237)\n",
      "{'station_ID': 13803, 'latitude': 37.5644, 'longitude': 127.0441, 'label': False, 'score': 3.0, 'x': 959737.4887981247, 'y': 1951768.724523842} ('EA3141F848A48130236498BA18E916C3', 4, 8, 13803, 959737.4887981247, 1951768.724523842)\n",
      "{'station_ID': 13804, 'latitude': 37.5798, 'longitude': 127.0899, 'label': False, 'score': 2.0, 'x': 963789.7617785425, 'y': 1953458.637362435} ('EA3141F848A48130236498BA18E916C3', 4, 8, 13804, 963789.7617785425, 1953458.637362435)\n",
      "{'station_ID': 13805, 'latitude': 37.5119, 'longitude': 127.0435, 'label': False, 'score': 1.0, 'x': 959656.2240710234, 'y': 1945944.4072267837} ('EA3141F848A48130236498BA18E916C3', 4, 8, 13805, 959656.2240710234, 1945944.4072267837)\n",
      "{'station_ID': 13806, 'latitude': 37.4796, 'longitude': 127.1273, 'label': False, 'score': 2.0, 'x': 967047.9984454493, 'y': 1942328.3093702798} ('EA3141F848A48130236498BA18E916C3', 4, 8, 13806, 967047.9984454493, 1942328.3093702798)\n",
      "{'station_ID': 13807, 'latitude': 37.5557, 'longitude': 126.9088, 'label': False, 'score': 2.0, 'x': 947782.3886671957, 'y': 1950870.0680036896} ('EA3141F848A48130236498BA18E916C3', 4, 8, 13807, 947782.3886671957, 1950870.0680036896)\n",
      "{'station_ID': 13808, 'latitude': 37.546, 'longitude': 127.1427, 'label': False, 'score': 2.0, 'x': 968437.5573646746, 'y': 1949689.6762291265} ('EA3141F848A48130236498BA18E916C3', 4, 8, 13808, 968437.5573646746, 1949689.6762291265)\n",
      "{'station_ID': 13809, 'latitude': 37.5167, 'longitude': 126.9077, 'label': False, 'score': 2.0, 'x': 947657.9777175917, 'y': 1946543.8298716736} ('EA3141F848A48130236498BA18E916C3', 4, 8, 13809, 947657.9777175917, 1946543.8298716736)\n",
      "{'station_ID': 13810, 'latitude': 37.5544, 'longitude': 126.9718, 'label': False, 'score': 2.0, 'x': 953346.0828597657, 'y': 1950692.7059285461} ('EA3141F848A48130236498BA18E916C3', 4, 8, 13810, 953346.0828597657, 1950692.7059285461)\n",
      "{'station_ID': 13811, 'latitude': 37.4848, 'longitude': 126.8382, 'label': False, 'score': 2.0, 'x': 941491.2527613981, 'y': 1943045.633616659} ('EA3141F848A48130236498BA18E916C3', 4, 8, 13811, 941491.2527613981, 1943045.633616659)\n",
      "{'station_ID': 13812, 'latitude': 37.5038, 'longitude': 126.88, 'label': False, 'score': 1.0, 'x': 945200.6519066426, 'y': 1945128.4171293725} ('EA3141F848A48130236498BA18E916C3', 4, 8, 13812, 945200.6519066426, 1945128.4171293725)\n",
      "{'station_ID': 13813, 'latitude': 37.6666, 'longitude': 127.0579, 'label': False, 'score': 2.0, 'x': 961009.6346680914, 'y': 1963101.5490980796} ('EA3141F848A48130236498BA18E916C3', 4, 8, 13813, 961009.6346680914, 1963101.5490980796)\n",
      "{'station_ID': 13814, 'latitude': 37.5541, 'longitude': 126.9352, 'label': False, 'score': 1.0, 'x': 950113.1163814941, 'y': 1950678.217271688} ('EA3141F848A48130236498BA18E916C3', 4, 8, 13814, 950113.1163814941, 1950678.217271688)\n",
      "{'station_ID': 13815, 'latitude': 37.5403, 'longitude': 126.9712, 'label': False, 'score': 1.0, 'x': 953284.2879655043, 'y': 1949128.6827541937} ('EA3141F848A48130236498BA18E916C3', 4, 8, 13815, 953284.2879655043, 1949128.6827541937)\n",
      "{'station_ID': 13816, 'latitude': 37.5703, 'longitude': 126.8978, 'label': False, 'score': 4.0, 'x': 946821.1860912647, 'y': 1952496.0388316382} ('EA3141F848A48130236498BA18E916C3', 4, 8, 13816, 946821.1860912647, 1952496.0388316382)\n",
      "{'station_ID': 13817, 'latitude': 37.6278, 'longitude': 127.0271, 'label': False, 'score': 2.0, 'x': 958271.5563251034, 'y': 1958810.0836396292} ('EA3141F848A48130236498BA18E916C3', 4, 8, 13817, 958271.5563251034, 1958810.0836396292)\n",
      "{'station_ID': 13818, 'latitude': 37.4999, 'longitude': 126.988, 'label': False, 'score': 3.0, 'x': 954744.0642835535, 'y': 1944638.3240435096} ('EA3141F848A48130236498BA18E916C3', 4, 8, 13818, 954744.0642835535, 1944638.3240435096)\n",
      "{'station_ID': 13819, 'latitude': 37.5134, 'longitude': 127.1025, 'label': False, 'score': 3.0, 'x': 964871.1516345049, 'y': 1946087.1597028563} ('EA3141F848A48130236498BA18E916C3', 4, 8, 13819, 964871.1516345049, 1946087.1597028563)\n",
      "{'station_ID': 13820, 'latitude': 37.56, 'longitude': 126.9845, 'label': False, 'score': 2.0, 'x': 954471.2414077299, 'y': 1951307.7697547618} ('EA3141F848A48130236498BA18E916C3', 4, 8, 13820, 954471.2414077299, 1951307.7697547618)\n",
      "{'station_ID': 13821, 'latitude': 37.6009, 'longitude': 127.0689, 'label': False, 'score': 3.0, 'x': 961946.2791133183, 'y': 1955807.881547419} ('EA3141F848A48130236498BA18E916C3', 4, 8, 13821, 961946.2791133183, 1955807.881547419)\n",
      "{'station_ID': 13822, 'latitude': 37.6652, 'longitude': 127.0592, 'label': False, 'score': 2.0, 'x': 961123.5566385577, 'y': 1962945.6840407471} ('EA3141F848A48130236498BA18E916C3', 4, 8, 13822, 961123.5566385577, 1962945.6840407471)\n",
      "{'station_ID': 13823, 'latitude': 37.5801, 'longitude': 127.0892, 'label': False, 'score': 2.0, 'x': 963728.0997607907, 'y': 1953492.1908637166} ('EA3141F848A48130236498BA18E916C3', 4, 8, 13823, 963728.0997607907, 1953492.1908637166)\n",
      "{'station_ID': 13824, 'latitude': 37.5186, 'longitude': 127.0515, 'label': False, 'score': 2.0, 'x': 960366.7816210194, 'y': 1946684.3306467608} ('EA3141F848A48130236498BA18E916C3', 4, 8, 13824, 960366.7816210194, 1946684.3306467608)\n",
      "{'station_ID': 13825, 'latitude': 37.5476, 'longitude': 126.9216, 'label': False, 'score': 3.0, 'x': 948907.426656793, 'y': 1949964.3789818445} ('EA3141F848A48130236498BA18E916C3', 4, 8, 13825, 948907.426656793, 1949964.3789818445)\n",
      "{'station_ID': 13826, 'latitude': 37.4954, 'longitude': 127.0647, 'label': False, 'score': 2.0, 'x': 961521.3437638575, 'y': 1944104.9597314594} ('EA3141F848A48130236498BA18E916C3', 4, 8, 13826, 961521.3437638575, 1944104.9597314594)\n",
      "{'station_ID': 13827, 'latitude': 37.4936, 'longitude': 127.1536, 'label': False, 'score': 2.0, 'x': 969379.0165017035, 'y': 1943872.6311894213} ('EA3141F848A48130236498BA18E916C3', 4, 8, 13827, 969379.0165017035, 1943872.6311894213)\n",
      "{'station_ID': 13828, 'latitude': 37.5113, 'longitude': 127.0543, 'label': False, 'score': 1.0, 'x': 960610.377764367, 'y': 1945873.264987786} ('EA3141F848A48130236498BA18E916C3', 4, 8, 13828, 960610.377764367, 1945873.264987786)\n",
      "{'station_ID': 13829, 'latitude': 37.5018, 'longitude': 126.98, 'label': False, 'score': 3.0, 'x': 954038.0999264595, 'y': 1944852.9942553758} ('EA3141F848A48130236498BA18E916C3', 4, 8, 13829, 954038.0999264595, 1944852.9942553758)\n",
      "{'station_ID': 13830, 'latitude': 37.4859, 'longitude': 126.9796, 'label': False, 'score': 1.0, 'x': 953992.991932795, 'y': 1943089.1844755658} ('EA3141F848A48130236498BA18E916C3', 4, 8, 13830, 953992.991932795, 1943089.1844755658)\n",
      "{'station_ID': 13831, 'latitude': 37.5532, 'longitude': 127.0219, 'label': False, 'score': 2.0, 'x': 957770.5781484413, 'y': 1950535.8858707682} ('EA3141F848A48130236498BA18E916C3', 4, 8, 13831, 957770.5781484413, 1950535.8858707682)\n",
      "{'station_ID': 13832, 'latitude': 37.4958, 'longitude': 127.0624, 'label': False, 'score': 2.0, 'x': 961318.2388937187, 'y': 1944150.2798149507} ('EA3141F848A48130236498BA18E916C3', 4, 8, 13832, 961318.2388937187, 1944150.2798149507)\n",
      "{'station_ID': 13833, 'latitude': 37.4944, 'longitude': 127.1514, 'label': False, 'score': 2.0, 'x': 969184.8694985496, 'y': 1943962.1035802008} ('EA3141F848A48130236498BA18E916C3', 4, 8, 13833, 969184.8694985496, 1943962.1035802008)\n",
      "{'station_ID': 13834, 'latitude': 37.5475, 'longitude': 127.0049, 'label': False, 'score': 2.0, 'x': 956265.6690644613, 'y': 1949911.2741227155} ('EA3141F848A48130236498BA18E916C3', 4, 8, 13834, 956265.6690644613, 1949911.2741227155)\n",
      "{'station_ID': 13835, 'latitude': 37.5363, 'longitude': 127.088, 'label': False, 'score': 1.0, 'x': 963600.8441859154, 'y': 1948633.2865265512} ('EA3141F848A48130236498BA18E916C3', 4, 8, 13835, 963600.8441859154, 1948633.2865265512)\n",
      "{'station_ID': 13836, 'latitude': 37.5458, 'longitude': 126.8731, 'label': False, 'score': 2.0, 'x': 944621.8375812807, 'y': 1949792.140740361} ('EA3141F848A48130236498BA18E916C3', 4, 8, 13836, 944621.8375812807, 1949792.140740361)\n",
      "{'station_ID': 13837, 'latitude': 37.4845, 'longitude': 127.037, 'label': False, 'score': 1.0, 'x': 959066.8212093925, 'y': 1942907.3606939581} ('EA3141F848A48130236498BA18E916C3', 4, 8, 13837, 959066.8212093925, 1942907.3606939581)\n",
      "{'station_ID': 13838, 'latitude': 37.6615, 'longitude': 127.0119, 'label': False, 'score': 3.0, 'x': 956949.7623680087, 'y': 1962555.8447965763} ('EA3141F848A48130236498BA18E916C3', 4, 8, 13838, 956949.7623680087, 1962555.8447965763)\n",
      "{'station_ID': 13839, 'latitude': 37.4914, 'longitude': 127.0713, 'label': False, 'score': 4.0, 'x': 962102.737302288, 'y': 1943658.5087932805} ('EA3141F848A48130236498BA18E916C3', 4, 8, 13839, 962102.737302288, 1943658.5087932805)\n",
      "{'station_ID': 13840, 'latitude': 37.6614, 'longitude': 127.0125, 'label': False, 'score': 3.0, 'x': 957002.6247924045, 'y': 1962544.4748367518} ('EA3141F848A48130236498BA18E916C3', 4, 8, 13840, 957002.6247924045, 1962544.4748367518)\n",
      "{'station_ID': 13841, 'latitude': 37.5092, 'longitude': 127.0221, 'label': False, 'score': 2.0, 'x': 957763.4388944074, 'y': 1945654.2497245995} ('EA3141F848A48130236498BA18E916C3', 4, 8, 13841, 957763.4388944074, 1945654.2497245995)\n",
      "{'station_ID': 13842, 'latitude': 37.5972, 'longitude': 127.0831, 'label': False, 'score': 2.0, 'x': 963197.9137434429, 'y': 1955391.7242427333} ('EA3141F848A48130236498BA18E916C3', 4, 8, 13842, 963197.9137434429, 1955391.7242427333)\n",
      "{'station_ID': 13843, 'latitude': 37.4868, 'longitude': 127.1026, 'label': False, 'score': 3.0, 'x': 964867.5283946327, 'y': 1943136.0294850895} ('EA3141F848A48130236498BA18E916C3', 4, 8, 13843, 964867.5283946327, 1943136.0294850895)\n",
      "{'station_ID': 13844, 'latitude': 37.5015, 'longitude': 126.9109, 'label': False, 'score': 1.0, 'x': 947930.2092129167, 'y': 1944855.7002742647} ('EA3141F848A48130236498BA18E916C3', 4, 8, 13844, 947930.2092129167, 1944855.7002742647)\n",
      "{'station_ID': 13845, 'latitude': 37.4459, 'longitude': 127.0538, 'label': False, 'score': 2.0, 'x': 960531.8071650866, 'y': 1938617.7942936686} ('EA3141F848A48130236498BA18E916C3', 4, 8, 13845, 960531.8071650866, 1938617.7942936686)\n",
      "{'station_ID': 13846, 'latitude': 37.5565, 'longitude': 127.0804, 'label': False, 'score': 2.0, 'x': 962939.4022422935, 'y': 1950877.3299897835} ('EA3141F848A48130236498BA18E916C3', 4, 8, 13846, 962939.4022422935, 1950877.3299897835)\n",
      "{'station_ID': 13847, 'latitude': 37.5674, 'longitude': 126.9143, 'label': False, 'score': 3.0, 'x': 948276.2687976777, 'y': 1952165.0868452173} ('EA3141F848A48130236498BA18E916C3', 4, 8, 13847, 948276.2687976777, 1952165.0868452173)\n",
      "{'station_ID': 13848, 'latitude': 37.4974, 'longitude': 127.1358, 'label': False, 'score': 2.0, 'x': 967807.162202631, 'y': 1944300.154292596} ('EA3141F848A48130236498BA18E916C3', 4, 8, 13848, 967807.162202631, 1944300.154292596)\n",
      "{'station_ID': 13849, 'latitude': 37.6424, 'longitude': 127.0184, 'label': False, 'score': 2.0, 'x': 957512.1825100121, 'y': 1960433.8022081365} ('EA3141F848A48130236498BA18E916C3', 4, 8, 13849, 957512.1825100121, 1960433.8022081365)\n",
      "{'station_ID': 13850, 'latitude': 37.5149, 'longitude': 127.019, 'label': False, 'score': 2.0, 'x': 957492.6935686345, 'y': 1946288.025892395} ('EA3141F848A48130236498BA18E916C3', 4, 8, 13850, 957492.6935686345, 1946288.025892395)\n",
      "{'station_ID': 13851, 'latitude': 37.5657, 'longitude': 127.0296, 'label': False, 'score': 2.0, 'x': 958457.6453364573, 'y': 1951919.2637343272} ('EA3141F848A48130236498BA18E916C3', 4, 8, 13851, 958457.6453364573, 1951919.2637343272)\n",
      "{'station_ID': 13852, 'latitude': 37.5001, 'longitude': 126.9198, 'label': False, 'score': 2.0, 'x': 948715.9182998278, 'y': 1944695.4914853896} ('EA3141F848A48130236498BA18E916C3', 4, 8, 13852, 948715.9182998278, 1944695.4914853896)\n",
      "{'station_ID': 13853, 'latitude': 37.5863, 'longitude': 127.0276, 'label': False, 'score': 2.0, 'x': 958292.5099436918, 'y': 1954205.6177470388} ('EA3141F848A48130236498BA18E916C3', 4, 8, 13853, 958292.5099436918, 1954205.6177470388)\n",
      "{'station_ID': 13854, 'latitude': 37.5713, 'longitude': 126.9996, 'label': False, 'score': 3.0, 'x': 955811.5519832107, 'y': 1952554.240453723} ('EA3141F848A48130236498BA18E916C3', 4, 8, 13854, 955811.5519832107, 1952554.240453723)\n",
      "{'station_ID': 13855, 'latitude': 37.5735, 'longitude': 127.0866, 'label': False, 'score': 2.0, 'x': 963495.3078507476, 'y': 1952760.9619701344} ('EA3141F848A48130236498BA18E916C3', 4, 8, 13855, 963495.3078507476, 1952760.9619701344)\n",
      "{'station_ID': 13856, 'latitude': 37.5779, 'longitude': 126.986, 'label': False, 'score': 2.0, 'x': 954614.5845195174, 'y': 1953292.9614339615} ('EA3141F848A48130236498BA18E916C3', 4, 8, 13856, 954614.5845195174, 1953292.9614339615)\n",
      "{'station_ID': 13857, 'latitude': 37.6097, 'longitude': 126.916, 'label': False, 'score': 2.0, 'x': 948455.5782311648, 'y': 1956857.1597967679} ('EA3141F848A48130236498BA18E916C3', 4, 8, 13857, 948455.5782311648, 1956857.1597967679)\n",
      "{'station_ID': 13858, 'latitude': 37.5439, 'longitude': 127.0547, 'label': False, 'score': 2.0, 'x': 960662.8517523071, 'y': 1949489.8731410448} ('EA3141F848A48130236498BA18E916C3', 4, 8, 13858, 960662.8517523071, 1949489.8731410448)\n",
      "{'station_ID': 13859, 'latitude': 37.4848, 'longitude': 127.0342, 'label': False, 'score': 2.0, 'x': 958819.4403891949, 'y': 1942941.8647231094} ('EA3141F848A48130236498BA18E916C3', 4, 8, 13859, 958819.4403891949, 1942941.8647231094)\n",
      "{'station_ID': 13860, 'latitude': 37.5162, 'longitude': 127.114, 'label': False, 'score': 3.0, 'x': 965888.7364684276, 'y': 1946393.570174753} ('EA3141F848A48130236498BA18E916C3', 4, 8, 13860, 965888.7364684276, 1946393.570174753)\n",
      "{'station_ID': 13861, 'latitude': 37.5038, 'longitude': 127.127, 'label': False, 'score': 2.0, 'x': 967032.1123867716, 'y': 1945013.237444705} ('EA3141F848A48130236498BA18E916C3', 4, 8, 13861, 967032.1123867716, 1945013.237444705)\n",
      "{'station_ID': 13862, 'latitude': 37.5232, 'longitude': 126.8558, 'label': False, 'score': 2.0, 'x': 943076.4233726125, 'y': 1947295.1119298618} ('EA3141F848A48130236498BA18E916C3', 4, 8, 13862, 943076.4233726125, 1947295.1119298618)\n",
      "{'station_ID': 13863, 'latitude': 37.571, 'longitude': 127.0152, 'label': False, 'score': 2.0, 'x': 957188.9664300099, 'y': 1952513.7350436274} ('EA3141F848A48130236498BA18E916C3', 4, 8, 13863, 957188.9664300099, 1952513.7350436274)\n",
      "{'station_ID': 13864, 'latitude': 37.6803, 'longitude': 127.0476, 'label': False, 'score': 3.0, 'x': 960108.5713916282, 'y': 1964625.853301063} ('EA3141F848A48130236498BA18E916C3', 4, 8, 13864, 960108.5713916282, 1964625.853301063)\n",
      "{'station_ID': 13865, 'latitude': 37.5098, 'longitude': 127.0419, 'label': False, 'score': 2.0, 'x': 959513.6869349495, 'y': 1945712.112548856} ('EA3141F848A48130236498BA18E916C3', 4, 8, 13865, 959513.6869349495, 1945712.112548856)\n",
      "{'station_ID': 13866, 'latitude': 37.4944, 'longitude': 127.0786, 'label': False, 'score': 2.0, 'x': 962749.5534609474, 'y': 1943988.4248261973} ('EA3141F848A48130236498BA18E916C3', 4, 8, 13866, 962749.5534609474, 1943988.4248261973)\n",
      "{'station_ID': 13867, 'latitude': 37.5792, 'longitude': 127.0869, 'label': False, 'score': 1.0, 'x': 963524.579534508, 'y': 1953393.2309690604} ('EA3141F848A48130236498BA18E916C3', 4, 8, 13867, 963524.579534508, 1953393.2309690604)\n",
      "{'station_ID': 13868, 'latitude': 37.5356, 'longitude': 126.9943, 'label': False, 'score': 1.0, 'x': 955322.2182773151, 'y': 1948596.0177928535} ('EA3141F848A48130236498BA18E916C3', 4, 8, 13868, 955322.2182773151, 1948596.0177928535)\n",
      "{'station_ID': 13869, 'latitude': 37.4962, 'longitude': 126.8721, 'label': False, 'score': 3.0, 'x': 944496.7695153964, 'y': 1944289.869422569} ('EA3141F848A48130236498BA18E916C3', 4, 8, 13869, 944496.7695153964, 1944289.869422569)\n",
      "{'station_ID': 13870, 'latitude': 37.5369, 'longitude': 127.1417, 'label': False, 'score': 2.0, 'x': 968345.3740133481, 'y': 1948680.422123854} ('EA3141F848A48130236498BA18E916C3', 4, 8, 13870, 968345.3740133481, 1948680.422123854)\n",
      "{'station_ID': 13871, 'latitude': 37.568, 'longitude': 126.9139, 'label': False, 'score': 2.0, 'x': 948241.3592766036, 'y': 1952231.8743434271} ('EA3141F848A48130236498BA18E916C3', 4, 8, 13871, 948241.3592766036, 1952231.8743434271)\n",
      "{'station_ID': 13872, 'latitude': 37.4968, 'longitude': 127.1361, 'label': False, 'score': 2.0, 'x': 967833.4229274516, 'y': 1944233.485821962} ('EA3141F848A48130236498BA18E916C3', 4, 8, 13872, 967833.4229274516, 1944233.485821962)\n",
      "{'station_ID': 13873, 'latitude': 37.6781, 'longitude': 127.0554, 'label': False, 'score': 2.0, 'x': 960795.2004758544, 'y': 1964378.4792048235} ('EA3141F848A48130236498BA18E916C3', 4, 8, 13873, 960795.2004758544, 1964378.4792048235)\n",
      "{'station_ID': 13874, 'latitude': 37.5671, 'longitude': 127.0853, 'label': False, 'score': 1.0, 'x': 963377.3790828944, 'y': 1952051.421632779} ('EA3141F848A48130236498BA18E916C3', 4, 8, 13874, 963377.3790828944, 1952051.421632779)\n",
      "{'station_ID': 13875, 'latitude': 37.52, 'longitude': 126.8532, 'label': False, 'score': 2.0, 'x': 942844.2354114831, 'y': 1946941.6648630726} ('EA3141F848A48130236498BA18E916C3', 4, 8, 13875, 942844.2354114831, 1946941.6648630726)\n",
      "{'station_ID': 13876, 'latitude': 37.5562, 'longitude': 126.9112, 'label': False, 'score': 2.0, 'x': 947994.7175727144, 'y': 1950924.2100365716} ('EA3141F848A48130236498BA18E916C3', 4, 8, 13876, 947994.7175727144, 1950924.2100365716)\n",
      "{'station_ID': 13877, 'latitude': 37.4954, 'longitude': 126.872, 'label': False, 'score': 3.0, 'x': 944487.3377392382, 'y': 1944201.1729517402} ('EA3141F848A48130236498BA18E916C3', 4, 8, 13877, 944487.3377392382, 1944201.1729517402)\n",
      "{'station_ID': 13878, 'latitude': 37.5688, 'longitude': 126.9835, 'label': False, 'score': 3.0, 'x': 954388.2869551186, 'y': 1952284.5708475502} ('EA3141F848A48130236498BA18E916C3', 4, 8, 13878, 954388.2869551186, 1952284.5708475502)\n",
      "{'station_ID': 13879, 'latitude': 37.561, 'longitude': 126.9936, 'label': False, 'score': 2.0, 'x': 955275.5531003023, 'y': 1951414.3453986342} ('EA3141F848A48130236498BA18E916C3', 4, 8, 13879, 955275.5531003023, 1951414.3453986342)\n",
      "{'station_ID': 13880, 'latitude': 37.6019, 'longitude': 126.9377, 'label': False, 'score': 2.0, 'x': 950365.6753030029, 'y': 1955980.088027101} ('EA3141F848A48130236498BA18E916C3', 4, 8, 13880, 950365.6753030029, 1955980.088027101)\n",
      "{'station_ID': 13881, 'latitude': 37.4945, 'longitude': 127.1447, 'label': False, 'score': 2.0, 'x': 968592.650731584, 'y': 1943975.412353241} ('EA3141F848A48130236498BA18E916C3', 4, 8, 13881, 968592.650731584, 1943975.412353241)\n",
      "{'station_ID': 13882, 'latitude': 37.4867, 'longitude': 127.1038, 'label': False, 'score': 3.0, 'x': 964973.5691293125, 'y': 1943124.4880434554} ('EA3141F848A48130236498BA18E916C3', 4, 8, 13882, 964973.5691293125, 1943124.4880434554)\n",
      "{'station_ID': 13883, 'latitude': 37.5002, 'longitude': 126.9279, 'label': False, 'score': 2.0, 'x': 949431.9538487722, 'y': 1944702.202914512} ('EA3141F848A48130236498BA18E916C3', 4, 8, 13883, 949431.9538487722, 1944702.202914512)\n",
      "{'station_ID': 13884, 'latitude': 37.5478, 'longitude': 127.0473, 'label': False, 'score': 3.0, 'x': 960011.2264798494, 'y': 1949925.6780668318} ('EA3141F848A48130236498BA18E916C3', 4, 8, 13884, 960011.2264798494, 1949925.6780668318)\n",
      "{'station_ID': 13885, 'latitude': 37.6016, 'longitude': 127.0254, 'label': False, 'score': 2.0, 'x': 958106.852152557, 'y': 1955904.0614040866} ('EA3141F848A48130236498BA18E916C3', 4, 8, 13885, 958106.852152557, 1955904.0614040866)\n",
      "{'station_ID': 13886, 'latitude': 37.559, 'longitude': 126.8605, 'label': False, 'score': 2.0, 'x': 943518.7484262383, 'y': 1951264.1166938567} ('EA3141F848A48130236498BA18E916C3', 4, 8, 13886, 943518.7484262383, 1951264.1166938567)\n",
      "{'station_ID': 13887, 'latitude': 37.568, 'longitude': 126.9993, 'label': False, 'score': 3.0, 'x': 955783.109090505, 'y': 1952188.2629084433} ('EA3141F848A48130236498BA18E916C3', 4, 8, 13887, 955783.109090505, 1952188.2629084433)\n",
      "{'station_ID': 13888, 'latitude': 37.5294, 'longitude': 126.9668, 'label': False, 'score': 2.0, 'x': 952888.7198905522, 'y': 1947921.5822865132} ('EA3141F848A48130236498BA18E916C3', 4, 8, 13888, 952888.7198905522, 1947921.5822865132)\n",
      "{'station_ID': 13889, 'latitude': 37.5671, 'longitude': 126.8145, 'label': False, 'score': 1.0, 'x': 939462.4908028981, 'y': 1952191.416142014} ('EA3141F848A48130236498BA18E916C3', 4, 8, 13889, 939462.4908028981, 1952191.416142014)\n",
      "{'station_ID': 13890, 'latitude': 37.5007, 'longitude': 126.9865, 'label': False, 'score': 3.0, 'x': 954611.9618609695, 'y': 1944727.8014320293} ('EA3141F848A48130236498BA18E916C3', 4, 8, 13890, 954611.9618609695, 1944727.8014320293)\n",
      "{'station_ID': 13891, 'latitude': 37.562, 'longitude': 126.9922, 'label': False, 'score': 2.0, 'x': 955152.5059125765, 'y': 1951525.957464034} ('EA3141F848A48130236498BA18E916C3', 4, 8, 13891, 955152.5059125765, 1951525.957464034)\n",
      "{'station_ID': 13892, 'latitude': 37.5544, 'longitude': 126.9721, 'label': False, 'score': 2.0, 'x': 953372.5809248838, 'y': 1950692.5570737093} ('EA3141F848A48130236498BA18E916C3', 4, 8, 13892, 953372.5809248838, 1950692.5570737093)\n",
      "{'station_ID': 13893, 'latitude': 37.579, 'longitude': 127.0477, 'label': False, 'score': 2.0, 'x': 960063.2191724286, 'y': 1953386.983654832} ('EA3141F848A48130236498BA18E916C3', 4, 8, 13893, 960063.2191724286, 1953386.983654832)\n",
      "{'station_ID': 13894, 'latitude': 37.6473, 'longitude': 127.0351, 'label': False, 'score': 2.0, 'x': 958988.1961035898, 'y': 1960970.0067867737} ('EA3141F848A48130236498BA18E916C3', 4, 8, 13894, 958988.1961035898, 1960970.0067867737)\n",
      "{'station_ID': 13895, 'latitude': 37.6073, 'longitude': 127.1057, 'label': False, 'score': 2.0, 'x': 965197.6554496882, 'y': 1956503.6545641653} ('EA3141F848A48130236498BA18E916C3', 4, 8, 13895, 965197.6554496882, 1956503.6545641653)\n",
      "{'station_ID': 13896, 'latitude': 37.5419, 'longitude': 126.9703, 'label': False, 'score': 2.0, 'x': 953205.778787417, 'y': 1949306.6417130309} ('EA3141F848A48130236498BA18E916C3', 4, 8, 13896, 953205.778787417, 1949306.6417130309)\n",
      "{'station_ID': 13897, 'latitude': 37.524, 'longitude': 126.8975, 'label': False, 'score': 2.0, 'x': 946761.7741442712, 'y': 1947359.4494206314} ('EA3141F848A48130236498BA18E916C3', 4, 8, 13897, 946761.7741442712, 1947359.4494206314)\n",
      "{'station_ID': 13898, 'latitude': 37.5705, 'longitude': 126.9921, 'label': False, 'score': 3.0, 'x': 955148.7708931322, 'y': 1952469.0378545274} ('EA3141F848A48130236498BA18E916C3', 4, 8, 13898, 955148.7708931322, 1952469.0378545274)\n",
      "{'station_ID': 13899, 'latitude': 37.4988, 'longitude': 126.9214, 'label': False, 'score': 2.0, 'x': 948856.45745443, 'y': 1944550.393483327} ('EA3141F848A48130236498BA18E916C3', 4, 8, 13899, 948856.45745443, 1944550.393483327)\n",
      "{'station_ID': 13900, 'latitude': 37.5074, 'longitude': 127.0336, 'label': False, 'score': 2.0, 'x': 958778.8192268121, 'y': 1945449.4511124943} ('EA3141F848A48130236498BA18E916C3', 4, 8, 13900, 958778.8192268121, 1945449.4511124943)\n",
      "{'station_ID': 13901, 'latitude': 37.5241, 'longitude': 126.8567, 'label': False, 'score': 2.0, 'x': 943156.6340016527, 'y': 1947394.4180869607} ('EA3141F848A48130236498BA18E916C3', 4, 8, 13901, 943156.6340016527, 1947394.4180869607)\n",
      "{'station_ID': 13902, 'latitude': 37.5476, 'longitude': 127.0476, 'label': False, 'score': 2.0, 'x': 960037.620031, 'y': 1949903.361616514} ('EA3141F848A48130236498BA18E916C3', 4, 8, 13902, 960037.620031, 1949903.361616514)\n",
      "{'station_ID': 13903, 'latitude': 37.512, 'longitude': 127.0134, 'label': False, 'score': 2.0, 'x': 956996.1389672935, 'y': 1945968.8332882833} ('EA3141F848A48130236498BA18E916C3', 4, 8, 13903, 956996.1389672935, 1945968.8332882833)\n",
      "{'station_ID': 13904, 'latitude': 37.4894, 'longitude': 127.0675, 'label': False, 'score': 4.0, 'x': 961765.7945954358, 'y': 1943438.1588196803} ('EA3141F848A48130236498BA18E916C3', 4, 8, 13904, 961765.7945954358, 1943438.1588196803)\n",
      "{'station_ID': 13905, 'latitude': 37.5356, 'longitude': 126.9848, 'label': False, 'score': 2.0, 'x': 954482.9027222865, 'y': 1948600.5736070108} ('EA3141F848A48130236498BA18E916C3', 4, 8, 13905, 954482.9027222865, 1948600.5736070108)\n",
      "{'station_ID': 13906, 'latitude': 37.5555, 'longitude': 126.9469, 'label': False, 'score': 3.0, 'x': 951147.4603786897, 'y': 1950827.3952312889} ('EA3141F848A48130236498BA18E916C3', 4, 8, 13906, 951147.4603786897, 1950827.3952312889)\n",
      "{'station_ID': 13907, 'latitude': 37.5173, 'longitude': 127.1304, 'label': False, 'score': 4.0, 'x': 967338.5081017844, 'y': 1946509.7882812486} ('EA3141F848A48130236498BA18E916C3', 4, 8, 13907, 967338.5081017844, 1946509.7882812486)\n",
      "{'station_ID': 13908, 'latitude': 37.4909, 'longitude': 126.8237, 'label': False, 'score': 2.0, 'x': 940214.1758668377, 'y': 1943731.5047181381} ('EA3141F848A48130236498BA18E916C3', 4, 8, 13908, 940214.1758668377, 1943731.5047181381)\n",
      "{'station_ID': 13909, 'latitude': 37.5211, 'longitude': 127.0539, 'label': False, 'score': 2.0, 'x': 960580.1820935535, 'y': 1946960.6819935138} ('EA3141F848A48130236498BA18E916C3', 4, 8, 13909, 960580.1820935535, 1946960.6819935138)\n",
      "{'station_ID': 13910, 'latitude': 37.5883, 'longitude': 127.0886, 'label': False, 'score': 2.0, 'x': 963679.1063317382, 'y': 1954402.1714237898} ('EA3141F848A48130236498BA18E916C3', 4, 8, 13910, 963679.1063317382, 1954402.1714237898)\n",
      "{'station_ID': 13911, 'latitude': 37.5577, 'longitude': 127.0046, 'label': False, 'score': 4.0, 'x': 956245.1323118639, 'y': 1951043.0497585316} ('EA3141F848A48130236498BA18E916C3', 4, 8, 13911, 956245.1323118639, 1951043.0497585316)\n",
      "{'station_ID': 13912, 'latitude': 37.5631, 'longitude': 126.9035, 'label': False, 'score': 2.0, 'x': 947319.473428519, 'y': 1951694.020905666} ('EA3141F848A48130236498BA18E916C3', 4, 8, 13912, 947319.473428519, 1951694.020905666)\n",
      "{'station_ID': 13913, 'latitude': 37.4925, 'longitude': 127.0793, 'label': False, 'score': 2.0, 'x': 962810.4894750126, 'y': 1943777.355765457} ('EA3141F848A48130236498BA18E916C3', 4, 8, 13913, 962810.4894750126, 1943777.355765457)\n",
      "{'station_ID': 13914, 'latitude': 37.5371, 'longitude': 127.1407, 'label': False, 'score': 2.0, 'x': 968257.1117815577, 'y': 1948702.9479896189} ('EA3141F848A48130236498BA18E916C3', 4, 8, 13914, 968257.1117815577, 1948702.9479896189)\n",
      "{'station_ID': 13915, 'latitude': 37.4846, 'longitude': 127.0184, 'label': False, 'score': 2.0, 'x': 957422.4681703411, 'y': 1942926.7041828595} ('EA3141F848A48130236498BA18E916C3', 4, 8, 13915, 957422.4681703411, 1942926.7041828595)\n",
      "{'station_ID': 13916, 'latitude': 37.6616, 'longitude': 127.0139, 'label': False, 'score': 4.0, 'x': 957126.2202194923, 'y': 1962566.0231555786} ('EA3141F848A48130236498BA18E916C3', 4, 8, 13916, 957126.2202194923, 1962566.0231555786)\n",
      "{'station_ID': 13917, 'latitude': 37.5453, 'longitude': 127.0446, 'label': False, 'score': 2.0, 'x': 959771.3800657637, 'y': 1949649.468861763} ('EA3141F848A48130236498BA18E916C3', 4, 8, 13917, 959771.3800657637, 1949649.468861763)\n",
      "{'station_ID': 13918, 'latitude': 37.4924, 'longitude': 127.1449, 'label': False, 'score': 2.0, 'x': 968609.4512397209, 'y': 1943742.3651792721} ('EA3141F848A48130236498BA18E916C3', 4, 8, 13918, 968609.4512397209, 1943742.3651792721)\n",
      "{'station_ID': 13919, 'latitude': 37.5316, 'longitude': 126.9656, 'label': False, 'score': 2.0, 'x': 952784.0790652102, 'y': 1948166.2618899907} ('EA3141F848A48130236498BA18E916C3', 4, 8, 13919, 952784.0790652102, 1948166.2618899907)\n",
      "{'station_ID': 13920, 'latitude': 37.5808, 'longitude': 127.003, 'label': False, 'score': 3.0, 'x': 956117.3705683976, 'y': 1953606.625927546} ('EA3141F848A48130236498BA18E916C3', 4, 8, 13920, 956117.3705683976, 1953606.625927546)\n",
      "{'station_ID': 13921, 'latitude': 37.5512, 'longitude': 127.0355, 'label': False, 'score': 4.0, 'x': 958970.7439318143, 'y': 1950307.973979812} ('EA3141F848A48130236498BA18E916C3', 4, 8, 13921, 958970.7439318143, 1950307.973979812)\n",
      "{'station_ID': 13922, 'latitude': 37.6511, 'longitude': 127.0134, 'label': False, 'score': 5.0, 'x': 957076.0758316185, 'y': 1961401.3124459793} ('EA3141F848A48130236498BA18E916C3', 4, 8, 13922, 957076.0758316185, 1961401.3124459793)\n",
      "{'station_ID': 13923, 'latitude': 37.4916, 'longitude': 127.0533, 'label': False, 'score': 2.0, 'x': 960511.6266543153, 'y': 1943688.096137209} ('EA3141F848A48130236498BA18E916C3', 4, 8, 13923, 960511.6266543153, 1943688.096137209)\n",
      "{'station_ID': 13924, 'latitude': 37.6281, 'longitude': 127.02, 'label': False, 'score': 2.0, 'x': 957645.2226157638, 'y': 1958846.5482476738} ('EA3141F848A48130236498BA18E916C3', 4, 8, 13924, 957645.2226157638, 1958846.5482476738)\n",
      "{'station_ID': 13925, 'latitude': 37.5509, 'longitude': 127.0886, 'label': False, 'score': 2.0, 'x': 963660.9402568013, 'y': 1950252.8398730024} ('EA3141F848A48130236498BA18E916C3', 4, 8, 13925, 963660.9402568013, 1950252.8398730024)\n",
      "{'station_ID': 13926, 'latitude': 37.5368, 'longitude': 126.8927, 'label': False, 'score': 4.0, 'x': 946346.8012896007, 'y': 1948782.2708937782} ('EA3141F848A48130236498BA18E916C3', 4, 8, 13926, 946346.8012896007, 1948782.2708937782)\n",
      "{'station_ID': 13927, 'latitude': 37.5397, 'longitude': 126.8414, 'label': False, 'score': 2.0, 'x': 941816.7981882581, 'y': 1949134.5184724063} ('EA3141F848A48130236498BA18E916C3', 4, 8, 13927, 941816.7981882581, 1949134.5184724063)\n",
      "{'station_ID': 13928, 'latitude': 37.5045, 'longitude': 126.9372, 'label': False, 'score': 2.0, 'x': 950256.8427980626, 'y': 1945174.3061619587} ('EA3141F848A48130236498BA18E916C3', 4, 8, 13928, 950256.8427980626, 1945174.3061619587)\n",
      "{'station_ID': 13929, 'latitude': 37.5213, 'longitude': 126.975, 'label': False, 'score': 2.0, 'x': 953608.2265172866, 'y': 1947018.8573519525} ('EA3141F848A48130236498BA18E916C3', 4, 8, 13929, 953608.2265172866, 1947018.8573519525)\n",
      "{'station_ID': 13930, 'latitude': 37.5767, 'longitude': 126.9838, 'label': False, 'score': 2.0, 'x': 954419.5950324449, 'y': 1953160.8921806207} ('EA3141F848A48130236498BA18E916C3', 4, 8, 13930, 954419.5950324449, 1953160.8921806207)\n",
      "{'station_ID': 13931, 'latitude': 37.6379, 'longitude': 126.9188, 'label': False, 'score': 2.0, 'x': 948722.0864822719, 'y': 1959984.3158460394} ('EA3141F848A48130236498BA18E916C3', 4, 8, 13931, 948722.0864822719, 1959984.3158460394)\n",
      "{'station_ID': 13932, 'latitude': 37.5534, 'longitude': 126.9355, 'label': False, 'score': 3.0, 'x': 950139.1482157072, 'y': 1950600.3965624059} ('EA3141F848A48130236498BA18E916C3', 4, 8, 13932, 950139.1482157072, 1950600.3965624059)\n",
      "{'station_ID': 13933, 'latitude': 37.6069, 'longitude': 127.0508, 'label': False, 'score': 2.0, 'x': 960351.7464667826, 'y': 1956481.0435025566} ('EA3141F848A48130236498BA18E916C3', 4, 8, 13933, 960351.7464667826, 1956481.0435025566)\n",
      "{'station_ID': 13934, 'latitude': 37.5502, 'longitude': 127.0892, 'label': False, 'score': 2.0, 'x': 963713.5992724178, 'y': 1950174.9470755737} ('EA3141F848A48130236498BA18E916C3', 4, 8, 13934, 963713.5992724178, 1950174.9470755737)\n",
      "{'station_ID': 13935, 'latitude': 37.4763, 'longitude': 126.9157, 'label': False, 'score': 2.0, 'x': 948337.1260770933, 'y': 1942057.267976346} ('EA3141F848A48130236498BA18E916C3', 4, 8, 13935, 948337.1260770933, 1942057.267976346)\n",
      "{'station_ID': 13936, 'latitude': 37.6776, 'longitude': 127.0541, 'label': False, 'score': 4.0, 'x': 960680.302088485, 'y': 1964323.550289562} ('EA3141F848A48130236498BA18E916C3', 4, 8, 13936, 960680.302088485, 1964323.550289562)\n",
      "{'station_ID': 13937, 'latitude': 37.5517, 'longitude': 127.1291, 'label': False, 'score': 2.0, 'x': 967238.6787453374, 'y': 1950326.7104398531} ('EA3141F848A48130236498BA18E916C3', 4, 8, 13937, 967238.6787453374, 1950326.7104398531)\n",
      "{'station_ID': 13938, 'latitude': 37.5943, 'longitude': 127.0634, 'label': False, 'score': 1.0, 'x': 961457.3806870464, 'y': 1955077.8856022411} ('EA3141F848A48130236498BA18E916C3', 4, 8, 13938, 961457.3806870464, 1955077.8856022411)\n",
      "{'station_ID': 13939, 'latitude': 37.4638, 'longitude': 126.9901, 'label': False, 'score': 2.0, 'x': 954907.9960642317, 'y': 1940632.2577140536} ('EA3141F848A48130236498BA18E916C3', 4, 8, 13939, 954907.9960642317, 1940632.2577140536)\n",
      "{'station_ID': 13940, 'latitude': 37.6137, 'longitude': 127.0089, 'label': False, 'score': 4.0, 'x': 956657.4029728832, 'y': 1957253.99408776} ('EA3141F848A48130236498BA18E916C3', 4, 8, 13940, 956657.4029728832, 1957253.99408776)\n",
      "{'station_ID': 13941, 'latitude': 37.6892, 'longitude': 127.0461, 'label': False, 'score': 4.0, 'x': 959981.0867733214, 'y': 1965613.9211499537} ('EA3141F848A48130236498BA18E916C3', 4, 8, 13941, 959981.0867733214, 1965613.9211499537)\n",
      "{'station_ID': 13942, 'latitude': 37.4628, 'longitude': 126.9912, 'label': False, 'score': 1.0, 'x': 955004.6738064929, 'y': 1940520.788590772} ('EA3141F848A48130236498BA18E916C3', 4, 8, 13942, 955004.6738064929, 1940520.788590772)\n",
      "{'station_ID': 13943, 'latitude': 37.4913, 'longitude': 127.0564, 'label': False, 'score': 4.0, 'x': 960785.5118982429, 'y': 1943653.5172244383} ('EA3141F848A48130236498BA18E916C3', 4, 8, 13943, 960785.5118982429, 1943653.5172244383)\n",
      "{'station_ID': 13944, 'latitude': 37.4852, 'longitude': 127.0478, 'label': False, 'score': 4.0, 'x': 960022.0122792943, 'y': 1942980.3802367442} ('EA3141F848A48130236498BA18E916C3', 4, 8, 13944, 960022.0122792943, 1942980.3802367442)\n",
      "{'station_ID': 13945, 'latitude': 37.5116, 'longitude': 127.0857, 'label': False, 'score': 2.0, 'x': 963385.5747505021, 'y': 1945893.8661914268} ('EA3141F848A48130236498BA18E916C3', 4, 8, 13945, 963385.5747505021, 1945893.8661914268)\n",
      "{'station_ID': 13946, 'latitude': 37.5819, 'longitude': 126.9523, 'label': False, 'score': 2.0, 'x': 951641.4904671569, 'y': 1953753.5569841738} ('EA3141F848A48130236498BA18E916C3', 4, 8, 13946, 951641.4904671569, 1953753.5569841738)\n",
      "{'station_ID': 13947, 'latitude': 37.5848, 'longitude': 127.0274, 'label': False, 'score': 3.0, 'x': 958274.0148569372, 'y': 1954039.2887259307} ('EA3141F848A48130236498BA18E916C3', 4, 8, 13947, 958274.0148569372, 1954039.2887259307)\n",
      "{'station_ID': 13948, 'latitude': 37.504, 'longitude': 126.9944, 'label': False, 'score': 2.0, 'x': 955312.2110505804, 'y': 1945090.1354220095} ('EA3141F848A48130236498BA18E916C3', 4, 8, 13948, 955312.2110505804, 1945090.1354220095)\n",
      "{'station_ID': 13949, 'latitude': 37.5607, 'longitude': 126.8528, 'label': False, 'score': 2.0, 'x': 942839.9683692652, 'y': 1951457.3793512604} ('EA3141F848A48130236498BA18E916C3', 4, 8, 13949, 942839.9683692652, 1951457.3793512604)\n",
      "{'station_ID': 13950, 'latitude': 37.5069, 'longitude': 127.0331, 'label': False, 'score': 2.0, 'x': 958734.3529350936, 'y': 1945394.1983887656} ('EA3141F848A48130236498BA18E916C3', 4, 8, 13950, 958734.3529350936, 1945394.1983887656)\n",
      "{'station_ID': 13951, 'latitude': 37.5735, 'longitude': 127.0253, 'label': False, 'score': 4.0, 'x': 958082.2695513204, 'y': 1952786.5437865139} ('EA3141F848A48130236498BA18E916C3', 4, 8, 13951, 958082.2695513204, 1952786.5437865139)\n",
      "{'station_ID': 13952, 'latitude': 37.5618, 'longitude': 126.8014, 'label': False, 'score': 1.0, 'x': 938301.2247181064, 'y': 1951611.9223661444} ('EA3141F848A48130236498BA18E916C3', 4, 8, 13952, 938301.2247181064, 1951611.9223661444)\n",
      "{'station_ID': 13953, 'latitude': 37.605, 'longitude': 127.0239, 'label': False, 'score': 1.0, 'x': 957976.3583874652, 'y': 1956281.9466463514} ('EA3141F848A48130236498BA18E916C3', 4, 8, 13953, 957976.3583874652, 1956281.9466463514)\n",
      "{'station_ID': 13954, 'latitude': 37.5694, 'longitude': 126.8995, 'label': False, 'score': 4.0, 'x': 946970.6722637995, 'y': 1952395.2270945513} ('EA3141F848A48130236498BA18E916C3', 4, 8, 13954, 946970.6722637995, 1952395.2270945513)\n",
      "{'station_ID': 13955, 'latitude': 37.485, 'longitude': 126.9811, 'label': False, 'score': 1.0, 'x': 954125.0530718681, 'y': 1942988.6033085578} ('EA3141F848A48130236498BA18E916C3', 4, 8, 13955, 954125.0530718681, 1942988.6033085578)\n",
      "{'station_ID': 13956, 'latitude': 37.6007, 'longitude': 126.9369, 'label': False, 'score': 2.0, 'x': 950294.2601783491, 'y': 1955847.376090522} ('EA3141F848A48130236498BA18E916C3', 4, 8, 13956, 950294.2601783491, 1955847.376090522)\n",
      "{'station_ID': 13957, 'latitude': 37.5209, 'longitude': 126.8533, 'label': False, 'score': 2.0, 'x': 942853.7586398036, 'y': 1947041.4544923767} ('EA3141F848A48130236498BA18E916C3', 4, 8, 13957, 942853.7586398036, 1947041.4544923767)\n",
      "{'station_ID': 13958, 'latitude': 37.526, 'longitude': 126.8544, 'label': False, 'score': 2.0, 'x': 942954.8456587555, 'y': 1947606.6059063103} ('EA3141F848A48130236498BA18E916C3', 4, 8, 13958, 942954.8456587555, 1947606.6059063103)\n",
      "{'station_ID': 13959, 'latitude': 37.5849, 'longitude': 126.9083, 'label': False, 'score': 3.0, 'x': 947758.625753843, 'y': 1954109.9544520744} ('EA3141F848A48130236498BA18E916C3', 4, 8, 13959, 947758.625753843, 1954109.9544520744)\n",
      "{'station_ID': 13960, 'latitude': 37.6689, 'longitude': 127.0453, 'label': False, 'score': 4.0, 'x': 959899.6276635957, 'y': 1963362.0408414532} ('EA3141F848A48130236498BA18E916C3', 4, 8, 13960, 959899.6276635957, 1963362.0408414532)\n",
      "{'station_ID': 13961, 'latitude': 37.575, 'longitude': 126.9856, 'label': False, 'score': 2.0, 'x': 954577.5033220815, 'y': 1952971.4135491198} ('EA3141F848A48130236498BA18E916C3', 4, 8, 13961, 954577.5033220815, 1952971.4135491198)\n",
      "{'station_ID': 13962, 'latitude': 37.4853, 'longitude': 127.124, 'label': False, 'score': 2.0, 'x': 966758.7555727401, 'y': 1942961.8440797832} ('EA3141F848A48130236498BA18E916C3', 4, 8, 13962, 966758.7555727401, 1942961.8440797832)\n",
      "{'station_ID': 13963, 'latitude': 37.5004, 'longitude': 127.1117, 'label': False, 'score': 2.0, 'x': 965678.2486678725, 'y': 1944641.4998416773} ('EA3141F848A48130236498BA18E916C3', 4, 8, 13963, 965678.2486678725, 1944641.4998416773)\n",
      "{'station_ID': 13964, 'latitude': 37.5614, 'longitude': 127.0132, 'label': False, 'score': 2.0, 'x': 957006.8349728774, 'y': 1951449.5768473342} ('EA3141F848A48130236498BA18E916C3', 4, 8, 13964, 957006.8349728774, 1951449.5768473342)\n",
      "{'station_ID': 13965, 'latitude': 37.495, 'longitude': 127.1508, 'label': False, 'score': 2.0, 'x': 969132.0781832169, 'y': 1944028.866020526} ('EA3141F848A48130236498BA18E916C3', 4, 8, 13965, 969132.0781832169, 1944028.866020526)\n",
      "{'station_ID': 13966, 'latitude': 37.5997, 'longitude': 126.9349, 'label': False, 'score': 2.0, 'x': 950117.0478248242, 'y': 1955737.4907457859} ('EA3141F848A48130236498BA18E916C3', 4, 8, 13966, 950117.0478248242, 1955737.4907457859)\n",
      "{'station_ID': 13967, 'latitude': 37.4883, 'longitude': 127.0674, 'label': False, 'score': 4.0, 'x': 961756.3934795068, 'y': 1943316.1618529141} ('EA3141F848A48130236498BA18E916C3', 4, 8, 13967, 961756.3934795068, 1943316.1618529141)\n",
      "{'station_ID': 13968, 'latitude': 37.5257, 'longitude': 126.8576, 'label': False, 'score': 2.0, 'x': 943237.3731309695, 'y': 1947571.3864665453} ('EA3141F848A48130236498BA18E916C3', 4, 8, 13968, 943237.3731309695, 1947571.3864665453)\n",
      "{'station_ID': 13969, 'latitude': 37.5046, 'longitude': 126.9403, 'label': False, 'score': 2.0, 'x': 950530.9050027324, 'y': 1945183.7664533192} ('EA3141F848A48130236498BA18E916C3', 4, 8, 13969, 950530.9050027324, 1945183.7664533192)\n",
      "{'station_ID': 13970, 'latitude': 37.5397, 'longitude': 127.0011, 'label': False, 'score': 2.0, 'x': 955925.4046135833, 'y': 1949047.681084671} ('EA3141F848A48130236498BA18E916C3', 4, 8, 13970, 955925.4046135833, 1949047.681084671)\n",
      "{'station_ID': 13971, 'latitude': 37.529, 'longitude': 126.9649, 'label': False, 'score': 2.0, 'x': 952720.5902376615, 'y': 1947878.157921437} ('EA3141F848A48130236498BA18E916C3', 4, 8, 13971, 952720.5902376615, 1947878.157921437)\n",
      "{'station_ID': 13972, 'latitude': 37.5788, 'longitude': 126.7995, 'label': False, 'score': 4.0, 'x': 938147.4796082367, 'y': 1953499.2553638474} ('EA3141F848A48130236498BA18E916C3', 4, 8, 13972, 938147.4796082367, 1953499.2553638474)\n",
      "{'station_ID': 13973, 'latitude': 37.5161, 'longitude': 127.0408, 'label': False, 'score': 2.0, 'x': 959419.8809494111, 'y': 1946411.5324543656} ('EA3141F848A48130236498BA18E916C3', 4, 8, 13973, 959419.8809494111, 1946411.5324543656)\n",
      "{'station_ID': 13974, 'latitude': 37.6232, 'longitude': 127.0193, 'label': False, 'score': 2.0, 'x': 957580.6703094294, 'y': 1958303.228949139} ('EA3141F848A48130236498BA18E916C3', 4, 8, 13974, 957580.6703094294, 1958303.228949139)\n",
      "{'station_ID': 13975, 'latitude': 37.5651, 'longitude': 127.0187, 'label': False, 'score': 2.0, 'x': 957494.6887776178, 'y': 1951857.5710285688} ('EA3141F848A48130236498BA18E916C3', 4, 8, 13975, 957494.6887776178, 1951857.5710285688)\n",
      "{'station_ID': 13976, 'latitude': 37.5099, 'longitude': 127.1255, 'label': False, 'score': 2.0, 'x': 966902.2265376236, 'y': 1945690.518655736} ('EA3141F848A48130236498BA18E916C3', 4, 8, 13976, 966902.2265376236, 1945690.518655736)\n",
      "{'station_ID': 13977, 'latitude': 37.5659, 'longitude': 127.0147, 'label': False, 'score': 2.0, 'x': 957141.8907408525, 'y': 1951948.143657716} ('EA3141F848A48130236498BA18E916C3', 4, 8, 13977, 957141.8907408525, 1951948.143657716)\n",
      "{'station_ID': 13978, 'latitude': 37.4972, 'longitude': 126.8722, 'label': False, 'score': 4.0, 'x': 944506.3491164991, 'y': 1944400.754779672} ('EA3141F848A48130236498BA18E916C3', 4, 8, 13978, 944506.3491164991, 1944400.754779672)\n",
      "{'station_ID': 13979, 'latitude': 37.6014, 'longitude': 127.0122, 'label': False, 'score': 1.0, 'x': 956941.559991199, 'y': 1955887.8433819648} ('EA3141F848A48130236498BA18E916C3', 4, 8, 13979, 956941.559991199, 1955887.8433819648)\n",
      "{'station_ID': 13980, 'latitude': 37.6182, 'longitude': 127.0913, 'label': False, 'score': 3.0, 'x': 963931.9187196197, 'y': 1957718.3957105358} ('EA3141F848A48130236498BA18E916C3', 4, 8, 13980, 963931.9187196197, 1957718.3957105358)\n",
      "{'station_ID': 13981, 'latitude': 37.4932, 'longitude': 127.0159, 'label': False, 'score': 1.0, 'x': 957206.3519276859, 'y': 1943881.951550261} ('EA3141F848A48130236498BA18E916C3', 4, 8, 13981, 957206.3519276859, 1943881.951550261)\n",
      "{'station_ID': 13982, 'latitude': 37.5617, 'longitude': 126.8017, 'label': False, 'score': 1.0, 'x': 938327.6379468481, 'y': 1951600.6308627026} ('EA3141F848A48130236498BA18E916C3', 4, 8, 13982, 938327.6379468481, 1951600.6308627026)\n",
      "{'station_ID': 13983, 'latitude': 37.545, 'longitude': 126.8835, 'label': False, 'score': 4.0, 'x': 945539.9646521361, 'y': 1949697.3095189803} ('EA3141F848A48130236498BA18E916C3', 4, 8, 13983, 945539.9646521361, 1949697.3095189803)\n",
      "{'station_ID': 13984, 'latitude': 37.5431, 'longitude': 127.0561, 'label': False, 'score': 2.0, 'x': 960786.1073134776, 'y': 1949400.5328672356} ('EA3141F848A48130236498BA18E916C3', 4, 8, 13984, 960786.1073134776, 1949400.5328672356)\n",
      "{'station_ID': 13985, 'latitude': 37.5111, 'longitude': 127.0745, 'label': False, 'score': 2.0, 'x': 962395.5012942514, 'y': 1945842.8115955247} ('EA3141F848A48130236498BA18E916C3', 4, 8, 13985, 962395.5012942514, 1945842.8115955247)\n",
      "{'station_ID': 13986, 'latitude': 37.515, 'longitude': 126.8826, 'label': False, 'score': 4.0, 'x': 945438.6110902072, 'y': 1946369.48469319} ('EA3141F848A48130236498BA18E916C3', 4, 8, 13986, 945438.6110902072, 1946369.48469319)\n",
      "{'station_ID': 13987, 'latitude': 37.6216, 'longitude': 127.0201, 'label': False, 'score': 2.0, 'x': 957650.3590046577, 'y': 1958125.3541503483} ('EA3141F848A48130236498BA18E916C3', 4, 8, 13987, 957650.3590046577, 1958125.3541503483)\n",
      "{'station_ID': 13988, 'latitude': 37.5192, 'longitude': 126.989, 'label': False, 'score': 4.0, 'x': 954844.0835925555, 'y': 1946779.0623573472} ('EA3141F848A48130236498BA18E916C3', 4, 8, 13988, 954844.0835925555, 1946779.0623573472)\n",
      "{'station_ID': 13989, 'latitude': 37.5488, 'longitude': 127.0172, 'label': False, 'score': 2.0, 'x': 957352.9288678134, 'y': 1950049.8513207803} ('EA3141F848A48130236498BA18E916C3', 4, 8, 13989, 957352.9288678134, 1950049.8513207803)\n",
      "{'station_ID': 13990, 'latitude': 37.5048, 'longitude': 127.1089, 'label': False, 'score': 2.0, 'x': 965432.7848953315, 'y': 1945130.675426684} ('EA3141F848A48130236498BA18E916C3', 4, 8, 13990, 965432.7848953315, 1945130.675426684)\n",
      "{'station_ID': 13991, 'latitude': 37.5155, 'longitude': 127.0207, 'label': False, 'score': 2.0, 'x': 957643.2673232201, 'y': 1946353.8255510158} ('EA3141F848A48130236498BA18E916C3', 4, 8, 13991, 957643.2673232201, 1946353.8255510158)\n",
      "{'station_ID': 13992, 'latitude': 37.5155, 'longitude': 127.0605, 'label': False, 'score': 2.0, 'x': 961160.4944863112, 'y': 1946336.6512773482} ('EA3141F848A48130236498BA18E916C3', 4, 8, 13992, 961160.4944863112, 1946336.6512773482)\n",
      "{'station_ID': 13993, 'latitude': 37.4881, 'longitude': 127.0661, 'label': False, 'score': 4.0, 'x': 961641.3653291856, 'y': 1943294.502102451} ('EA3141F848A48130236498BA18E916C3', 4, 8, 13993, 961641.3653291856, 1943294.502102451)\n",
      "{'station_ID': 13994, 'latitude': 37.5009, 'longitude': 126.9113, 'label': False, 'score': 2.0, 'x': 947965.1486321623, 'y': 1944788.912520316} ('EA3141F848A48130236498BA18E916C3', 4, 8, 13994, 947965.1486321623, 1944788.912520316)\n",
      "{'station_ID': 13995, 'latitude': 37.5477, 'longitude': 126.9133, 'label': False, 'score': 2.0, 'x': 948174.3143872386, 'y': 1949980.0166056994} ('EA3141F848A48130236498BA18E916C3', 4, 8, 13995, 948174.3143872386, 1949980.0166056994)\n",
      "{'station_ID': 13996, 'latitude': 37.5147, 'longitude': 127.0528, 'label': False, 'score': 2.0, 'x': 960479.6044410892, 'y': 1946251.102801656} ('EA3141F848A48130236498BA18E916C3', 4, 8, 13996, 960479.6044410892, 1946251.102801656)\n",
      "{'station_ID': 13997, 'latitude': 37.5056, 'longitude': 127.0338, 'label': False, 'score': 2.0, 'x': 958795.5063091326, 'y': 1945249.664817132} ('EA3141F848A48130236498BA18E916C3', 4, 8, 13997, 958795.5063091326, 1945249.664817132)\n",
      "{'station_ID': 13998, 'latitude': 37.5668, 'longitude': 126.8436, 'label': False, 'score': 2.0, 'x': 942032.1517275745, 'y': 1952139.783429689} ('EA3141F848A48130236498BA18E916C3', 4, 8, 13998, 942032.1517275745, 1952139.783429689)\n",
      "{'station_ID': 13999, 'latitude': 37.6456, 'longitude': 127.0624, 'label': False, 'score': 4.0, 'x': 961395.6363193068, 'y': 1960769.8126562287} ('EA3141F848A48130236498BA18E916C3', 4, 8, 13999, 961395.6363193068, 1960769.8126562287)\n",
      "{'station_ID': 14000, 'latitude': 37.5041, 'longitude': 127.0052, 'label': False, 'score': 2.0, 'x': 956266.8407640051, 'y': 1945096.1560734136} ('EA3141F848A48130236498BA18E916C3', 4, 8, 14000, 956266.8407640051, 1945096.1560734136)\n",
      "{'station_ID': 14001, 'latitude': 37.5114, 'longitude': 127.0444, 'label': False, 'score': 2.0, 'x': 959735.4945695659, 'y': 1945888.5498205116} ('EA3141F848A48130236498BA18E916C3', 4, 8, 14001, 959735.4945695659, 1945888.5498205116)\n",
      "{'station_ID': 14002, 'latitude': 37.4889, 'longitude': 126.9645, 'label': False, 'score': 2.0, 'x': 952659.929239511, 'y': 1943429.501625399} ('EA3141F848A48130236498BA18E916C3', 4, 8, 14002, 952659.929239511, 1943429.501625399)\n",
      "{'station_ID': 14003, 'latitude': 37.5288, 'longitude': 127.0842, 'label': False, 'score': 4.0, 'x': 963261.443515546, 'y': 1947802.6840394437} ('EA3141F848A48130236498BA18E916C3', 4, 8, 14003, 963261.443515546, 1947802.6840394437)\n",
      "{'station_ID': 14004, 'latitude': 37.6829, 'longitude': 127.0556, 'label': False, 'score': 4.0, 'x': 960815.3614345811, 'y': 1964910.9406734067} ('EA3141F848A48130236498BA18E916C3', 4, 8, 14004, 960815.3614345811, 1964910.9406734067)\n",
      "{'station_ID': 14005, 'latitude': 37.5453, 'longitude': 126.8742, 'label': False, 'score': 2.0, 'x': 944718.6395176386, 'y': 1949736.0207665043} ('EA3141F848A48130236498BA18E916C3', 4, 8, 14005, 944718.6395176386, 1949736.0207665043)\n",
      "{'station_ID': 14006, 'latitude': 37.4941, 'longitude': 126.8228, 'label': False, 'score': 2.0, 'x': 940137.1678280438, 'y': 1944087.0992022636} ('EA3141F848A48130236498BA18E916C3', 4, 8, 14006, 940137.1678280438, 1944087.0992022636)\n",
      "{'station_ID': 14007, 'latitude': 37.4835, 'longitude': 126.9693, 'label': False, 'score': 2.0, 'x': 953080.8920849197, 'y': 1942828.0030507909} ('EA3141F848A48130236498BA18E916C3', 4, 8, 14007, 953080.8920849197, 1942828.0030507909)\n",
      "{'station_ID': 14008, 'latitude': 37.6311, 'longitude': 127.0375, 'label': False, 'score': 4.0, 'x': 959191.0564184756, 'y': 1959171.631855602} ('EA3141F848A48130236498BA18E916C3', 4, 8, 14008, 959191.0564184756, 1959171.631855602)\n",
      "{'station_ID': 14009, 'latitude': 37.6177, 'longitude': 127.0793, 'label': False, 'score': 4.0, 'x': 962872.6562698416, 'y': 1957667.6016768184} ('EA3141F848A48130236498BA18E916C3', 4, 8, 14009, 962872.6562698416, 1957667.6016768184)\n",
      "{'station_ID': 14010, 'latitude': 37.5214, 'longitude': 126.8878, 'label': False, 'score': 2.0, 'x': 945902.7750426308, 'y': 1947076.5274060655} ('EA3141F848A48130236498BA18E916C3', 4, 8, 14010, 945902.7750426308, 1947076.5274060655)\n",
      "{'station_ID': 14011, 'latitude': 37.569, 'longitude': 126.8401, 'label': False, 'score': 3.0, 'x': 941724.77104461, 'y': 1952386.0290585717} ('EA3141F848A48130236498BA18E916C3', 4, 8, 14011, 941724.77104461, 1952386.0290585717)\n",
      "{'station_ID': 14012, 'latitude': 37.5272, 'longitude': 127.1359, 'label': False, 'score': 3.0, 'x': 967828.795096438, 'y': 1947606.235152854} ('EA3141F848A48130236498BA18E916C3', 4, 8, 14012, 967828.795096438, 1947606.235152854)\n",
      "{'station_ID': 14013, 'latitude': 37.5234, 'longitude': 126.9234, 'label': False, 'score': 3.0, 'x': 949049.9676873159, 'y': 1947278.5387718747} ('EA3141F848A48130236498BA18E916C3', 4, 8, 14013, 949049.9676873159, 1947278.5387718747)\n",
      "{'station_ID': 14014, 'latitude': 37.5363, 'longitude': 127.1323, 'label': False, 'score': 2.0, 'x': 967514.6517361699, 'y': 1948617.0614546337} ('EA3141F848A48130236498BA18E916C3', 4, 8, 14014, 967514.6517361699, 1948617.0614546337)\n",
      "{'station_ID': 14015, 'latitude': 37.4794, 'longitude': 126.9524, 'label': False, 'score': 3.0, 'x': 951584.1083887853, 'y': 1942381.6902842422} ('EA3141F848A48130236498BA18E916C3', 4, 8, 14015, 951584.1083887853, 1942381.6902842422)\n",
      "{'station_ID': 14016, 'latitude': 37.5405, 'longitude': 126.9707, 'label': False, 'score': 3.0, 'x': 953240.2411048794, 'y': 1949151.1202095097} ('EA3141F848A48130236498BA18E916C3', 4, 8, 14016, 953240.2411048794, 1949151.1202095097)\n",
      "{'station_ID': 14017, 'latitude': 37.4757, 'longitude': 126.9815, 'label': False, 'score': 3.0, 'x': 954154.7348864672, 'y': 1941956.6342725216} ('EA3141F848A48130236498BA18E916C3', 4, 8, 14017, 954154.7348864672, 1941956.6342725216)\n",
      "{'station_ID': 14018, 'latitude': 37.5559, 'longitude': 126.9388, 'label': False, 'score': 3.0, 'x': 950432.2872003058, 'y': 1950876.0138885744} ('EA3141F848A48130236498BA18E916C3', 4, 8, 14018, 950432.2872003058, 1950876.0138885744)\n",
      "{'station_ID': 14019, 'latitude': 37.5986, 'longitude': 126.9149, 'label': False, 'score': 4.0, 'x': 948350.8160912332, 'y': 1955626.2626479757} ('EA3141F848A48130236498BA18E916C3', 4, 8, 14019, 948350.8160912332, 1955626.2626479757)\n",
      "{'station_ID': 14020, 'latitude': 37.5652, 'longitude': 126.9661, 'label': False, 'score': 3.0, 'x': 952849.4259789673, 'y': 1951893.7564324155} ('EA3141F848A48130236498BA18E916C3', 4, 8, 14020, 952849.4259789673, 1951893.7564324155)\n",
      "{'station_ID': 14021, 'latitude': 37.4874, 'longitude': 127.1028, 'label': False, 'score': 4.0, 'x': 964885.4904759956, 'y': 1943202.5207274149} ('EA3141F848A48130236498BA18E916C3', 4, 8, 14021, 964885.4904759956, 1943202.5207274149)\n",
      "{'station_ID': 14022, 'latitude': 37.5359, 'longitude': 127.1323, 'label': False, 'score': 2.0, 'x': 967514.4782183861, 'y': 1948572.6838881022} ('EA3141F848A48130236498BA18E916C3', 4, 8, 14022, 967514.4782183861, 1948572.6838881022)\n",
      "{'station_ID': 14023, 'latitude': 37.5402, 'longitude': 127.0709, 'label': False, 'score': 5.0, 'x': 962092.0697329207, 'y': 1949072.724967163} ('EA3141F848A48130236498BA18E916C3', 4, 8, 14023, 962092.0697329207, 1949072.724967163)\n",
      "{'station_ID': 14024, 'latitude': 37.5362, 'longitude': 127.0945, 'label': False, 'score': 5.0, 'x': 964175.0573880689, 'y': 1948619.696048172} ('EA3141F848A48130236498BA18E916C3', 4, 8, 14024, 964175.0573880689, 1948619.696048172)\n",
      "{'station_ID': 14025, 'latitude': 37.5306, 'longitude': 127.1223, 'label': False, 'score': 3.0, 'x': 966628.6344743696, 'y': 1947988.1826456878} ('EA3141F848A48130236498BA18E916C3', 4, 8, 14025, 966628.6344743696, 1947988.1826456878)\n",
      "{'station_ID': 14026, 'latitude': 37.5548, 'longitude': 127.0218, 'label': False, 'score': 3.0, 'x': 957762.6483687854, 'y': 1950713.442258884} ('EA3141F848A48130236498BA18E916C3', 4, 8, 14026, 957762.6483687854, 1950713.442258884)\n",
      "{'station_ID': 14027, 'latitude': 37.5168, 'longitude': 126.8942, 'label': False, 'score': 3.0, 'x': 946465.0319465001, 'y': 1946562.520857314} ('EA3141F848A48130236498BA18E916C3', 4, 8, 14027, 946465.0319465001, 1946562.520857314)\n"
     ]
    }
   ],
   "source": [
    "#crawl_true_data\n",
    "words_list = util.cartesian_product(AUTH_KEY, MODE, ZOOM, station_df['station_ID'][5183:])\n",
    "driver = webdriver.Chrome(executable_path='chromedriver')\n",
    "driver.get(url=url)\n",
    "time.sleep(1.5)\n",
    "for words in words_list:\n",
    "    station = dict(zip(station_df.columns, station_df[station_df['station_ID']==words[-1]].values[0]))\n",
    "    words += (station['x'], station['y'])\n",
    "    print(station, words)\n",
    "    util.specify_file(rfile, wfile,[\"<API_KEY>\",\"<MODE>\",\"<ZOOM>\",\"<NOT_TOKEN>\",\"<X_COORD>\",\"<Y_COORD>\"],words)\n",
    "    time.sleep(1)\n",
    "    driver.refresh()\n",
    "    time.sleep(1.5)\n",
    "    canvas = driver.find_element_by_xpath(r'//*[@id=\"map1\"]/div/div[1]/div/canvas')\n",
    "    canvas.screenshot(save_dir + f\"station_false_{station['station_ID']}_{words[2]}_{words[1]}.png\")"
   ]
  },
  {
   "cell_type": "markdown",
   "metadata": {},
   "source": [
    "--------------------------------------------밑에는 테스트 코드입니다--------------------------------------------------------"
   ]
  },
  {
   "cell_type": "code",
   "execution_count": 41,
   "metadata": {},
   "outputs": [
    {
     "ename": "ProtocolError",
     "evalue": "('Connection aborted.', ConnectionResetError(10054, '현재 연결은 원격 호스트에 의해 강제로 끊겼습니다', None, 10054, None))",
     "output_type": "error",
     "traceback": [
      "\u001b[1;31m---------------------------------------------------------------------------\u001b[0m",
      "\u001b[1;31mConnectionResetError\u001b[0m                      Traceback (most recent call last)",
      "\u001b[1;32mc:\\Users\\netis\\Anaconda3\\lib\\site-packages\\urllib3\\connectionpool.py\u001b[0m in \u001b[0;36murlopen\u001b[1;34m(self, method, url, body, headers, retries, redirect, assert_same_host, timeout, pool_timeout, release_conn, chunked, body_pos, **response_kw)\u001b[0m\n\u001b[0;32m    702\u001b[0m             \u001b[1;31m# Make the request on the httplib connection object.\u001b[0m\u001b[1;33m\u001b[0m\u001b[1;33m\u001b[0m\u001b[0m\n\u001b[1;32m--> 703\u001b[1;33m             httplib_response = self._make_request(\n\u001b[0m\u001b[0;32m    704\u001b[0m                 \u001b[0mconn\u001b[0m\u001b[1;33m,\u001b[0m\u001b[1;33m\u001b[0m\u001b[1;33m\u001b[0m\u001b[0m\n",
      "\u001b[1;32mc:\\Users\\netis\\Anaconda3\\lib\\site-packages\\urllib3\\connectionpool.py\u001b[0m in \u001b[0;36m_make_request\u001b[1;34m(self, conn, method, url, timeout, chunked, **httplib_request_kw)\u001b[0m\n\u001b[0;32m    448\u001b[0m                     \u001b[1;31m# Otherwise it looks like a bug in the code.\u001b[0m\u001b[1;33m\u001b[0m\u001b[1;33m\u001b[0m\u001b[0m\n\u001b[1;32m--> 449\u001b[1;33m                     \u001b[0msix\u001b[0m\u001b[1;33m.\u001b[0m\u001b[0mraise_from\u001b[0m\u001b[1;33m(\u001b[0m\u001b[0me\u001b[0m\u001b[1;33m,\u001b[0m \u001b[1;32mNone\u001b[0m\u001b[1;33m)\u001b[0m\u001b[1;33m\u001b[0m\u001b[1;33m\u001b[0m\u001b[0m\n\u001b[0m\u001b[0;32m    450\u001b[0m         \u001b[1;32mexcept\u001b[0m \u001b[1;33m(\u001b[0m\u001b[0mSocketTimeout\u001b[0m\u001b[1;33m,\u001b[0m \u001b[0mBaseSSLError\u001b[0m\u001b[1;33m,\u001b[0m \u001b[0mSocketError\u001b[0m\u001b[1;33m)\u001b[0m \u001b[1;32mas\u001b[0m \u001b[0me\u001b[0m\u001b[1;33m:\u001b[0m\u001b[1;33m\u001b[0m\u001b[1;33m\u001b[0m\u001b[0m\n",
      "\u001b[1;32mc:\\Users\\netis\\Anaconda3\\lib\\site-packages\\urllib3\\packages\\six.py\u001b[0m in \u001b[0;36mraise_from\u001b[1;34m(value, from_value)\u001b[0m\n",
      "\u001b[1;32mc:\\Users\\netis\\Anaconda3\\lib\\site-packages\\urllib3\\connectionpool.py\u001b[0m in \u001b[0;36m_make_request\u001b[1;34m(self, conn, method, url, timeout, chunked, **httplib_request_kw)\u001b[0m\n\u001b[0;32m    443\u001b[0m                 \u001b[1;32mtry\u001b[0m\u001b[1;33m:\u001b[0m\u001b[1;33m\u001b[0m\u001b[1;33m\u001b[0m\u001b[0m\n\u001b[1;32m--> 444\u001b[1;33m                     \u001b[0mhttplib_response\u001b[0m \u001b[1;33m=\u001b[0m \u001b[0mconn\u001b[0m\u001b[1;33m.\u001b[0m\u001b[0mgetresponse\u001b[0m\u001b[1;33m(\u001b[0m\u001b[1;33m)\u001b[0m\u001b[1;33m\u001b[0m\u001b[1;33m\u001b[0m\u001b[0m\n\u001b[0m\u001b[0;32m    445\u001b[0m                 \u001b[1;32mexcept\u001b[0m \u001b[0mBaseException\u001b[0m \u001b[1;32mas\u001b[0m \u001b[0me\u001b[0m\u001b[1;33m:\u001b[0m\u001b[1;33m\u001b[0m\u001b[1;33m\u001b[0m\u001b[0m\n",
      "\u001b[1;32mc:\\Users\\netis\\Anaconda3\\lib\\http\\client.py\u001b[0m in \u001b[0;36mgetresponse\u001b[1;34m(self)\u001b[0m\n\u001b[0;32m   1376\u001b[0m             \u001b[1;32mtry\u001b[0m\u001b[1;33m:\u001b[0m\u001b[1;33m\u001b[0m\u001b[1;33m\u001b[0m\u001b[0m\n\u001b[1;32m-> 1377\u001b[1;33m                 \u001b[0mresponse\u001b[0m\u001b[1;33m.\u001b[0m\u001b[0mbegin\u001b[0m\u001b[1;33m(\u001b[0m\u001b[1;33m)\u001b[0m\u001b[1;33m\u001b[0m\u001b[1;33m\u001b[0m\u001b[0m\n\u001b[0m\u001b[0;32m   1378\u001b[0m             \u001b[1;32mexcept\u001b[0m \u001b[0mConnectionError\u001b[0m\u001b[1;33m:\u001b[0m\u001b[1;33m\u001b[0m\u001b[1;33m\u001b[0m\u001b[0m\n",
      "\u001b[1;32mc:\\Users\\netis\\Anaconda3\\lib\\http\\client.py\u001b[0m in \u001b[0;36mbegin\u001b[1;34m(self)\u001b[0m\n\u001b[0;32m    319\u001b[0m         \u001b[1;32mwhile\u001b[0m \u001b[1;32mTrue\u001b[0m\u001b[1;33m:\u001b[0m\u001b[1;33m\u001b[0m\u001b[1;33m\u001b[0m\u001b[0m\n\u001b[1;32m--> 320\u001b[1;33m             \u001b[0mversion\u001b[0m\u001b[1;33m,\u001b[0m \u001b[0mstatus\u001b[0m\u001b[1;33m,\u001b[0m \u001b[0mreason\u001b[0m \u001b[1;33m=\u001b[0m \u001b[0mself\u001b[0m\u001b[1;33m.\u001b[0m\u001b[0m_read_status\u001b[0m\u001b[1;33m(\u001b[0m\u001b[1;33m)\u001b[0m\u001b[1;33m\u001b[0m\u001b[1;33m\u001b[0m\u001b[0m\n\u001b[0m\u001b[0;32m    321\u001b[0m             \u001b[1;32mif\u001b[0m \u001b[0mstatus\u001b[0m \u001b[1;33m!=\u001b[0m \u001b[0mCONTINUE\u001b[0m\u001b[1;33m:\u001b[0m\u001b[1;33m\u001b[0m\u001b[1;33m\u001b[0m\u001b[0m\n",
      "\u001b[1;32mc:\\Users\\netis\\Anaconda3\\lib\\http\\client.py\u001b[0m in \u001b[0;36m_read_status\u001b[1;34m(self)\u001b[0m\n\u001b[0;32m    280\u001b[0m     \u001b[1;32mdef\u001b[0m \u001b[0m_read_status\u001b[0m\u001b[1;33m(\u001b[0m\u001b[0mself\u001b[0m\u001b[1;33m)\u001b[0m\u001b[1;33m:\u001b[0m\u001b[1;33m\u001b[0m\u001b[1;33m\u001b[0m\u001b[0m\n\u001b[1;32m--> 281\u001b[1;33m         \u001b[0mline\u001b[0m \u001b[1;33m=\u001b[0m \u001b[0mstr\u001b[0m\u001b[1;33m(\u001b[0m\u001b[0mself\u001b[0m\u001b[1;33m.\u001b[0m\u001b[0mfp\u001b[0m\u001b[1;33m.\u001b[0m\u001b[0mreadline\u001b[0m\u001b[1;33m(\u001b[0m\u001b[0m_MAXLINE\u001b[0m \u001b[1;33m+\u001b[0m \u001b[1;36m1\u001b[0m\u001b[1;33m)\u001b[0m\u001b[1;33m,\u001b[0m \u001b[1;34m\"iso-8859-1\"\u001b[0m\u001b[1;33m)\u001b[0m\u001b[1;33m\u001b[0m\u001b[1;33m\u001b[0m\u001b[0m\n\u001b[0m\u001b[0;32m    282\u001b[0m         \u001b[1;32mif\u001b[0m \u001b[0mlen\u001b[0m\u001b[1;33m(\u001b[0m\u001b[0mline\u001b[0m\u001b[1;33m)\u001b[0m \u001b[1;33m>\u001b[0m \u001b[0m_MAXLINE\u001b[0m\u001b[1;33m:\u001b[0m\u001b[1;33m\u001b[0m\u001b[1;33m\u001b[0m\u001b[0m\n",
      "\u001b[1;32mc:\\Users\\netis\\Anaconda3\\lib\\socket.py\u001b[0m in \u001b[0;36mreadinto\u001b[1;34m(self, b)\u001b[0m\n\u001b[0;32m    703\u001b[0m             \u001b[1;32mtry\u001b[0m\u001b[1;33m:\u001b[0m\u001b[1;33m\u001b[0m\u001b[1;33m\u001b[0m\u001b[0m\n\u001b[1;32m--> 704\u001b[1;33m                 \u001b[1;32mreturn\u001b[0m \u001b[0mself\u001b[0m\u001b[1;33m.\u001b[0m\u001b[0m_sock\u001b[0m\u001b[1;33m.\u001b[0m\u001b[0mrecv_into\u001b[0m\u001b[1;33m(\u001b[0m\u001b[0mb\u001b[0m\u001b[1;33m)\u001b[0m\u001b[1;33m\u001b[0m\u001b[1;33m\u001b[0m\u001b[0m\n\u001b[0m\u001b[0;32m    705\u001b[0m             \u001b[1;32mexcept\u001b[0m \u001b[0mtimeout\u001b[0m\u001b[1;33m:\u001b[0m\u001b[1;33m\u001b[0m\u001b[1;33m\u001b[0m\u001b[0m\n",
      "\u001b[1;31mConnectionResetError\u001b[0m: [WinError 10054] 현재 연결은 원격 호스트에 의해 강제로 끊겼습니다",
      "\nDuring handling of the above exception, another exception occurred:\n",
      "\u001b[1;31mProtocolError\u001b[0m                             Traceback (most recent call last)",
      "\u001b[1;32m~\\AppData\\Local\\Temp\\ipykernel_16240\\1496199321.py\u001b[0m in \u001b[0;36m<module>\u001b[1;34m\u001b[0m\n\u001b[0;32m      7\u001b[0m \u001b[0mwords_list\u001b[0m \u001b[1;33m=\u001b[0m \u001b[0mutil\u001b[0m\u001b[1;33m.\u001b[0m\u001b[0mcartesian_product\u001b[0m\u001b[1;33m(\u001b[0m\u001b[0mAUTH_KEY\u001b[0m\u001b[1;33m,\u001b[0m \u001b[0mMODE\u001b[0m\u001b[1;33m,\u001b[0m \u001b[0mZOOM\u001b[0m\u001b[1;33m,\u001b[0m \u001b[0mstation_df\u001b[0m\u001b[1;33m[\u001b[0m\u001b[1;34m'station_ID'\u001b[0m\u001b[1;33m]\u001b[0m\u001b[1;33m[\u001b[0m\u001b[1;36m30\u001b[0m\u001b[1;33m:\u001b[0m\u001b[1;36m35\u001b[0m\u001b[1;33m]\u001b[0m\u001b[1;33m)\u001b[0m\u001b[1;33m\u001b[0m\u001b[1;33m\u001b[0m\u001b[0m\n\u001b[0;32m      8\u001b[0m \u001b[0mdriver\u001b[0m \u001b[1;33m=\u001b[0m \u001b[0mwebdriver\u001b[0m\u001b[1;33m.\u001b[0m\u001b[0mChrome\u001b[0m\u001b[1;33m(\u001b[0m\u001b[0mexecutable_path\u001b[0m\u001b[1;33m=\u001b[0m\u001b[1;34m'chromedriver'\u001b[0m\u001b[1;33m)\u001b[0m\u001b[1;33m\u001b[0m\u001b[1;33m\u001b[0m\u001b[0m\n\u001b[1;32m----> 9\u001b[1;33m \u001b[0mdriver\u001b[0m\u001b[1;33m.\u001b[0m\u001b[0mget\u001b[0m\u001b[1;33m(\u001b[0m\u001b[0murl\u001b[0m\u001b[1;33m=\u001b[0m\u001b[0murl\u001b[0m\u001b[1;33m)\u001b[0m\u001b[1;33m\u001b[0m\u001b[1;33m\u001b[0m\u001b[0m\n\u001b[0m\u001b[0;32m     10\u001b[0m \u001b[0mtime\u001b[0m\u001b[1;33m.\u001b[0m\u001b[0msleep\u001b[0m\u001b[1;33m(\u001b[0m\u001b[1;36m3\u001b[0m\u001b[1;33m)\u001b[0m\u001b[1;33m\u001b[0m\u001b[1;33m\u001b[0m\u001b[0m\n\u001b[0;32m     11\u001b[0m \u001b[0mcanvas\u001b[0m \u001b[1;33m=\u001b[0m \u001b[0mdriver\u001b[0m\u001b[1;33m.\u001b[0m\u001b[0mfind_element_by_xpath\u001b[0m\u001b[1;33m(\u001b[0m\u001b[1;34mr'//*[@id=\"map1\"]/div/div[1]/div/canvas'\u001b[0m\u001b[1;33m)\u001b[0m\u001b[1;33m\u001b[0m\u001b[1;33m\u001b[0m\u001b[0m\n",
      "\u001b[1;32mc:\\Users\\netis\\Anaconda3\\lib\\site-packages\\selenium\\webdriver\\remote\\webdriver.py\u001b[0m in \u001b[0;36mget\u001b[1;34m(self, url)\u001b[0m\n\u001b[0;32m    331\u001b[0m         \u001b[0mLoads\u001b[0m \u001b[0ma\u001b[0m \u001b[0mweb\u001b[0m \u001b[0mpage\u001b[0m \u001b[1;32min\u001b[0m \u001b[0mthe\u001b[0m \u001b[0mcurrent\u001b[0m \u001b[0mbrowser\u001b[0m \u001b[0msession\u001b[0m\u001b[1;33m.\u001b[0m\u001b[1;33m\u001b[0m\u001b[1;33m\u001b[0m\u001b[0m\n\u001b[0;32m    332\u001b[0m         \"\"\"\n\u001b[1;32m--> 333\u001b[1;33m         \u001b[0mself\u001b[0m\u001b[1;33m.\u001b[0m\u001b[0mexecute\u001b[0m\u001b[1;33m(\u001b[0m\u001b[0mCommand\u001b[0m\u001b[1;33m.\u001b[0m\u001b[0mGET\u001b[0m\u001b[1;33m,\u001b[0m \u001b[1;33m{\u001b[0m\u001b[1;34m'url'\u001b[0m\u001b[1;33m:\u001b[0m \u001b[0murl\u001b[0m\u001b[1;33m}\u001b[0m\u001b[1;33m)\u001b[0m\u001b[1;33m\u001b[0m\u001b[1;33m\u001b[0m\u001b[0m\n\u001b[0m\u001b[0;32m    334\u001b[0m \u001b[1;33m\u001b[0m\u001b[0m\n\u001b[0;32m    335\u001b[0m     \u001b[1;33m@\u001b[0m\u001b[0mproperty\u001b[0m\u001b[1;33m\u001b[0m\u001b[1;33m\u001b[0m\u001b[0m\n",
      "\u001b[1;32mc:\\Users\\netis\\Anaconda3\\lib\\site-packages\\selenium\\webdriver\\remote\\webdriver.py\u001b[0m in \u001b[0;36mexecute\u001b[1;34m(self, driver_command, params)\u001b[0m\n\u001b[0;32m    317\u001b[0m \u001b[1;33m\u001b[0m\u001b[0m\n\u001b[0;32m    318\u001b[0m         \u001b[0mparams\u001b[0m \u001b[1;33m=\u001b[0m \u001b[0mself\u001b[0m\u001b[1;33m.\u001b[0m\u001b[0m_wrap_value\u001b[0m\u001b[1;33m(\u001b[0m\u001b[0mparams\u001b[0m\u001b[1;33m)\u001b[0m\u001b[1;33m\u001b[0m\u001b[1;33m\u001b[0m\u001b[0m\n\u001b[1;32m--> 319\u001b[1;33m         \u001b[0mresponse\u001b[0m \u001b[1;33m=\u001b[0m \u001b[0mself\u001b[0m\u001b[1;33m.\u001b[0m\u001b[0mcommand_executor\u001b[0m\u001b[1;33m.\u001b[0m\u001b[0mexecute\u001b[0m\u001b[1;33m(\u001b[0m\u001b[0mdriver_command\u001b[0m\u001b[1;33m,\u001b[0m \u001b[0mparams\u001b[0m\u001b[1;33m)\u001b[0m\u001b[1;33m\u001b[0m\u001b[1;33m\u001b[0m\u001b[0m\n\u001b[0m\u001b[0;32m    320\u001b[0m         \u001b[1;32mif\u001b[0m \u001b[0mresponse\u001b[0m\u001b[1;33m:\u001b[0m\u001b[1;33m\u001b[0m\u001b[1;33m\u001b[0m\u001b[0m\n\u001b[0;32m    321\u001b[0m             \u001b[0mself\u001b[0m\u001b[1;33m.\u001b[0m\u001b[0merror_handler\u001b[0m\u001b[1;33m.\u001b[0m\u001b[0mcheck_response\u001b[0m\u001b[1;33m(\u001b[0m\u001b[0mresponse\u001b[0m\u001b[1;33m)\u001b[0m\u001b[1;33m\u001b[0m\u001b[1;33m\u001b[0m\u001b[0m\n",
      "\u001b[1;32mc:\\Users\\netis\\Anaconda3\\lib\\site-packages\\selenium\\webdriver\\remote\\remote_connection.py\u001b[0m in \u001b[0;36mexecute\u001b[1;34m(self, command, params)\u001b[0m\n\u001b[0;32m    372\u001b[0m         \u001b[0mdata\u001b[0m \u001b[1;33m=\u001b[0m \u001b[0mutils\u001b[0m\u001b[1;33m.\u001b[0m\u001b[0mdump_json\u001b[0m\u001b[1;33m(\u001b[0m\u001b[0mparams\u001b[0m\u001b[1;33m)\u001b[0m\u001b[1;33m\u001b[0m\u001b[1;33m\u001b[0m\u001b[0m\n\u001b[0;32m    373\u001b[0m         \u001b[0murl\u001b[0m \u001b[1;33m=\u001b[0m \u001b[1;34m'%s%s'\u001b[0m \u001b[1;33m%\u001b[0m \u001b[1;33m(\u001b[0m\u001b[0mself\u001b[0m\u001b[1;33m.\u001b[0m\u001b[0m_url\u001b[0m\u001b[1;33m,\u001b[0m \u001b[0mpath\u001b[0m\u001b[1;33m)\u001b[0m\u001b[1;33m\u001b[0m\u001b[1;33m\u001b[0m\u001b[0m\n\u001b[1;32m--> 374\u001b[1;33m         \u001b[1;32mreturn\u001b[0m \u001b[0mself\u001b[0m\u001b[1;33m.\u001b[0m\u001b[0m_request\u001b[0m\u001b[1;33m(\u001b[0m\u001b[0mcommand_info\u001b[0m\u001b[1;33m[\u001b[0m\u001b[1;36m0\u001b[0m\u001b[1;33m]\u001b[0m\u001b[1;33m,\u001b[0m \u001b[0murl\u001b[0m\u001b[1;33m,\u001b[0m \u001b[0mbody\u001b[0m\u001b[1;33m=\u001b[0m\u001b[0mdata\u001b[0m\u001b[1;33m)\u001b[0m\u001b[1;33m\u001b[0m\u001b[1;33m\u001b[0m\u001b[0m\n\u001b[0m\u001b[0;32m    375\u001b[0m \u001b[1;33m\u001b[0m\u001b[0m\n\u001b[0;32m    376\u001b[0m     \u001b[1;32mdef\u001b[0m \u001b[0m_request\u001b[0m\u001b[1;33m(\u001b[0m\u001b[0mself\u001b[0m\u001b[1;33m,\u001b[0m \u001b[0mmethod\u001b[0m\u001b[1;33m,\u001b[0m \u001b[0murl\u001b[0m\u001b[1;33m,\u001b[0m \u001b[0mbody\u001b[0m\u001b[1;33m=\u001b[0m\u001b[1;32mNone\u001b[0m\u001b[1;33m)\u001b[0m\u001b[1;33m:\u001b[0m\u001b[1;33m\u001b[0m\u001b[1;33m\u001b[0m\u001b[0m\n",
      "\u001b[1;32mc:\\Users\\netis\\Anaconda3\\lib\\site-packages\\selenium\\webdriver\\remote\\remote_connection.py\u001b[0m in \u001b[0;36m_request\u001b[1;34m(self, method, url, body)\u001b[0m\n\u001b[0;32m    395\u001b[0m \u001b[1;33m\u001b[0m\u001b[0m\n\u001b[0;32m    396\u001b[0m         \u001b[1;32mif\u001b[0m \u001b[0mself\u001b[0m\u001b[1;33m.\u001b[0m\u001b[0mkeep_alive\u001b[0m\u001b[1;33m:\u001b[0m\u001b[1;33m\u001b[0m\u001b[1;33m\u001b[0m\u001b[0m\n\u001b[1;32m--> 397\u001b[1;33m             \u001b[0mresp\u001b[0m \u001b[1;33m=\u001b[0m \u001b[0mself\u001b[0m\u001b[1;33m.\u001b[0m\u001b[0m_conn\u001b[0m\u001b[1;33m.\u001b[0m\u001b[0mrequest\u001b[0m\u001b[1;33m(\u001b[0m\u001b[0mmethod\u001b[0m\u001b[1;33m,\u001b[0m \u001b[0murl\u001b[0m\u001b[1;33m,\u001b[0m \u001b[0mbody\u001b[0m\u001b[1;33m=\u001b[0m\u001b[0mbody\u001b[0m\u001b[1;33m,\u001b[0m \u001b[0mheaders\u001b[0m\u001b[1;33m=\u001b[0m\u001b[0mheaders\u001b[0m\u001b[1;33m)\u001b[0m\u001b[1;33m\u001b[0m\u001b[1;33m\u001b[0m\u001b[0m\n\u001b[0m\u001b[0;32m    398\u001b[0m \u001b[1;33m\u001b[0m\u001b[0m\n\u001b[0;32m    399\u001b[0m             \u001b[0mstatuscode\u001b[0m \u001b[1;33m=\u001b[0m \u001b[0mresp\u001b[0m\u001b[1;33m.\u001b[0m\u001b[0mstatus\u001b[0m\u001b[1;33m\u001b[0m\u001b[1;33m\u001b[0m\u001b[0m\n",
      "\u001b[1;32mc:\\Users\\netis\\Anaconda3\\lib\\site-packages\\urllib3\\request.py\u001b[0m in \u001b[0;36mrequest\u001b[1;34m(self, method, url, fields, headers, **urlopen_kw)\u001b[0m\n\u001b[0;32m     76\u001b[0m             )\n\u001b[0;32m     77\u001b[0m         \u001b[1;32melse\u001b[0m\u001b[1;33m:\u001b[0m\u001b[1;33m\u001b[0m\u001b[1;33m\u001b[0m\u001b[0m\n\u001b[1;32m---> 78\u001b[1;33m             return self.request_encode_body(\n\u001b[0m\u001b[0;32m     79\u001b[0m                 \u001b[0mmethod\u001b[0m\u001b[1;33m,\u001b[0m \u001b[0murl\u001b[0m\u001b[1;33m,\u001b[0m \u001b[0mfields\u001b[0m\u001b[1;33m=\u001b[0m\u001b[0mfields\u001b[0m\u001b[1;33m,\u001b[0m \u001b[0mheaders\u001b[0m\u001b[1;33m=\u001b[0m\u001b[0mheaders\u001b[0m\u001b[1;33m,\u001b[0m \u001b[1;33m**\u001b[0m\u001b[0murlopen_kw\u001b[0m\u001b[1;33m\u001b[0m\u001b[1;33m\u001b[0m\u001b[0m\n\u001b[0;32m     80\u001b[0m             )\n",
      "\u001b[1;32mc:\\Users\\netis\\Anaconda3\\lib\\site-packages\\urllib3\\request.py\u001b[0m in \u001b[0;36mrequest_encode_body\u001b[1;34m(self, method, url, fields, headers, encode_multipart, multipart_boundary, **urlopen_kw)\u001b[0m\n\u001b[0;32m    168\u001b[0m         \u001b[0mextra_kw\u001b[0m\u001b[1;33m.\u001b[0m\u001b[0mupdate\u001b[0m\u001b[1;33m(\u001b[0m\u001b[0murlopen_kw\u001b[0m\u001b[1;33m)\u001b[0m\u001b[1;33m\u001b[0m\u001b[1;33m\u001b[0m\u001b[0m\n\u001b[0;32m    169\u001b[0m \u001b[1;33m\u001b[0m\u001b[0m\n\u001b[1;32m--> 170\u001b[1;33m         \u001b[1;32mreturn\u001b[0m \u001b[0mself\u001b[0m\u001b[1;33m.\u001b[0m\u001b[0murlopen\u001b[0m\u001b[1;33m(\u001b[0m\u001b[0mmethod\u001b[0m\u001b[1;33m,\u001b[0m \u001b[0murl\u001b[0m\u001b[1;33m,\u001b[0m \u001b[1;33m**\u001b[0m\u001b[0mextra_kw\u001b[0m\u001b[1;33m)\u001b[0m\u001b[1;33m\u001b[0m\u001b[1;33m\u001b[0m\u001b[0m\n\u001b[0m",
      "\u001b[1;32mc:\\Users\\netis\\Anaconda3\\lib\\site-packages\\urllib3\\poolmanager.py\u001b[0m in \u001b[0;36murlopen\u001b[1;34m(self, method, url, redirect, **kw)\u001b[0m\n\u001b[0;32m    374\u001b[0m             \u001b[0mresponse\u001b[0m \u001b[1;33m=\u001b[0m \u001b[0mconn\u001b[0m\u001b[1;33m.\u001b[0m\u001b[0murlopen\u001b[0m\u001b[1;33m(\u001b[0m\u001b[0mmethod\u001b[0m\u001b[1;33m,\u001b[0m \u001b[0murl\u001b[0m\u001b[1;33m,\u001b[0m \u001b[1;33m**\u001b[0m\u001b[0mkw\u001b[0m\u001b[1;33m)\u001b[0m\u001b[1;33m\u001b[0m\u001b[1;33m\u001b[0m\u001b[0m\n\u001b[0;32m    375\u001b[0m         \u001b[1;32melse\u001b[0m\u001b[1;33m:\u001b[0m\u001b[1;33m\u001b[0m\u001b[1;33m\u001b[0m\u001b[0m\n\u001b[1;32m--> 376\u001b[1;33m             \u001b[0mresponse\u001b[0m \u001b[1;33m=\u001b[0m \u001b[0mconn\u001b[0m\u001b[1;33m.\u001b[0m\u001b[0murlopen\u001b[0m\u001b[1;33m(\u001b[0m\u001b[0mmethod\u001b[0m\u001b[1;33m,\u001b[0m \u001b[0mu\u001b[0m\u001b[1;33m.\u001b[0m\u001b[0mrequest_uri\u001b[0m\u001b[1;33m,\u001b[0m \u001b[1;33m**\u001b[0m\u001b[0mkw\u001b[0m\u001b[1;33m)\u001b[0m\u001b[1;33m\u001b[0m\u001b[1;33m\u001b[0m\u001b[0m\n\u001b[0m\u001b[0;32m    377\u001b[0m \u001b[1;33m\u001b[0m\u001b[0m\n\u001b[0;32m    378\u001b[0m         \u001b[0mredirect_location\u001b[0m \u001b[1;33m=\u001b[0m \u001b[0mredirect\u001b[0m \u001b[1;32mand\u001b[0m \u001b[0mresponse\u001b[0m\u001b[1;33m.\u001b[0m\u001b[0mget_redirect_location\u001b[0m\u001b[1;33m(\u001b[0m\u001b[1;33m)\u001b[0m\u001b[1;33m\u001b[0m\u001b[1;33m\u001b[0m\u001b[0m\n",
      "\u001b[1;32mc:\\Users\\netis\\Anaconda3\\lib\\site-packages\\urllib3\\connectionpool.py\u001b[0m in \u001b[0;36murlopen\u001b[1;34m(self, method, url, body, headers, retries, redirect, assert_same_host, timeout, pool_timeout, release_conn, chunked, body_pos, **response_kw)\u001b[0m\n\u001b[0;32m    785\u001b[0m                 \u001b[0me\u001b[0m \u001b[1;33m=\u001b[0m \u001b[0mProtocolError\u001b[0m\u001b[1;33m(\u001b[0m\u001b[1;34m\"Connection aborted.\"\u001b[0m\u001b[1;33m,\u001b[0m \u001b[0me\u001b[0m\u001b[1;33m)\u001b[0m\u001b[1;33m\u001b[0m\u001b[1;33m\u001b[0m\u001b[0m\n\u001b[0;32m    786\u001b[0m \u001b[1;33m\u001b[0m\u001b[0m\n\u001b[1;32m--> 787\u001b[1;33m             retries = retries.increment(\n\u001b[0m\u001b[0;32m    788\u001b[0m                 \u001b[0mmethod\u001b[0m\u001b[1;33m,\u001b[0m \u001b[0murl\u001b[0m\u001b[1;33m,\u001b[0m \u001b[0merror\u001b[0m\u001b[1;33m=\u001b[0m\u001b[0me\u001b[0m\u001b[1;33m,\u001b[0m \u001b[0m_pool\u001b[0m\u001b[1;33m=\u001b[0m\u001b[0mself\u001b[0m\u001b[1;33m,\u001b[0m \u001b[0m_stacktrace\u001b[0m\u001b[1;33m=\u001b[0m\u001b[0msys\u001b[0m\u001b[1;33m.\u001b[0m\u001b[0mexc_info\u001b[0m\u001b[1;33m(\u001b[0m\u001b[1;33m)\u001b[0m\u001b[1;33m[\u001b[0m\u001b[1;36m2\u001b[0m\u001b[1;33m]\u001b[0m\u001b[1;33m\u001b[0m\u001b[1;33m\u001b[0m\u001b[0m\n\u001b[0;32m    789\u001b[0m             )\n",
      "\u001b[1;32mc:\\Users\\netis\\Anaconda3\\lib\\site-packages\\urllib3\\util\\retry.py\u001b[0m in \u001b[0;36mincrement\u001b[1;34m(self, method, url, response, error, _pool, _stacktrace)\u001b[0m\n\u001b[0;32m    548\u001b[0m             \u001b[1;31m# Read retry?\u001b[0m\u001b[1;33m\u001b[0m\u001b[1;33m\u001b[0m\u001b[0m\n\u001b[0;32m    549\u001b[0m             \u001b[1;32mif\u001b[0m \u001b[0mread\u001b[0m \u001b[1;32mis\u001b[0m \u001b[1;32mFalse\u001b[0m \u001b[1;32mor\u001b[0m \u001b[1;32mnot\u001b[0m \u001b[0mself\u001b[0m\u001b[1;33m.\u001b[0m\u001b[0m_is_method_retryable\u001b[0m\u001b[1;33m(\u001b[0m\u001b[0mmethod\u001b[0m\u001b[1;33m)\u001b[0m\u001b[1;33m:\u001b[0m\u001b[1;33m\u001b[0m\u001b[1;33m\u001b[0m\u001b[0m\n\u001b[1;32m--> 550\u001b[1;33m                 \u001b[1;32mraise\u001b[0m \u001b[0msix\u001b[0m\u001b[1;33m.\u001b[0m\u001b[0mreraise\u001b[0m\u001b[1;33m(\u001b[0m\u001b[0mtype\u001b[0m\u001b[1;33m(\u001b[0m\u001b[0merror\u001b[0m\u001b[1;33m)\u001b[0m\u001b[1;33m,\u001b[0m \u001b[0merror\u001b[0m\u001b[1;33m,\u001b[0m \u001b[0m_stacktrace\u001b[0m\u001b[1;33m)\u001b[0m\u001b[1;33m\u001b[0m\u001b[1;33m\u001b[0m\u001b[0m\n\u001b[0m\u001b[0;32m    551\u001b[0m             \u001b[1;32melif\u001b[0m \u001b[0mread\u001b[0m \u001b[1;32mis\u001b[0m \u001b[1;32mnot\u001b[0m \u001b[1;32mNone\u001b[0m\u001b[1;33m:\u001b[0m\u001b[1;33m\u001b[0m\u001b[1;33m\u001b[0m\u001b[0m\n\u001b[0;32m    552\u001b[0m                 \u001b[0mread\u001b[0m \u001b[1;33m-=\u001b[0m \u001b[1;36m1\u001b[0m\u001b[1;33m\u001b[0m\u001b[1;33m\u001b[0m\u001b[0m\n",
      "\u001b[1;32mc:\\Users\\netis\\Anaconda3\\lib\\site-packages\\urllib3\\packages\\six.py\u001b[0m in \u001b[0;36mreraise\u001b[1;34m(tp, value, tb)\u001b[0m\n\u001b[0;32m    767\u001b[0m                 \u001b[0mvalue\u001b[0m \u001b[1;33m=\u001b[0m \u001b[0mtp\u001b[0m\u001b[1;33m(\u001b[0m\u001b[1;33m)\u001b[0m\u001b[1;33m\u001b[0m\u001b[1;33m\u001b[0m\u001b[0m\n\u001b[0;32m    768\u001b[0m             \u001b[1;32mif\u001b[0m \u001b[0mvalue\u001b[0m\u001b[1;33m.\u001b[0m\u001b[0m__traceback__\u001b[0m \u001b[1;32mis\u001b[0m \u001b[1;32mnot\u001b[0m \u001b[0mtb\u001b[0m\u001b[1;33m:\u001b[0m\u001b[1;33m\u001b[0m\u001b[1;33m\u001b[0m\u001b[0m\n\u001b[1;32m--> 769\u001b[1;33m                 \u001b[1;32mraise\u001b[0m \u001b[0mvalue\u001b[0m\u001b[1;33m.\u001b[0m\u001b[0mwith_traceback\u001b[0m\u001b[1;33m(\u001b[0m\u001b[0mtb\u001b[0m\u001b[1;33m)\u001b[0m\u001b[1;33m\u001b[0m\u001b[1;33m\u001b[0m\u001b[0m\n\u001b[0m\u001b[0;32m    770\u001b[0m             \u001b[1;32mraise\u001b[0m \u001b[0mvalue\u001b[0m\u001b[1;33m\u001b[0m\u001b[1;33m\u001b[0m\u001b[0m\n\u001b[0;32m    771\u001b[0m         \u001b[1;32mfinally\u001b[0m\u001b[1;33m:\u001b[0m\u001b[1;33m\u001b[0m\u001b[1;33m\u001b[0m\u001b[0m\n",
      "\u001b[1;32mc:\\Users\\netis\\Anaconda3\\lib\\site-packages\\urllib3\\connectionpool.py\u001b[0m in \u001b[0;36murlopen\u001b[1;34m(self, method, url, body, headers, retries, redirect, assert_same_host, timeout, pool_timeout, release_conn, chunked, body_pos, **response_kw)\u001b[0m\n\u001b[0;32m    701\u001b[0m \u001b[1;33m\u001b[0m\u001b[0m\n\u001b[0;32m    702\u001b[0m             \u001b[1;31m# Make the request on the httplib connection object.\u001b[0m\u001b[1;33m\u001b[0m\u001b[1;33m\u001b[0m\u001b[0m\n\u001b[1;32m--> 703\u001b[1;33m             httplib_response = self._make_request(\n\u001b[0m\u001b[0;32m    704\u001b[0m                 \u001b[0mconn\u001b[0m\u001b[1;33m,\u001b[0m\u001b[1;33m\u001b[0m\u001b[1;33m\u001b[0m\u001b[0m\n\u001b[0;32m    705\u001b[0m                 \u001b[0mmethod\u001b[0m\u001b[1;33m,\u001b[0m\u001b[1;33m\u001b[0m\u001b[1;33m\u001b[0m\u001b[0m\n",
      "\u001b[1;32mc:\\Users\\netis\\Anaconda3\\lib\\site-packages\\urllib3\\connectionpool.py\u001b[0m in \u001b[0;36m_make_request\u001b[1;34m(self, conn, method, url, timeout, chunked, **httplib_request_kw)\u001b[0m\n\u001b[0;32m    447\u001b[0m                     \u001b[1;31m# Python 3 (including for exceptions like SystemExit).\u001b[0m\u001b[1;33m\u001b[0m\u001b[1;33m\u001b[0m\u001b[0m\n\u001b[0;32m    448\u001b[0m                     \u001b[1;31m# Otherwise it looks like a bug in the code.\u001b[0m\u001b[1;33m\u001b[0m\u001b[1;33m\u001b[0m\u001b[0m\n\u001b[1;32m--> 449\u001b[1;33m                     \u001b[0msix\u001b[0m\u001b[1;33m.\u001b[0m\u001b[0mraise_from\u001b[0m\u001b[1;33m(\u001b[0m\u001b[0me\u001b[0m\u001b[1;33m,\u001b[0m \u001b[1;32mNone\u001b[0m\u001b[1;33m)\u001b[0m\u001b[1;33m\u001b[0m\u001b[1;33m\u001b[0m\u001b[0m\n\u001b[0m\u001b[0;32m    450\u001b[0m         \u001b[1;32mexcept\u001b[0m \u001b[1;33m(\u001b[0m\u001b[0mSocketTimeout\u001b[0m\u001b[1;33m,\u001b[0m \u001b[0mBaseSSLError\u001b[0m\u001b[1;33m,\u001b[0m \u001b[0mSocketError\u001b[0m\u001b[1;33m)\u001b[0m \u001b[1;32mas\u001b[0m \u001b[0me\u001b[0m\u001b[1;33m:\u001b[0m\u001b[1;33m\u001b[0m\u001b[1;33m\u001b[0m\u001b[0m\n\u001b[0;32m    451\u001b[0m             \u001b[0mself\u001b[0m\u001b[1;33m.\u001b[0m\u001b[0m_raise_timeout\u001b[0m\u001b[1;33m(\u001b[0m\u001b[0merr\u001b[0m\u001b[1;33m=\u001b[0m\u001b[0me\u001b[0m\u001b[1;33m,\u001b[0m \u001b[0murl\u001b[0m\u001b[1;33m=\u001b[0m\u001b[0murl\u001b[0m\u001b[1;33m,\u001b[0m \u001b[0mtimeout_value\u001b[0m\u001b[1;33m=\u001b[0m\u001b[0mread_timeout\u001b[0m\u001b[1;33m)\u001b[0m\u001b[1;33m\u001b[0m\u001b[1;33m\u001b[0m\u001b[0m\n",
      "\u001b[1;32mc:\\Users\\netis\\Anaconda3\\lib\\site-packages\\urllib3\\packages\\six.py\u001b[0m in \u001b[0;36mraise_from\u001b[1;34m(value, from_value)\u001b[0m\n",
      "\u001b[1;32mc:\\Users\\netis\\Anaconda3\\lib\\site-packages\\urllib3\\connectionpool.py\u001b[0m in \u001b[0;36m_make_request\u001b[1;34m(self, conn, method, url, timeout, chunked, **httplib_request_kw)\u001b[0m\n\u001b[0;32m    442\u001b[0m                 \u001b[1;31m# Python 3\u001b[0m\u001b[1;33m\u001b[0m\u001b[1;33m\u001b[0m\u001b[0m\n\u001b[0;32m    443\u001b[0m                 \u001b[1;32mtry\u001b[0m\u001b[1;33m:\u001b[0m\u001b[1;33m\u001b[0m\u001b[1;33m\u001b[0m\u001b[0m\n\u001b[1;32m--> 444\u001b[1;33m                     \u001b[0mhttplib_response\u001b[0m \u001b[1;33m=\u001b[0m \u001b[0mconn\u001b[0m\u001b[1;33m.\u001b[0m\u001b[0mgetresponse\u001b[0m\u001b[1;33m(\u001b[0m\u001b[1;33m)\u001b[0m\u001b[1;33m\u001b[0m\u001b[1;33m\u001b[0m\u001b[0m\n\u001b[0m\u001b[0;32m    445\u001b[0m                 \u001b[1;32mexcept\u001b[0m \u001b[0mBaseException\u001b[0m \u001b[1;32mas\u001b[0m \u001b[0me\u001b[0m\u001b[1;33m:\u001b[0m\u001b[1;33m\u001b[0m\u001b[1;33m\u001b[0m\u001b[0m\n\u001b[0;32m    446\u001b[0m                     \u001b[1;31m# Remove the TypeError from the exception chain in\u001b[0m\u001b[1;33m\u001b[0m\u001b[1;33m\u001b[0m\u001b[0m\n",
      "\u001b[1;32mc:\\Users\\netis\\Anaconda3\\lib\\http\\client.py\u001b[0m in \u001b[0;36mgetresponse\u001b[1;34m(self)\u001b[0m\n\u001b[0;32m   1375\u001b[0m         \u001b[1;32mtry\u001b[0m\u001b[1;33m:\u001b[0m\u001b[1;33m\u001b[0m\u001b[1;33m\u001b[0m\u001b[0m\n\u001b[0;32m   1376\u001b[0m             \u001b[1;32mtry\u001b[0m\u001b[1;33m:\u001b[0m\u001b[1;33m\u001b[0m\u001b[1;33m\u001b[0m\u001b[0m\n\u001b[1;32m-> 1377\u001b[1;33m                 \u001b[0mresponse\u001b[0m\u001b[1;33m.\u001b[0m\u001b[0mbegin\u001b[0m\u001b[1;33m(\u001b[0m\u001b[1;33m)\u001b[0m\u001b[1;33m\u001b[0m\u001b[1;33m\u001b[0m\u001b[0m\n\u001b[0m\u001b[0;32m   1378\u001b[0m             \u001b[1;32mexcept\u001b[0m \u001b[0mConnectionError\u001b[0m\u001b[1;33m:\u001b[0m\u001b[1;33m\u001b[0m\u001b[1;33m\u001b[0m\u001b[0m\n\u001b[0;32m   1379\u001b[0m                 \u001b[0mself\u001b[0m\u001b[1;33m.\u001b[0m\u001b[0mclose\u001b[0m\u001b[1;33m(\u001b[0m\u001b[1;33m)\u001b[0m\u001b[1;33m\u001b[0m\u001b[1;33m\u001b[0m\u001b[0m\n",
      "\u001b[1;32mc:\\Users\\netis\\Anaconda3\\lib\\http\\client.py\u001b[0m in \u001b[0;36mbegin\u001b[1;34m(self)\u001b[0m\n\u001b[0;32m    318\u001b[0m         \u001b[1;31m# read until we get a non-100 response\u001b[0m\u001b[1;33m\u001b[0m\u001b[1;33m\u001b[0m\u001b[0m\n\u001b[0;32m    319\u001b[0m         \u001b[1;32mwhile\u001b[0m \u001b[1;32mTrue\u001b[0m\u001b[1;33m:\u001b[0m\u001b[1;33m\u001b[0m\u001b[1;33m\u001b[0m\u001b[0m\n\u001b[1;32m--> 320\u001b[1;33m             \u001b[0mversion\u001b[0m\u001b[1;33m,\u001b[0m \u001b[0mstatus\u001b[0m\u001b[1;33m,\u001b[0m \u001b[0mreason\u001b[0m \u001b[1;33m=\u001b[0m \u001b[0mself\u001b[0m\u001b[1;33m.\u001b[0m\u001b[0m_read_status\u001b[0m\u001b[1;33m(\u001b[0m\u001b[1;33m)\u001b[0m\u001b[1;33m\u001b[0m\u001b[1;33m\u001b[0m\u001b[0m\n\u001b[0m\u001b[0;32m    321\u001b[0m             \u001b[1;32mif\u001b[0m \u001b[0mstatus\u001b[0m \u001b[1;33m!=\u001b[0m \u001b[0mCONTINUE\u001b[0m\u001b[1;33m:\u001b[0m\u001b[1;33m\u001b[0m\u001b[1;33m\u001b[0m\u001b[0m\n\u001b[0;32m    322\u001b[0m                 \u001b[1;32mbreak\u001b[0m\u001b[1;33m\u001b[0m\u001b[1;33m\u001b[0m\u001b[0m\n",
      "\u001b[1;32mc:\\Users\\netis\\Anaconda3\\lib\\http\\client.py\u001b[0m in \u001b[0;36m_read_status\u001b[1;34m(self)\u001b[0m\n\u001b[0;32m    279\u001b[0m \u001b[1;33m\u001b[0m\u001b[0m\n\u001b[0;32m    280\u001b[0m     \u001b[1;32mdef\u001b[0m \u001b[0m_read_status\u001b[0m\u001b[1;33m(\u001b[0m\u001b[0mself\u001b[0m\u001b[1;33m)\u001b[0m\u001b[1;33m:\u001b[0m\u001b[1;33m\u001b[0m\u001b[1;33m\u001b[0m\u001b[0m\n\u001b[1;32m--> 281\u001b[1;33m         \u001b[0mline\u001b[0m \u001b[1;33m=\u001b[0m \u001b[0mstr\u001b[0m\u001b[1;33m(\u001b[0m\u001b[0mself\u001b[0m\u001b[1;33m.\u001b[0m\u001b[0mfp\u001b[0m\u001b[1;33m.\u001b[0m\u001b[0mreadline\u001b[0m\u001b[1;33m(\u001b[0m\u001b[0m_MAXLINE\u001b[0m \u001b[1;33m+\u001b[0m \u001b[1;36m1\u001b[0m\u001b[1;33m)\u001b[0m\u001b[1;33m,\u001b[0m \u001b[1;34m\"iso-8859-1\"\u001b[0m\u001b[1;33m)\u001b[0m\u001b[1;33m\u001b[0m\u001b[1;33m\u001b[0m\u001b[0m\n\u001b[0m\u001b[0;32m    282\u001b[0m         \u001b[1;32mif\u001b[0m \u001b[0mlen\u001b[0m\u001b[1;33m(\u001b[0m\u001b[0mline\u001b[0m\u001b[1;33m)\u001b[0m \u001b[1;33m>\u001b[0m \u001b[0m_MAXLINE\u001b[0m\u001b[1;33m:\u001b[0m\u001b[1;33m\u001b[0m\u001b[1;33m\u001b[0m\u001b[0m\n\u001b[0;32m    283\u001b[0m             \u001b[1;32mraise\u001b[0m \u001b[0mLineTooLong\u001b[0m\u001b[1;33m(\u001b[0m\u001b[1;34m\"status line\"\u001b[0m\u001b[1;33m)\u001b[0m\u001b[1;33m\u001b[0m\u001b[1;33m\u001b[0m\u001b[0m\n",
      "\u001b[1;32mc:\\Users\\netis\\Anaconda3\\lib\\socket.py\u001b[0m in \u001b[0;36mreadinto\u001b[1;34m(self, b)\u001b[0m\n\u001b[0;32m    702\u001b[0m         \u001b[1;32mwhile\u001b[0m \u001b[1;32mTrue\u001b[0m\u001b[1;33m:\u001b[0m\u001b[1;33m\u001b[0m\u001b[1;33m\u001b[0m\u001b[0m\n\u001b[0;32m    703\u001b[0m             \u001b[1;32mtry\u001b[0m\u001b[1;33m:\u001b[0m\u001b[1;33m\u001b[0m\u001b[1;33m\u001b[0m\u001b[0m\n\u001b[1;32m--> 704\u001b[1;33m                 \u001b[1;32mreturn\u001b[0m \u001b[0mself\u001b[0m\u001b[1;33m.\u001b[0m\u001b[0m_sock\u001b[0m\u001b[1;33m.\u001b[0m\u001b[0mrecv_into\u001b[0m\u001b[1;33m(\u001b[0m\u001b[0mb\u001b[0m\u001b[1;33m)\u001b[0m\u001b[1;33m\u001b[0m\u001b[1;33m\u001b[0m\u001b[0m\n\u001b[0m\u001b[0;32m    705\u001b[0m             \u001b[1;32mexcept\u001b[0m \u001b[0mtimeout\u001b[0m\u001b[1;33m:\u001b[0m\u001b[1;33m\u001b[0m\u001b[1;33m\u001b[0m\u001b[0m\n\u001b[0;32m    706\u001b[0m                 \u001b[0mself\u001b[0m\u001b[1;33m.\u001b[0m\u001b[0m_timeout_occurred\u001b[0m \u001b[1;33m=\u001b[0m \u001b[1;32mTrue\u001b[0m\u001b[1;33m\u001b[0m\u001b[1;33m\u001b[0m\u001b[0m\n",
      "\u001b[1;31mProtocolError\u001b[0m: ('Connection aborted.', ConnectionResetError(10054, '현재 연결은 원격 호스트에 의해 강제로 끊겼습니다', None, 10054, None))"
     ]
    }
   ],
   "source": [
    "import requests\n",
    "from selenium import webdriver\n",
    "import base64\n",
    "import re\n",
    "import time\n",
    "\n",
    "words_list = util.cartesian_product(AUTH_KEY, MODE, ZOOM, station_df['station_ID'][30:35])\n",
    "driver = webdriver.Chrome(executable_path='chromedriver')\n",
    "driver.get(url=url)\n",
    "time.sleep(3)\n",
    "canvas = driver.find_element_by_xpath(r'//*[@id=\"map1\"]/div/div[1]/div/canvas')\n",
    "print(canvas.screenshot(\"hello2.png\"))\n",
    "# get the canvas as a PNG base64 string\n",
    "#canvas_base64 = driver.execute_script(\"return arguments[0].toDataURL('image/png').substring(21);\", canvas)\n",
    "canvas_base64 = driver.execute_script(\"return document.querySelector('canvas').toDataURL('image/png').substring(21);\")\n",
    "# decode\n",
    "canvas_png = base64.b64decode(canvas_base64)\n",
    "\n",
    "# save to a file\n",
    "with open(r\"canvas.png\", 'wb') as f:\n",
    "    f.write(canvas_png)"
   ]
  },
  {
   "cell_type": "code",
   "execution_count": 42,
   "metadata": {},
   "outputs": [],
   "source": [
    "img = cv2.imread('hello2.png')\n",
    "img = cv2.circle(img, [int(img.shape[1]/2), int(img.shape[0]/2)], 10, (50,100,100), 2)\n",
    "cv2.imshow(\"hello\",img)\n",
    "cv2.waitKey(0)\n",
    "cv2.destroyAllWindows()"
   ]
  },
  {
   "cell_type": "code",
   "execution_count": 35,
   "metadata": {},
   "outputs": [
    {
     "name": "stdout",
     "output_type": "stream",
     "text": [
      "{'station_ID': 134, 'station_name': '연세로 명물길', 'location': '서대문구', 'address': '서울특별시 서대문구 명물길 33', 'latitude': 37.55789185, 'longitude': 126.9380798, 'installation_date': '2020-11-11', 'x': 950369.9964732081, 'y': 1951097.3799181927} ('EA3141F848A48130236498BA18E916C3', 4, 13, 134, 950369.9964732081, 1951097.3799181927)\n",
      "{'station_ID': 135, 'station_name': '명물길 원형무대 앞', 'location': '서대문구', 'address': '서대문구 창천동 31-69', 'latitude': 37.5591011, 'longitude': 126.9391785, 'installation_date': '2015-09-07', 'x': 950467.8373371066, 'y': 1951230.9607296553} ('EA3141F848A48130236498BA18E916C3', 4, 13, 135, 950467.8373371066, 1951230.9607296553)\n",
      "{'station_ID': 137, 'station_name': '신촌기차역입구 교차로', 'location': '서대문구', 'address': '서울특별시 서대문구 연세로2다길 58', 'latitude': 37.55681229, 'longitude': 126.9431839, 'installation_date': '2015-09-07', 'x': 950820.0957589824, 'y': 1950974.9251746254} ('EA3141F848A48130236498BA18E916C3', 4, 13, 137, 950820.0957589824, 1950974.9251746254)\n",
      "{'station_ID': 138, 'station_name': '신촌동 제1공영주차장 앞', 'location': '서대문구', 'address': '서울특별시 서대문구 증가로 264', 'latitude': 37.5591774, 'longitude': 126.9345245, 'installation_date': '2015-09-07', 'x': 950056.8401539829, 'y': 1951241.8886918717} ('EA3141F848A48130236498BA18E916C3', 4, 13, 138, 950056.8401539829, 1951241.8886918717)\n",
      "{'station_ID': 139, 'station_name': '연세대 정문 건너편', 'location': '서대문구', 'address': '서울특별시 서대문구 연세로 42', 'latitude': 37.55986404, 'longitude': 126.9344177, 'installation_date': '2015-09-07', 'x': 950047.865845351, 'y': 1951318.1248365643} ('EA3141F848A48130236498BA18E916C3', 4, 13, 139, 950047.865845351, 1951318.1248365643)\n"
     ]
    }
   ],
   "source": [
    "words_list = util.cartesian_product(AUTH_KEY, MODE, ZOOM, station_df['station_ID'][30:35])\n",
    "driver = webdriver.Chrome(executable_path='chromedriver')\n",
    "driver.get(url=url)\n",
    "time.sleep(1.5)\n",
    "for words in words_list:\n",
    "    station = dict(zip(station_df.columns, station_df[station_df['station_ID']==words[-1]].values[0]))\n",
    "    words += (station['x'], station['y'])\n",
    "    print(station, words)\n",
    "    util.specify_file(rfile, wfile,[\"<API_KEY>\",\"<MODE>\",\"<ZOOM>\",\"<NOT_TOKEN>\",\"<X_COORD>\",\"<Y_COORD>\"],words)\n",
    "    time.sleep(1)\n",
    "    driver.refresh()\n",
    "    time.sleep(1.5)\n",
    "    driver.save_screenshot(save_dir + f\"station_{station['station_ID']}_{words[1]}_{words[2]}.png\")"
   ]
  },
  {
   "cell_type": "markdown",
   "metadata": {},
   "source": [
    "## Data source\n",
    "\n",
    "네이버지도\n",
    "\n",
    "### Manual\n",
    "1. [네이버 클라우드 플랫폼](https://www.ncloud.com/) 회원가입\n",
    "2. 콘솔 -> Services -> AI-NAVER API\n",
    "3. Application 등록\n",
    "4. Web Dynamic Map / Static Map / Geocoding 선택\n",
    "5. Web 서비스 URL은 https://127.0.0.1:[PORT]\n",
    "6. run_local_server.py 실행 -> PORT 번호 설정해야 함\n",
    "7. 웹에서 127:0.0.1:[PORT] 접속\n",
    "8. 네이버지도 로드하는 html 파일 클릭\n",
    "\n",
    "### Note\n",
    "Selenium 같은 걸로 캡처 하는 식으로 하는게 해야 할 듯"
   ]
  },
  {
   "cell_type": "code",
   "execution_count": 2,
   "metadata": {},
   "outputs": [],
   "source": [
    "ID =  \"q4d8g94x86\"\n",
    "KEY = \"2GVJJEQBJiFMa82NRzZMh75xEluCgiAbhelfsTyH\""
   ]
  },
  {
   "cell_type": "markdown",
   "metadata": {},
   "source": [
    "### 문제점\n",
    "1. text 제거 불가능"
   ]
  },
  {
   "cell_type": "markdown",
   "metadata": {},
   "source": [
    "## Edit HTML & take screenshot\n",
    "This example is about naver map"
   ]
  },
  {
   "cell_type": "code",
   "execution_count": 1,
   "metadata": {},
   "outputs": [],
   "source": [
    "%load_ext autoreload\n",
    "%autoreload 2\n",
    "import selenium\n",
    "from selenium import webdriver\n",
    "from selenium.webdriver import ActionChains\n",
    "\n",
    "from selenium.webdriver.common.keys import Keys\n",
    "from selenium.webdriver.common.by import By\n",
    "\n",
    "from selenium.webdriver.support import expected_conditions as EC\n",
    "from selenium.webdriver.support.ui import Select\n",
    "from selenium.webdriver.support.ui import WebDriverWait\n",
    "\n",
    "import cv2\n",
    "import numpy as np\n",
    "import pandas as pd\n",
    "import station as acq\n",
    "from pyproj import Proj, Transformer\n",
    "import util"
   ]
  },
  {
   "cell_type": "code",
   "execution_count": 87,
   "metadata": {},
   "outputs": [],
   "source": [
    "URL = \"http://127.0.0.1:8080/html/map_103_flexible.html\" #/html/map_103_flexible.html\n",
    "#URL = \"https://google.com\"\n",
    "driver = webdriver.Chrome(executable_path='chromedriver')\n",
    "driver.get(url=URL)\n",
    "driver.implicitly_wait(3)\n",
    "driver.save_screenshot(\"./data/map/station.png\")\n",
    "driver.refresh()\n",
    "driver.implicitly_wait(3)\n",
    "#driver.get(url=\"https://google.com\")"
   ]
  },
  {
   "cell_type": "code",
   "execution_count": 5,
   "metadata": {},
   "outputs": [],
   "source": [
    "station_df = acq.read_station_data('./data/station_2206.csv')\n",
    "station_df = acq.process_station_data(station_df)\n",
    "#html 코드 수정\n",
    "#url 이동\n",
    "#스크린샷"
   ]
  },
  {
   "cell_type": "code",
   "execution_count": 16,
   "metadata": {},
   "outputs": [],
   "source": [
    "fd = open(\"./html/map_flexible.html\",'w')\n",
    "content = fd.read()\n",
    "src = [\"<API_KEY>\",\"<MODE>\",\"<X_COORD>\",\"<Y_COORD>\",\"<ZOOM>\"]\n",
    "dst = [\"EA3141F848A48130236498BA18E916C3\",\"9\",\"947943.927056\",\"1950863.372943\",\"10\"]\n",
    "for s,d in zip(src, dst):\n",
    "    content = content.replace(s,d)\n",
    "fd2 = open(\"./html/map_103_flexible.html\",'a')\n",
    "fd2.write(content)\n",
    "fd.close()\n",
    "fd2.close()"
   ]
  },
  {
   "cell_type": "code",
   "execution_count": 20,
   "metadata": {},
   "outputs": [],
   "source": [
    "import cv2\n",
    "import preprocessing\n",
    "img = cv2.imread('vworld.png')\n",
    "row = img.shape[0]//2\n",
    "col = img.shape[1]//2\n",
    "img = preprocessing.crop(img, [384,384])\n",
    "img = preprocessing.circle_masking(img, [192, 192])\n",
    "cv2.imshow(\"hello world\", img)\n",
    "cv2.waitKey(0)\n",
    "cv2.destroyAllWindows()"
   ]
  },
  {
   "cell_type": "code",
   "execution_count": 15,
   "metadata": {},
   "outputs": [],
   "source": [
    "#show image with center circle\n",
    "img = cv2.imread(\"./data/map/station102_ngis.PNG\")\n",
    "img = cv2.circle(img, (np.array(img.shape)[:2]/2).astype(np.int32), 50, (255,0,0), 15)\n",
    "cv2.imshow(\"hello\", img)\n",
    "cv2.waitKey(0)\n",
    "cv2.destroyAllWindows()"
   ]
  }
 ],
 "metadata": {
  "kernelspec": {
   "display_name": "Python 3.9.7 64-bit",
   "language": "python",
   "name": "python3"
  },
  "language_info": {
   "codemirror_mode": {
    "name": "ipython",
    "version": 3
   },
   "file_extension": ".py",
   "mimetype": "text/x-python",
   "name": "python",
   "nbconvert_exporter": "python",
   "pygments_lexer": "ipython3",
   "version": "3.9.7"
  },
  "orig_nbformat": 4,
  "vscode": {
   "interpreter": {
    "hash": "288b8210f4de69f33d665dad841045d9f17271500d6746fef794a504d0c49d19"
   }
  }
 },
 "nbformat": 4,
 "nbformat_minor": 2
}
