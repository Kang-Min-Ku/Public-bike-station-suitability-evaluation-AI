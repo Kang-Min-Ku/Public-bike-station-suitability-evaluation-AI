{
 "cells": [
  {
   "cell_type": "code",
   "execution_count": 4,
   "metadata": {},
   "outputs": [],
   "source": [
    "%load_ext autoreload\n",
    "%autoreload 2\n",
    "import numpy as np\n",
    "import pandas as pd\n",
    "import cv2\n",
    "import preprocessing as prep\n",
    "import os"
   ]
  },
  {
   "cell_type": "code",
   "execution_count": null,
   "metadata": {},
   "outputs": [],
   "source": [
    "#crop ex\n",
    "crop_size = (384,384)\n",
    "img = cv2.imread('./data/map/station_301_4_9.png')\n",
    "img = prep.crop_img(img, crop_size)\n",
    "cv2.imwrite(\"./data/crop_map/hello.png\", img)"
   ]
  },
  {
   "cell_type": "code",
   "execution_count": null,
   "metadata": {},
   "outputs": [],
   "source": [
    "os.listdir(dir)"
   ]
  },
  {
   "cell_type": "code",
   "execution_count": null,
   "metadata": {},
   "outputs": [],
   "source": [
    "import re\n",
    "dir = \"./data/false/false/\"\n",
    "for file in os.listdir(dir):\n",
    "    replaced_file = file.replace(\".0\", \"\")\n",
    "    mode = replaced_file[-7]\n",
    "    zoom = replaced_file[-5]\n",
    "    replaced_file = replaced_file[:-7] + zoom + \"_\" + mode + \".png\"\n",
    "    os.rename(dir+file, dir+replaced_file)"
   ]
  },
  {
   "cell_type": "code",
   "execution_count": 1,
   "metadata": {},
   "outputs": [
    {
     "data": {
      "text/plain": [
       "20922"
      ]
     },
     "execution_count": 1,
     "metadata": {},
     "output_type": "execute_result"
    }
   ],
   "source": [
    "import os\n",
    "len(os.listdir('./data/map'))"
   ]
  },
  {
   "cell_type": "code",
   "execution_count": 2,
   "metadata": {},
   "outputs": [
    {
     "data": {
      "text/plain": [
       "16157"
      ]
     },
     "execution_count": 2,
     "metadata": {},
     "output_type": "execute_result"
    }
   ],
   "source": [
    "import os\n",
    "len(os.listdir(\"./data/crop_map\"))"
   ]
  },
  {
   "cell_type": "code",
   "execution_count": 11,
   "metadata": {},
   "outputs": [
    {
     "data": {
      "text/plain": [
       "4461"
      ]
     },
     "execution_count": 11,
     "metadata": {},
     "output_type": "execute_result"
    }
   ],
   "source": [
    "len(set(os.listdir('./data/map')) - set(os.listdir('./data/crop_map/')))"
   ]
  },
  {
   "cell_type": "code",
   "execution_count": 5,
   "metadata": {},
   "outputs": [],
   "source": [
    "#save all cropped images\n",
    "import os\n",
    "path = \"./data/map/\"\n",
    "crop_size = (448,448)\n",
    "for file in set(os.listdir('./data/map')) - set(os.listdir('./data/crop_map/')):\n",
    "    img = cv2.imread(path+file)\n",
    "    img = prep.crop(img, crop_size)\n",
    "    cv2.imwrite(f\"./data/crop_map/{file}\", img)"
   ]
  },
  {
   "cell_type": "code",
   "execution_count": null,
   "metadata": {},
   "outputs": [],
   "source": [
    "#save all cropped images\n",
    "import os\n",
    "path = \"./data/map/\"\n",
    "crop_size = (448,448)\n",
    "for file in os.listdir(path):\n",
    "    img = cv2.imread(path+file)\n",
    "    img = prep.crop(img, crop_size)\n",
    "    cv2.imwrite(f\"./data/crop_map/{file}\", img)"
   ]
  },
  {
   "cell_type": "code",
   "execution_count": null,
   "metadata": {},
   "outputs": [],
   "source": [
    "#save all blurred images\n",
    "import os\n",
    "path = \"./data/crop_map/\"\n",
    "for file in os.listdir(path):\n",
    "    img = cv2.imread(path+file)\n",
    "    img = prep.blur(img, (3,3), 3.)\n",
    "    cv2.imwrite(f\"./data/blur_map/{file}\", img)"
   ]
  },
  {
   "cell_type": "code",
   "execution_count": null,
   "metadata": {},
   "outputs": [],
   "source": [
    "img = cv2.imread(\"./data/del_map/station_true_3420_4_6.png\")\n",
    "loc = (img.shape[1]//2, img.shape[0]//2)\n",
    "img = prep.circle_masking(img, loc, 15, (0,255,0))"
   ]
  },
  {
   "cell_type": "code",
   "execution_count": null,
   "metadata": {},
   "outputs": [],
   "source": [
    "#save all circled images\n",
    "import os\n",
    "path = \"./data/del_map/\"\n",
    "for file in os.listdir(path):\n",
    "    img = cv2.imread(path+file)\n",
    "    loc = (img.shape[1]//2, img.shape[0]//2)\n",
    "    img = prep.circle_masking(img, loc, 15, (0,255,0))\n",
    "    cv2.imwrite(f\"./data/circle_map/{file}\",img)"
   ]
  },
  {
   "cell_type": "code",
   "execution_count": null,
   "metadata": {},
   "outputs": [],
   "source": [
    "cv2.imshow(\"hello\", img)\n",
    "cv2.waitKey(0)\n",
    "cv2.destroyAllWindows()"
   ]
  }
 ],
 "metadata": {
  "kernelspec": {
   "display_name": "Python 3.9.12 ('base')",
   "language": "python",
   "name": "python3"
  },
  "language_info": {
   "codemirror_mode": {
    "name": "ipython",
    "version": 3
   },
   "file_extension": ".py",
   "mimetype": "text/x-python",
   "name": "python",
   "nbconvert_exporter": "python",
   "pygments_lexer": "ipython3",
   "version": "3.9.12"
  },
  "orig_nbformat": 4,
  "vscode": {
   "interpreter": {
    "hash": "3afad5db748faa63050ace944fc812f1861e662171de35e3e59ac0b0f88804a1"
   }
  }
 },
 "nbformat": 4,
 "nbformat_minor": 2
}
